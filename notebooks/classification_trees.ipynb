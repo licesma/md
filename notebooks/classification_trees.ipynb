{
 "cells": [
  {
   "cell_type": "markdown",
   "metadata": {},
   "source": [
    "![](../images/itam_logo.png)\n",
    "\n",
    "M. Sc. Liliana Millán Núñez liliana.millan@itam.mx\n",
    "\n",
    "Octubre 2020\n",
    "\n",
    "### Decision Trees "
   ]
  },
  {
   "cell_type": "code",
   "execution_count": 94,
   "metadata": {},
   "outputs": [],
   "source": [
    "import pandas as pd\n",
    "import numpy as np\n",
    "import matplotlib.pyplot as plt\n",
    "import seaborn as sns"
   ]
  },
  {
   "cell_type": "code",
   "execution_count": 95,
   "metadata": {},
   "outputs": [
    {
     "data": {
      "text/plain": [
       "(887, 8)"
      ]
     },
     "execution_count": 95,
     "metadata": {},
     "output_type": "execute_result"
    }
   ],
   "source": [
    "titanic = pd.read_csv(\"/home/silil/Documents/itam/mineria_datos_licenciatura/data/titanic/titanic.csv\")\n",
    "titanic.shape"
   ]
  },
  {
   "cell_type": "markdown",
   "metadata": {},
   "source": [
    "Cambiamos los nombres de las columnas a minúsculas, sin espacios o caracteres raros."
   ]
  },
  {
   "cell_type": "code",
   "execution_count": 96,
   "metadata": {},
   "outputs": [
    {
     "data": {
      "text/plain": [
       "Index(['survived', 'pclass', 'name', 'sex', 'age', 'siblings/spouses aboard',\n",
       "       'parents/children aboard', 'fare'],\n",
       "      dtype='object')"
      ]
     },
     "execution_count": 96,
     "metadata": {},
     "output_type": "execute_result"
    }
   ],
   "source": [
    "titanic.rename(columns={col: col.lower() for col in titanic.columns.values}, inplace=True)\n",
    "titanic.columns"
   ]
  },
  {
   "cell_type": "code",
   "execution_count": 97,
   "metadata": {},
   "outputs": [
    {
     "data": {
      "text/plain": [
       "Index(['survived', 'pclass', 'name', 'sex', 'age', 'siblings_spouses_aboard',\n",
       "       'parents_children_aboard', 'fare'],\n",
       "      dtype='object')"
      ]
     },
     "execution_count": 97,
     "metadata": {},
     "output_type": "execute_result"
    }
   ],
   "source": [
    "titanic.rename(columns={col: col.replace(' ','_').replace('/','_') for col in titanic.columns.values}, inplace=True)\n",
    "titanic.columns"
   ]
  },
  {
   "cell_type": "code",
   "execution_count": 98,
   "metadata": {},
   "outputs": [
    {
     "data": {
      "text/plain": [
       "survived                     int64\n",
       "pclass                       int64\n",
       "name                        object\n",
       "sex                         object\n",
       "age                        float64\n",
       "siblings_spouses_aboard      int64\n",
       "parents_children_aboard      int64\n",
       "fare                       float64\n",
       "dtype: object"
      ]
     },
     "execution_count": 98,
     "metadata": {},
     "output_type": "execute_result"
    }
   ],
   "source": [
    "titanic.dtypes"
   ]
  },
  {
   "cell_type": "markdown",
   "metadata": {},
   "source": [
    "La implementación de árboles de scikit learn **no** permite ocupar datos de tipo categórico (╯°□°)╯︵ ┻━┻ por lo que tendremos que modificar la variable sexo a un valor de 0 o 1. "
   ]
  },
  {
   "cell_type": "code",
   "execution_count": 99,
   "metadata": {},
   "outputs": [
    {
     "data": {
      "text/html": [
       "<div>\n",
       "<style scoped>\n",
       "    .dataframe tbody tr th:only-of-type {\n",
       "        vertical-align: middle;\n",
       "    }\n",
       "\n",
       "    .dataframe tbody tr th {\n",
       "        vertical-align: top;\n",
       "    }\n",
       "\n",
       "    .dataframe thead th {\n",
       "        text-align: right;\n",
       "    }\n",
       "</style>\n",
       "<table border=\"1\" class=\"dataframe\">\n",
       "  <thead>\n",
       "    <tr style=\"text-align: right;\">\n",
       "      <th></th>\n",
       "      <th>survived</th>\n",
       "      <th>pclass</th>\n",
       "      <th>name</th>\n",
       "      <th>sex</th>\n",
       "      <th>age</th>\n",
       "      <th>siblings_spouses_aboard</th>\n",
       "      <th>parents_children_aboard</th>\n",
       "      <th>fare</th>\n",
       "    </tr>\n",
       "  </thead>\n",
       "  <tbody>\n",
       "    <tr>\n",
       "      <th>0</th>\n",
       "      <td>0</td>\n",
       "      <td>3</td>\n",
       "      <td>Mr. Owen Harris Braund</td>\n",
       "      <td>0</td>\n",
       "      <td>22.0</td>\n",
       "      <td>1</td>\n",
       "      <td>0</td>\n",
       "      <td>7.2500</td>\n",
       "    </tr>\n",
       "    <tr>\n",
       "      <th>1</th>\n",
       "      <td>1</td>\n",
       "      <td>1</td>\n",
       "      <td>Mrs. John Bradley (Florence Briggs Thayer) Cum...</td>\n",
       "      <td>1</td>\n",
       "      <td>38.0</td>\n",
       "      <td>1</td>\n",
       "      <td>0</td>\n",
       "      <td>71.2833</td>\n",
       "    </tr>\n",
       "    <tr>\n",
       "      <th>2</th>\n",
       "      <td>1</td>\n",
       "      <td>3</td>\n",
       "      <td>Miss. Laina Heikkinen</td>\n",
       "      <td>1</td>\n",
       "      <td>26.0</td>\n",
       "      <td>0</td>\n",
       "      <td>0</td>\n",
       "      <td>7.9250</td>\n",
       "    </tr>\n",
       "    <tr>\n",
       "      <th>3</th>\n",
       "      <td>1</td>\n",
       "      <td>1</td>\n",
       "      <td>Mrs. Jacques Heath (Lily May Peel) Futrelle</td>\n",
       "      <td>1</td>\n",
       "      <td>35.0</td>\n",
       "      <td>1</td>\n",
       "      <td>0</td>\n",
       "      <td>53.1000</td>\n",
       "    </tr>\n",
       "    <tr>\n",
       "      <th>4</th>\n",
       "      <td>0</td>\n",
       "      <td>3</td>\n",
       "      <td>Mr. William Henry Allen</td>\n",
       "      <td>0</td>\n",
       "      <td>35.0</td>\n",
       "      <td>0</td>\n",
       "      <td>0</td>\n",
       "      <td>8.0500</td>\n",
       "    </tr>\n",
       "  </tbody>\n",
       "</table>\n",
       "</div>"
      ],
      "text/plain": [
       "   survived  pclass                                               name sex  \\\n",
       "0         0       3                             Mr. Owen Harris Braund   0   \n",
       "1         1       1  Mrs. John Bradley (Florence Briggs Thayer) Cum...   1   \n",
       "2         1       3                              Miss. Laina Heikkinen   1   \n",
       "3         1       1        Mrs. Jacques Heath (Lily May Peel) Futrelle   1   \n",
       "4         0       3                            Mr. William Henry Allen   0   \n",
       "\n",
       "    age  siblings_spouses_aboard  parents_children_aboard     fare  \n",
       "0  22.0                        1                        0   7.2500  \n",
       "1  38.0                        1                        0  71.2833  \n",
       "2  26.0                        0                        0   7.9250  \n",
       "3  35.0                        1                        0  53.1000  \n",
       "4  35.0                        0                        0   8.0500  "
      ]
     },
     "execution_count": 99,
     "metadata": {},
     "output_type": "execute_result"
    }
   ],
   "source": [
    "## Transformación de variables CART no acepta valores categóricos \n",
    "titanic.sex.mask(titanic.sex == 'female','1', inplace=True)\n",
    "titanic.sex.mask(titanic.sex == 'male', '0', inplace=True)\n",
    "titanic.head()"
   ]
  },
  {
   "cell_type": "code",
   "execution_count": 100,
   "metadata": {},
   "outputs": [
    {
     "data": {
      "text/plain": [
       "(887,)"
      ]
     },
     "execution_count": 100,
     "metadata": {},
     "output_type": "execute_result"
    }
   ],
   "source": [
    "y = titanic.survived\n",
    "y.shape"
   ]
  },
  {
   "cell_type": "markdown",
   "metadata": {},
   "source": [
    "Seleccionamos las variables que ocuparemos para predecir si alguien sobrevivirá o no. \n",
    "\n",
    "¿Por qué no consideramos el nombre?"
   ]
  },
  {
   "cell_type": "code",
   "execution_count": 101,
   "metadata": {},
   "outputs": [
    {
     "data": {
      "text/plain": [
       "Index(['pclass', 'sex', 'age', 'siblings_spouses_aboard',\n",
       "       'parents_children_aboard', 'fare'],\n",
       "      dtype='object')"
      ]
     },
     "execution_count": 101,
     "metadata": {},
     "output_type": "execute_result"
    }
   ],
   "source": [
    "X = titanic.filter(['pclass','sex','age','siblings_spouses_aboard','parents_children_aboard','fare'], axis=1)\n",
    "X.columns"
   ]
  },
  {
   "cell_type": "markdown",
   "metadata": {},
   "source": [
    "Hagamos la separación de nuestro set de datos en train y test. \n",
    "\n",
    "¿Se puede hacer aleatorio?"
   ]
  },
  {
   "cell_type": "code",
   "execution_count": 102,
   "metadata": {},
   "outputs": [],
   "source": [
    "np.random.seed(201026)"
   ]
  },
  {
   "cell_type": "code",
   "execution_count": 103,
   "metadata": {},
   "outputs": [
    {
     "name": "stdout",
     "output_type": "stream",
     "text": [
      "\n",
      "X_train, y_train:  ((620, 6), (620,))\n",
      "\n",
      "X_test, y_test:  ((267, 6), (267,))\n"
     ]
    }
   ],
   "source": [
    "from sklearn.model_selection import train_test_split\n",
    "\n",
    "# train test split\n",
    "X_train, X_test, y_train, y_test =  train_test_split(X, y, test_size=0.3, random_state=111)\n",
    "print(\"\\nX_train, y_train: \", (X_train.shape, y_train.shape))\n",
    "print(\"\\nX_test, y_test: \", (X_test.shape, y_test.shape))"
   ]
  },
  {
   "cell_type": "code",
   "execution_count": 104,
   "metadata": {},
   "outputs": [
    {
     "data": {
      "text/plain": [
       "DecisionTreeClassifier(min_samples_leaf=5, random_state=123)"
      ]
     },
     "execution_count": 104,
     "metadata": {},
     "output_type": "execute_result"
    }
   ],
   "source": [
    "from sklearn.tree import DecisionTreeClassifier, plot_tree\n",
    "\n",
    "import matplotlib.pyplot as plt\n",
    "\n",
    "%matplotlib inline\n",
    "\n",
    "# configuramos los hiperparámetros de nuestro árbol. En nuesro caso definiremos el criterio de \n",
    "# ganancia de información y cuántos elementos queremos que tenga una hoja. Puedes ver todos los hiperparámetros\n",
    "# que tiene un árbol en la API de referencia de scikit-learn (ver Referencias).\n",
    "dt = DecisionTreeClassifier(criterion=\"gini\", min_samples_leaf=5, random_state=123)\n",
    "\n",
    "# Instanciaremos y entrenaremos el árbol con nuestros datos de entrenamiento\n",
    "dt.fit(X_train, y_train)"
   ]
  },
  {
   "cell_type": "markdown",
   "metadata": {},
   "source": [
    "Podemos conocer qué variables son los que están aportando mayor información para predecir:"
   ]
  },
  {
   "cell_type": "code",
   "execution_count": 105,
   "metadata": {},
   "outputs": [
    {
     "data": {
      "text/plain": [
       "array([0.10579295, 0.43408322, 0.23854846, 0.02833762, 0.00787941,\n",
       "       0.18535834])"
      ]
     },
     "execution_count": 105,
     "metadata": {},
     "output_type": "execute_result"
    }
   ],
   "source": [
    "dt.feature_importances_"
   ]
  },
  {
   "cell_type": "markdown",
   "metadata": {},
   "source": [
    "Como verás solo te regresa por columna cuál es el score de importancia, dado que no necesariamente sabemos cuál es el órden de las columnas, es mejor ver la importancia a través del siguiente código: "
   ]
  },
  {
   "cell_type": "code",
   "execution_count": 106,
   "metadata": {},
   "outputs": [],
   "source": [
    "feature_importances_df = pd.DataFrame({'feature': X.columns.values, \n",
    "                                       'importance': dt.feature_importances_})"
   ]
  },
  {
   "cell_type": "code",
   "execution_count": 107,
   "metadata": {},
   "outputs": [
    {
     "data": {
      "text/html": [
       "<div>\n",
       "<style scoped>\n",
       "    .dataframe tbody tr th:only-of-type {\n",
       "        vertical-align: middle;\n",
       "    }\n",
       "\n",
       "    .dataframe tbody tr th {\n",
       "        vertical-align: top;\n",
       "    }\n",
       "\n",
       "    .dataframe thead th {\n",
       "        text-align: right;\n",
       "    }\n",
       "</style>\n",
       "<table border=\"1\" class=\"dataframe\">\n",
       "  <thead>\n",
       "    <tr style=\"text-align: right;\">\n",
       "      <th></th>\n",
       "      <th>feature</th>\n",
       "      <th>importance</th>\n",
       "    </tr>\n",
       "  </thead>\n",
       "  <tbody>\n",
       "    <tr>\n",
       "      <th>1</th>\n",
       "      <td>sex</td>\n",
       "      <td>0.434083</td>\n",
       "    </tr>\n",
       "    <tr>\n",
       "      <th>2</th>\n",
       "      <td>age</td>\n",
       "      <td>0.238548</td>\n",
       "    </tr>\n",
       "    <tr>\n",
       "      <th>5</th>\n",
       "      <td>fare</td>\n",
       "      <td>0.185358</td>\n",
       "    </tr>\n",
       "    <tr>\n",
       "      <th>0</th>\n",
       "      <td>pclass</td>\n",
       "      <td>0.105793</td>\n",
       "    </tr>\n",
       "    <tr>\n",
       "      <th>3</th>\n",
       "      <td>siblings_spouses_aboard</td>\n",
       "      <td>0.028338</td>\n",
       "    </tr>\n",
       "    <tr>\n",
       "      <th>4</th>\n",
       "      <td>parents_children_aboard</td>\n",
       "      <td>0.007879</td>\n",
       "    </tr>\n",
       "  </tbody>\n",
       "</table>\n",
       "</div>"
      ],
      "text/plain": [
       "                   feature  importance\n",
       "1                      sex    0.434083\n",
       "2                      age    0.238548\n",
       "5                     fare    0.185358\n",
       "0                   pclass    0.105793\n",
       "3  siblings_spouses_aboard    0.028338\n",
       "4  parents_children_aboard    0.007879"
      ]
     },
     "execution_count": 107,
     "metadata": {},
     "output_type": "execute_result"
    }
   ],
   "source": [
    "feature_importances_df.sort_values(by=\"importance\", ascending=False)"
   ]
  },
  {
   "cell_type": "markdown",
   "metadata": {},
   "source": [
    "Ahora podemos ver que la variable que más información está aportando a la clasificación de sobrevivencia o no es el sexo y la edad del pasajero. Eso significa que la raíz de nuestro árbol es el sexo.\n",
    "\n",
    "También podemos ver la construcción del árbol: "
   ]
  },
  {
   "cell_type": "code",
   "execution_count": 108,
   "metadata": {},
   "outputs": [
    {
     "data": {
      "image/png": "[encoded data removed]",
      "text/plain": [
       "<Figure size 432x288 with 1 Axes>"
      ]
     },
     "metadata": {
      "needs_background": "light"
     },
     "output_type": "display_data"
    }
   ],
   "source": [
    "plt.clf() # nos permite borrar cualquier figura existente hasta este momento para tener un canvas en blanco\n",
    "plot_tree(dt)\n",
    "plt.show()"
   ]
  },
  {
   "cell_type": "markdown",
   "metadata": {},
   "source": [
    "También podemos obetener las reglas generadas por el árbol"
   ]
  },
  {
   "cell_type": "code",
   "execution_count": 109,
   "metadata": {},
   "outputs": [
    {
     "name": "stdout",
     "output_type": "stream",
     "text": [
      "|--- sex <= 0.50\n",
      "|   |--- fare <= 26.27\n",
      "|   |   |--- age <= 13.50\n",
      "|   |   |   |--- fare <= 15.57\n",
      "|   |   |   |   |--- class: 1\n",
      "|   |   |   |--- fare >  15.57\n",
      "|   |   |   |   |--- class: 1\n",
      "|   |   |--- age >  13.50\n",
      "|   |   |   |--- fare <= 7.91\n",
      "|   |   |   |   |--- age <= 32.50\n",
      "|   |   |   |   |   |--- age <= 24.50\n",
      "|   |   |   |   |   |   |--- fare <= 7.24\n",
      "|   |   |   |   |   |   |   |--- fare <= 7.17\n",
      "|   |   |   |   |   |   |   |   |--- class: 0\n",
      "|   |   |   |   |   |   |   |--- fare >  7.17\n",
      "|   |   |   |   |   |   |   |   |--- class: 0\n",
      "|   |   |   |   |   |   |--- fare >  7.24\n",
      "|   |   |   |   |   |   |   |--- class: 0\n",
      "|   |   |   |   |   |--- age >  24.50\n",
      "|   |   |   |   |   |   |--- fare <= 7.87\n",
      "|   |   |   |   |   |   |   |--- fare <= 7.76\n",
      "|   |   |   |   |   |   |   |   |--- fare <= 7.23\n",
      "|   |   |   |   |   |   |   |   |   |--- class: 0\n",
      "|   |   |   |   |   |   |   |   |--- fare >  7.23\n",
      "|   |   |   |   |   |   |   |   |   |--- class: 0\n",
      "|   |   |   |   |   |   |   |--- fare >  7.76\n",
      "|   |   |   |   |   |   |   |   |--- class: 0\n",
      "|   |   |   |   |   |   |--- fare >  7.87\n",
      "|   |   |   |   |   |   |   |--- class: 0\n",
      "|   |   |   |   |--- age >  32.50\n",
      "|   |   |   |   |   |--- class: 0\n",
      "|   |   |   |--- fare >  7.91\n",
      "|   |   |   |   |--- fare <= 7.99\n",
      "|   |   |   |   |   |--- class: 0\n",
      "|   |   |   |   |--- fare >  7.99\n",
      "|   |   |   |   |   |--- fare <= 23.35\n",
      "|   |   |   |   |   |   |--- age <= 46.00\n",
      "|   |   |   |   |   |   |   |--- age <= 41.50\n",
      "|   |   |   |   |   |   |   |   |--- age <= 34.50\n",
      "|   |   |   |   |   |   |   |   |   |--- age <= 30.75\n",
      "|   |   |   |   |   |   |   |   |   |   |--- fare <= 18.39\n",
      "|   |   |   |   |   |   |   |   |   |   |   |--- truncated branch of depth 5\n",
      "|   |   |   |   |   |   |   |   |   |   |--- fare >  18.39\n",
      "|   |   |   |   |   |   |   |   |   |   |   |--- class: 0\n",
      "|   |   |   |   |   |   |   |   |   |--- age >  30.75\n",
      "|   |   |   |   |   |   |   |   |   |   |--- fare <= 12.64\n",
      "|   |   |   |   |   |   |   |   |   |   |   |--- class: 0\n",
      "|   |   |   |   |   |   |   |   |   |   |--- fare >  12.64\n",
      "|   |   |   |   |   |   |   |   |   |   |   |--- class: 0\n",
      "|   |   |   |   |   |   |   |   |--- age >  34.50\n",
      "|   |   |   |   |   |   |   |   |   |--- class: 0\n",
      "|   |   |   |   |   |   |   |--- age >  41.50\n",
      "|   |   |   |   |   |   |   |   |--- class: 0\n",
      "|   |   |   |   |   |   |--- age >  46.00\n",
      "|   |   |   |   |   |   |   |--- class: 0\n",
      "|   |   |   |   |   |--- fare >  23.35\n",
      "|   |   |   |   |   |   |--- class: 0\n",
      "|   |--- fare >  26.27\n",
      "|   |   |--- siblings_spouses_aboard <= 2.50\n",
      "|   |   |   |--- age <= 37.50\n",
      "|   |   |   |   |--- fare <= 27.14\n",
      "|   |   |   |   |   |--- class: 1\n",
      "|   |   |   |   |--- fare >  27.14\n",
      "|   |   |   |   |   |--- age <= 13.50\n",
      "|   |   |   |   |   |   |--- class: 1\n",
      "|   |   |   |   |   |--- age >  13.50\n",
      "|   |   |   |   |   |   |--- fare <= 52.28\n",
      "|   |   |   |   |   |   |   |--- fare <= 30.75\n",
      "|   |   |   |   |   |   |   |   |--- class: 1\n",
      "|   |   |   |   |   |   |   |--- fare >  30.75\n",
      "|   |   |   |   |   |   |   |   |--- class: 0\n",
      "|   |   |   |   |   |   |--- fare >  52.28\n",
      "|   |   |   |   |   |   |   |--- age <= 24.50\n",
      "|   |   |   |   |   |   |   |   |--- class: 0\n",
      "|   |   |   |   |   |   |   |--- age >  24.50\n",
      "|   |   |   |   |   |   |   |   |--- age <= 30.00\n",
      "|   |   |   |   |   |   |   |   |   |--- class: 1\n",
      "|   |   |   |   |   |   |   |   |--- age >  30.00\n",
      "|   |   |   |   |   |   |   |   |   |--- siblings_spouses_aboard <= 0.50\n",
      "|   |   |   |   |   |   |   |   |   |   |--- class: 1\n",
      "|   |   |   |   |   |   |   |   |   |--- siblings_spouses_aboard >  0.50\n",
      "|   |   |   |   |   |   |   |   |   |   |--- class: 1\n",
      "|   |   |   |--- age >  37.50\n",
      "|   |   |   |   |--- age <= 60.50\n",
      "|   |   |   |   |   |--- age <= 45.75\n",
      "|   |   |   |   |   |   |--- age <= 42.50\n",
      "|   |   |   |   |   |   |   |--- class: 0\n",
      "|   |   |   |   |   |   |--- age >  42.50\n",
      "|   |   |   |   |   |   |   |--- class: 0\n",
      "|   |   |   |   |   |--- age >  45.75\n",
      "|   |   |   |   |   |   |--- age <= 50.50\n",
      "|   |   |   |   |   |   |   |--- age <= 47.50\n",
      "|   |   |   |   |   |   |   |   |--- class: 0\n",
      "|   |   |   |   |   |   |   |--- age >  47.50\n",
      "|   |   |   |   |   |   |   |   |--- class: 1\n",
      "|   |   |   |   |   |   |--- age >  50.50\n",
      "|   |   |   |   |   |   |   |--- age <= 55.50\n",
      "|   |   |   |   |   |   |   |   |--- class: 0\n",
      "|   |   |   |   |   |   |   |--- age >  55.50\n",
      "|   |   |   |   |   |   |   |   |--- class: 0\n",
      "|   |   |   |   |--- age >  60.50\n",
      "|   |   |   |   |   |--- class: 0\n",
      "|   |   |--- siblings_spouses_aboard >  2.50\n",
      "|   |   |   |--- age <= 5.50\n",
      "|   |   |   |   |--- class: 0\n",
      "|   |   |   |--- age >  5.50\n",
      "|   |   |   |   |--- class: 0\n",
      "|--- sex >  0.50\n",
      "|   |--- pclass <= 2.50\n",
      "|   |   |--- fare <= 28.86\n",
      "|   |   |   |--- age <= 43.00\n",
      "|   |   |   |   |--- siblings_spouses_aboard <= 0.50\n",
      "|   |   |   |   |   |--- class: 1\n",
      "|   |   |   |   |--- siblings_spouses_aboard >  0.50\n",
      "|   |   |   |   |   |--- age <= 27.50\n",
      "|   |   |   |   |   |   |--- class: 1\n",
      "|   |   |   |   |   |--- age >  27.50\n",
      "|   |   |   |   |   |   |--- class: 1\n",
      "|   |   |   |--- age >  43.00\n",
      "|   |   |   |   |--- fare <= 19.50\n",
      "|   |   |   |   |   |--- class: 1\n",
      "|   |   |   |   |--- fare >  19.50\n",
      "|   |   |   |   |   |--- class: 1\n",
      "|   |   |--- fare >  28.86\n",
      "|   |   |   |--- parents_children_aboard <= 1.50\n",
      "|   |   |   |   |--- class: 1\n",
      "|   |   |   |--- parents_children_aboard >  1.50\n",
      "|   |   |   |   |--- class: 1\n",
      "|   |--- pclass >  2.50\n",
      "|   |   |--- fare <= 19.74\n",
      "|   |   |   |--- age <= 36.50\n",
      "|   |   |   |   |--- age <= 32.50\n",
      "|   |   |   |   |   |--- age <= 27.50\n",
      "|   |   |   |   |   |   |--- age <= 25.50\n",
      "|   |   |   |   |   |   |   |--- fare <= 7.90\n",
      "|   |   |   |   |   |   |   |   |--- age <= 18.50\n",
      "|   |   |   |   |   |   |   |   |   |--- class: 1\n",
      "|   |   |   |   |   |   |   |   |--- age >  18.50\n",
      "|   |   |   |   |   |   |   |   |   |--- fare <= 7.76\n",
      "|   |   |   |   |   |   |   |   |   |   |--- class: 1\n",
      "|   |   |   |   |   |   |   |   |   |--- fare >  7.76\n",
      "|   |   |   |   |   |   |   |   |   |   |--- class: 1\n",
      "|   |   |   |   |   |   |   |--- fare >  7.90\n",
      "|   |   |   |   |   |   |   |   |--- age <= 7.00\n",
      "|   |   |   |   |   |   |   |   |   |--- class: 1\n",
      "|   |   |   |   |   |   |   |   |--- age >  7.00\n",
      "|   |   |   |   |   |   |   |   |   |--- parents_children_aboard <= 0.50\n",
      "|   |   |   |   |   |   |   |   |   |   |--- fare <= 14.46\n",
      "|   |   |   |   |   |   |   |   |   |   |   |--- class: 0\n",
      "|   |   |   |   |   |   |   |   |   |   |--- fare >  14.46\n",
      "|   |   |   |   |   |   |   |   |   |   |   |--- class: 0\n",
      "|   |   |   |   |   |   |   |   |   |--- parents_children_aboard >  0.50\n",
      "|   |   |   |   |   |   |   |   |   |   |--- class: 1\n",
      "|   |   |   |   |   |   |--- age >  25.50\n",
      "|   |   |   |   |   |   |   |--- class: 1\n",
      "|   |   |   |   |   |--- age >  27.50\n",
      "|   |   |   |   |   |   |--- fare <= 8.67\n",
      "|   |   |   |   |   |   |   |--- class: 0\n",
      "|   |   |   |   |   |   |--- fare >  8.67\n",
      "|   |   |   |   |   |   |   |--- class: 0\n",
      "|   |   |   |   |--- age >  32.50\n",
      "|   |   |   |   |   |--- class: 1\n",
      "|   |   |   |--- age >  36.50\n",
      "|   |   |   |   |--- class: 0\n",
      "|   |   |--- fare >  19.74\n",
      "|   |   |   |--- siblings_spouses_aboard <= 2.00\n",
      "|   |   |   |   |--- age <= 38.50\n",
      "|   |   |   |   |   |--- class: 0\n",
      "|   |   |   |   |--- age >  38.50\n",
      "|   |   |   |   |   |--- class: 0\n",
      "|   |   |   |--- siblings_spouses_aboard >  2.00\n",
      "|   |   |   |   |--- age <= 7.00\n",
      "|   |   |   |   |   |--- class: 0\n",
      "|   |   |   |   |--- age >  7.00\n",
      "|   |   |   |   |   |--- class: 0\n",
      "\n"
     ]
    }
   ],
   "source": [
    "from sklearn.tree import export_text\n",
    "\n",
    "decisions = export_text(dt, feature_names=X.columns.to_list())\n",
    "print(decisions)"
   ]
  },
  {
   "cell_type": "markdown",
   "metadata": {},
   "source": [
    "Dado que decidimos hacer un hold-out solo tenemos un set de pruebas para \"probar\" por lo que ocuparemos ese set de pruebas para poder ver el desempeño del modelo: \n",
    "\n",
    "+ Accuracy\n",
    "+ ROC y AUC\n",
    "+ Matriz de confusión\n",
    "+ Precision\n",
    "+ Recall\n",
    "+ F1-score\n",
    "\n",
    "Primero haremos la predicción sobre el set de pruebas. Si solo pedimos predict, nos regresará las etiquetas asociadas a la predicción, sin embargo el *threshold* no lo escogimos nosotros y no sabemos si en negocio eso tiene sentido. Es por eso, que podemos pedir el score de la predicción para que nosotros decidamos el punto de corte o *threshold* que mejor se acomoda al problema de negocio que queremos resolver."
   ]
  },
  {
   "cell_type": "code",
   "execution_count": 110,
   "metadata": {},
   "outputs": [
    {
     "data": {
      "text/plain": [
       "array([0, 0, 0, 0, 1, 1, 1, 1, 1, 0])"
      ]
     },
     "execution_count": 110,
     "metadata": {},
     "output_type": "execute_result"
    }
   ],
   "source": [
    "# etiquetas asociadas\n",
    "predictions_labels = dt.predict(X_test)\n",
    "predictions_labels[:10]"
   ]
  },
  {
   "cell_type": "code",
   "execution_count": 111,
   "metadata": {},
   "outputs": [
    {
     "data": {
      "text/plain": [
       "array([[0.5       , 0.5       ],\n",
       "       [0.85714286, 0.14285714],\n",
       "       [0.66666667, 0.33333333],\n",
       "       [1.        , 0.        ],\n",
       "       [0.4       , 0.6       ],\n",
       "       [0.        , 1.        ],\n",
       "       [0.33333333, 0.66666667],\n",
       "       [0.28571429, 0.71428571],\n",
       "       [0.42857143, 0.57142857],\n",
       "       [1.        , 0.        ]])"
      ]
     },
     "execution_count": 111,
     "metadata": {},
     "output_type": "execute_result"
    }
   ],
   "source": [
    "# scores asociados, te regresará un score. Para ver a quién pertenece cada score puedes ocupar el atributo classes_\n",
    "predictions_scores = dt.predict_proba(X_test)\n",
    "predictions_scores[:10]"
   ]
  },
  {
   "cell_type": "code",
   "execution_count": 112,
   "metadata": {},
   "outputs": [
    {
     "data": {
      "text/plain": [
       "array([0, 1])"
      ]
     },
     "execution_count": 112,
     "metadata": {},
     "output_type": "execute_result"
    }
   ],
   "source": [
    "dt.classes_"
   ]
  },
  {
   "cell_type": "markdown",
   "metadata": {},
   "source": [
    "Esto significa que la primer columna de scores están asociados a la clase 0 (no sobrevivió), y la segunda a la clase 1 (sobrevivió).\n"
   ]
  },
  {
   "cell_type": "code",
   "execution_count": 113,
   "metadata": {},
   "outputs": [
    {
     "data": {
      "text/plain": [
       "0    0.614431\n",
       "1    0.385569\n",
       "Name: survived, dtype: float64"
      ]
     },
     "execution_count": 113,
     "metadata": {},
     "output_type": "execute_result"
    }
   ],
   "source": [
    "titanic.survived.value_counts(normalize=True)"
   ]
  },
  {
   "cell_type": "markdown",
   "metadata": {},
   "source": [
    "#### Accuracy "
   ]
  },
  {
   "cell_type": "code",
   "execution_count": 114,
   "metadata": {},
   "outputs": [
    {
     "data": {
      "text/plain": [
       "0.8202247191011236"
      ]
     },
     "execution_count": 114,
     "metadata": {},
     "output_type": "execute_result"
    }
   ],
   "source": [
    "from sklearn.metrics import accuracy_score\n",
    "\n",
    "accuracy_score(y_test, predictions_labels)"
   ]
  },
  {
   "cell_type": "markdown",
   "metadata": {},
   "source": [
    "#### ROC y AUC"
   ]
  },
  {
   "cell_type": "code",
   "execution_count": 115,
   "metadata": {
    "scrolled": true
   },
   "outputs": [
    {
     "data": {
      "image/png": "[encoded data removed]",
      "text/plain": [
       "<Figure size 432x288 with 1 Axes>"
      ]
     },
     "metadata": {
      "needs_background": "light"
     },
     "output_type": "display_data"
    }
   ],
   "source": [
    "from sklearn.metrics import roc_auc_score, roc_curve \n",
    "\n",
    "# tenemos que pasar primero la etiqueta real y luego el score asociado.\n",
    "# pos_label nos permite definir cuál es la etiqueta positiva (para el cálculo de lo TP, FP, TN y FN)\n",
    "# la salida de roc_curve son los valores de la x (FPR), los valores de la y (TPR) y el threshold de cada punto en la curva.\n",
    "fpr, tpr, thresholds_roc = roc_curve(y_test, predictions_scores[:,1], pos_label=1)\n",
    "\n",
    "plt.clf()\n",
    "plt.plot([0, 1], [0, 1], 'k--', c=\"red\")\n",
    "plt.plot(fpr, tpr)\n",
    "plt.title(\"ROC curve\")\n",
    "plt.xlabel(\"fpr\")\n",
    "plt.ylabel(\"tpr\")\n",
    "plt.show()"
   ]
  },
  {
   "cell_type": "code",
   "execution_count": 116,
   "metadata": {},
   "outputs": [
    {
     "data": {
      "text/plain": [
       "0.8321575543797766"
      ]
     },
     "execution_count": 116,
     "metadata": {},
     "output_type": "execute_result"
    }
   ],
   "source": [
    "auc = roc_auc_score(y_test, predictions_scores[:,1])\n",
    "auc"
   ]
  },
  {
   "cell_type": "markdown",
   "metadata": {},
   "source": [
    "#### Matriz de confusión\n",
    "\n",
    "De la documentación de sklearn de [confusion_matrix](https://scikit-learn.org/stable/modules/generated/sklearn.metrics.confusion_matrix.html#sklearn.metrics.confusion_matrix)\n",
    "\n",
    "+ [0,0]: True negatives\n",
    "+ [0,1]: False positives \n",
    "+ [1,0]: False negatives\n",
    "+ [1,1]: True positives"
   ]
  },
  {
   "cell_type": "code",
   "execution_count": 117,
   "metadata": {},
   "outputs": [
    {
     "data": {
      "text/plain": [
       "array([[145,  17],\n",
       "       [ 31,  74]])"
      ]
     },
     "execution_count": 117,
     "metadata": {},
     "output_type": "execute_result"
    }
   ],
   "source": [
    "from sklearn.metrics import confusion_matrix\n",
    "\n",
    "confusion_matrix(y_test, predictions_labels)"
   ]
  },
  {
   "cell_type": "markdown",
   "metadata": {},
   "source": [
    "+ ¿Cuántos FN tenemos? \n",
    "+ ¿Cuántos TP tenemos? \n",
    "\n",
    "¿Está \"bien\" el modelo de acuerdo a nuestro objetivo?\n",
    "\n",
    "#### Precision y recall"
   ]
  },
  {
   "cell_type": "code",
   "execution_count": 118,
   "metadata": {},
   "outputs": [
    {
     "data": {
      "text/plain": [
       "(array([0.39325843, 0.51744186, 0.54601227, 0.57142857, 0.57432432,\n",
       "        0.61594203, 0.62043796, 0.63358779, 0.66935484, 0.75229358,\n",
       "        0.76699029, 0.81318681, 0.85882353, 0.86075949, 0.85714286,\n",
       "        0.86567164, 0.89230769, 0.88709677, 0.93617021, 0.93478261,\n",
       "        1.        ]),\n",
       " array([1.        , 0.84761905, 0.84761905, 0.83809524, 0.80952381,\n",
       "        0.80952381, 0.80952381, 0.79047619, 0.79047619, 0.78095238,\n",
       "        0.75238095, 0.7047619 , 0.6952381 , 0.64761905, 0.57142857,\n",
       "        0.55238095, 0.55238095, 0.52380952, 0.41904762, 0.40952381,\n",
       "        0.        ]),\n",
       " array([0.        , 0.11111111, 0.14285714, 0.16666667, 0.2       ,\n",
       "        0.22222222, 0.25      , 0.28571429, 0.33333333, 0.4       ,\n",
       "        0.5       , 0.57142857, 0.6       , 0.66666667, 0.71428571,\n",
       "        0.75      , 0.8       , 0.875     , 0.88888889, 1.        ]))"
      ]
     },
     "execution_count": 118,
     "metadata": {},
     "output_type": "execute_result"
    }
   ],
   "source": [
    "from sklearn.metrics import precision_recall_curve\n",
    "\n",
    "precision, recall, thresholds = precision_recall_curve(y_test, predictions_scores[:,1])\n",
    "\n",
    "(precision, recall, thresholds)"
   ]
  },
  {
   "cell_type": "code",
   "execution_count": 119,
   "metadata": {},
   "outputs": [
    {
     "data": {
      "text/plain": [
       "<Figure size 432x288 with 0 Axes>"
      ]
     },
     "metadata": {},
     "output_type": "display_data"
    },
    {
     "data": {
      "image/png": "[encoded data removed]",
      "text/plain": [
       "<Figure size 432x288 with 1 Axes>"
      ]
     },
     "metadata": {
      "needs_background": "light"
     },
     "output_type": "display_data"
    }
   ],
   "source": [
    "from sklearn.metrics import plot_precision_recall_curve\n",
    "\n",
    "plt.clf()\n",
    "plot_precision_recall_curve(dt, X_test, y_test)\n",
    "plt.title(\"Precision-recall curve\")\n",
    "plt.xlabel(\"recall\")\n",
    "plt.ylabel(\"precision\")\n",
    "plt.show()"
   ]
  },
  {
   "cell_type": "markdown",
   "metadata": {},
   "source": [
    "#### F1 score\n",
    "\n",
    "En particular la implementación que tiene sklearn nos queda corta pues solo obtiene el f1 score general, nosotros lo queremos obtener por cada punto en la curva ROC. "
   ]
  },
  {
   "cell_type": "markdown",
   "metadata": {},
   "source": [
    "Pero nosotros podemos hacer nuestra propia implementación"
   ]
  },
  {
   "cell_type": "code",
   "execution_count": 120,
   "metadata": {},
   "outputs": [
    {
     "data": {
      "text/plain": [
       "0.7551020408163266"
      ]
     },
     "execution_count": 120,
     "metadata": {},
     "output_type": "execute_result"
    }
   ],
   "source": [
    "from sklearn.metrics import f1_score\n",
    "\n",
    "f1_score = f1_score(y_test, predictions_labels, labels=[0,1],  pos_label=1)\n",
    "f1_score"
   ]
  },
  {
   "cell_type": "markdown",
   "metadata": {},
   "source": [
    "#### Punto de corte del score del modelo "
   ]
  },
  {
   "cell_type": "code",
   "execution_count": 121,
   "metadata": {},
   "outputs": [],
   "source": [
    "metricas_df = pd.DataFrame({'thresholds': thresholds_roc, 'tpr': tpr, 'fpr': fpr})"
   ]
  },
  {
   "cell_type": "code",
   "execution_count": 122,
   "metadata": {},
   "outputs": [
    {
     "data": {
      "text/html": [
       "<div>\n",
       "<style scoped>\n",
       "    .dataframe tbody tr th:only-of-type {\n",
       "        vertical-align: middle;\n",
       "    }\n",
       "\n",
       "    .dataframe tbody tr th {\n",
       "        vertical-align: top;\n",
       "    }\n",
       "\n",
       "    .dataframe thead th {\n",
       "        text-align: right;\n",
       "    }\n",
       "</style>\n",
       "<table border=\"1\" class=\"dataframe\">\n",
       "  <thead>\n",
       "    <tr style=\"text-align: right;\">\n",
       "      <th></th>\n",
       "      <th>thresholds</th>\n",
       "      <th>tpr</th>\n",
       "      <th>fpr</th>\n",
       "    </tr>\n",
       "  </thead>\n",
       "  <tbody>\n",
       "    <tr>\n",
       "      <th>0</th>\n",
       "      <td>2.000000</td>\n",
       "      <td>0.000000</td>\n",
       "      <td>0.000000</td>\n",
       "    </tr>\n",
       "    <tr>\n",
       "      <th>1</th>\n",
       "      <td>1.000000</td>\n",
       "      <td>0.409524</td>\n",
       "      <td>0.018519</td>\n",
       "    </tr>\n",
       "    <tr>\n",
       "      <th>2</th>\n",
       "      <td>0.888889</td>\n",
       "      <td>0.419048</td>\n",
       "      <td>0.018519</td>\n",
       "    </tr>\n",
       "    <tr>\n",
       "      <th>3</th>\n",
       "      <td>0.875000</td>\n",
       "      <td>0.523810</td>\n",
       "      <td>0.043210</td>\n",
       "    </tr>\n",
       "    <tr>\n",
       "      <th>4</th>\n",
       "      <td>0.800000</td>\n",
       "      <td>0.552381</td>\n",
       "      <td>0.043210</td>\n",
       "    </tr>\n",
       "    <tr>\n",
       "      <th>5</th>\n",
       "      <td>0.750000</td>\n",
       "      <td>0.552381</td>\n",
       "      <td>0.055556</td>\n",
       "    </tr>\n",
       "    <tr>\n",
       "      <th>6</th>\n",
       "      <td>0.714286</td>\n",
       "      <td>0.571429</td>\n",
       "      <td>0.061728</td>\n",
       "    </tr>\n",
       "    <tr>\n",
       "      <th>7</th>\n",
       "      <td>0.666667</td>\n",
       "      <td>0.647619</td>\n",
       "      <td>0.067901</td>\n",
       "    </tr>\n",
       "    <tr>\n",
       "      <th>8</th>\n",
       "      <td>0.600000</td>\n",
       "      <td>0.695238</td>\n",
       "      <td>0.074074</td>\n",
       "    </tr>\n",
       "    <tr>\n",
       "      <th>9</th>\n",
       "      <td>0.571429</td>\n",
       "      <td>0.704762</td>\n",
       "      <td>0.104938</td>\n",
       "    </tr>\n",
       "    <tr>\n",
       "      <th>10</th>\n",
       "      <td>0.500000</td>\n",
       "      <td>0.752381</td>\n",
       "      <td>0.148148</td>\n",
       "    </tr>\n",
       "    <tr>\n",
       "      <th>11</th>\n",
       "      <td>0.400000</td>\n",
       "      <td>0.780952</td>\n",
       "      <td>0.166667</td>\n",
       "    </tr>\n",
       "    <tr>\n",
       "      <th>12</th>\n",
       "      <td>0.333333</td>\n",
       "      <td>0.790476</td>\n",
       "      <td>0.253086</td>\n",
       "    </tr>\n",
       "    <tr>\n",
       "      <th>13</th>\n",
       "      <td>0.285714</td>\n",
       "      <td>0.790476</td>\n",
       "      <td>0.296296</td>\n",
       "    </tr>\n",
       "    <tr>\n",
       "      <th>14</th>\n",
       "      <td>0.250000</td>\n",
       "      <td>0.809524</td>\n",
       "      <td>0.320988</td>\n",
       "    </tr>\n",
       "    <tr>\n",
       "      <th>15</th>\n",
       "      <td>0.222222</td>\n",
       "      <td>0.809524</td>\n",
       "      <td>0.327160</td>\n",
       "    </tr>\n",
       "    <tr>\n",
       "      <th>16</th>\n",
       "      <td>0.200000</td>\n",
       "      <td>0.809524</td>\n",
       "      <td>0.388889</td>\n",
       "    </tr>\n",
       "    <tr>\n",
       "      <th>17</th>\n",
       "      <td>0.166667</td>\n",
       "      <td>0.838095</td>\n",
       "      <td>0.407407</td>\n",
       "    </tr>\n",
       "    <tr>\n",
       "      <th>18</th>\n",
       "      <td>0.142857</td>\n",
       "      <td>0.847619</td>\n",
       "      <td>0.456790</td>\n",
       "    </tr>\n",
       "    <tr>\n",
       "      <th>19</th>\n",
       "      <td>0.111111</td>\n",
       "      <td>0.847619</td>\n",
       "      <td>0.512346</td>\n",
       "    </tr>\n",
       "    <tr>\n",
       "      <th>20</th>\n",
       "      <td>0.000000</td>\n",
       "      <td>1.000000</td>\n",
       "      <td>1.000000</td>\n",
       "    </tr>\n",
       "  </tbody>\n",
       "</table>\n",
       "</div>"
      ],
      "text/plain": [
       "    thresholds       tpr       fpr\n",
       "0     2.000000  0.000000  0.000000\n",
       "1     1.000000  0.409524  0.018519\n",
       "2     0.888889  0.419048  0.018519\n",
       "3     0.875000  0.523810  0.043210\n",
       "4     0.800000  0.552381  0.043210\n",
       "5     0.750000  0.552381  0.055556\n",
       "6     0.714286  0.571429  0.061728\n",
       "7     0.666667  0.647619  0.067901\n",
       "8     0.600000  0.695238  0.074074\n",
       "9     0.571429  0.704762  0.104938\n",
       "10    0.500000  0.752381  0.148148\n",
       "11    0.400000  0.780952  0.166667\n",
       "12    0.333333  0.790476  0.253086\n",
       "13    0.285714  0.790476  0.296296\n",
       "14    0.250000  0.809524  0.320988\n",
       "15    0.222222  0.809524  0.327160\n",
       "16    0.200000  0.809524  0.388889\n",
       "17    0.166667  0.838095  0.407407\n",
       "18    0.142857  0.847619  0.456790\n",
       "19    0.111111  0.847619  0.512346\n",
       "20    0.000000  1.000000  1.000000"
      ]
     },
     "execution_count": 122,
     "metadata": {},
     "output_type": "execute_result"
    }
   ],
   "source": [
    "metricas_df"
   ]
  },
  {
   "cell_type": "markdown",
   "metadata": {},
   "source": [
    "Todavía nos faltan los TNR y FNR, ¿cómo podemos calcular estos? \n",
    "\n",
    "De la definición de TP, FP, TN y FN: \n",
    "\n",
    "+ TP: El modelo predice 1 y la etiqueta real es 1\n",
    "+ FP: El modelo predice 1 y la etiqueta real es 0\n",
    "+ TN: El modelo predice 0 y la etiqueta real es 0\n",
    "+ FN: El modelo predice 0 y la etiqueta real es 1 \n",
    "\n",
    "Entonces, cuando expresamos los TP y FP como porcentajes, podemos obtener los TNR y FNR correspondientes con: \n",
    "\n",
    "$$FNR = 1 - TPR$$\n",
    "\n",
    "$$TNR = 1- FPR$$"
   ]
  },
  {
   "cell_type": "code",
   "execution_count": 123,
   "metadata": {},
   "outputs": [],
   "source": [
    "metricas_df['tnr'] = 1 - metricas_df['fpr']\n",
    "metricas_df['fnr'] = 1 - metricas_df['tpr']"
   ]
  },
  {
   "cell_type": "markdown",
   "metadata": {},
   "source": [
    "Ahora agregaremos el precision y recall"
   ]
  },
  {
   "cell_type": "code",
   "execution_count": 124,
   "metadata": {},
   "outputs": [],
   "source": [
    "metricas_df['precision'] = metricas_df.tpr/(metricas_df.tpr + metricas_df.fpr)\n",
    "metricas_df['recall'] = metricas_df.tpr/(metricas_df.tpr + metricas_df.fnr)"
   ]
  },
  {
   "cell_type": "code",
   "execution_count": 125,
   "metadata": {},
   "outputs": [
    {
     "data": {
      "text/html": [
       "<div>\n",
       "<style scoped>\n",
       "    .dataframe tbody tr th:only-of-type {\n",
       "        vertical-align: middle;\n",
       "    }\n",
       "\n",
       "    .dataframe tbody tr th {\n",
       "        vertical-align: top;\n",
       "    }\n",
       "\n",
       "    .dataframe thead th {\n",
       "        text-align: right;\n",
       "    }\n",
       "</style>\n",
       "<table border=\"1\" class=\"dataframe\">\n",
       "  <thead>\n",
       "    <tr style=\"text-align: right;\">\n",
       "      <th></th>\n",
       "      <th>thresholds</th>\n",
       "      <th>tpr</th>\n",
       "      <th>fpr</th>\n",
       "      <th>tnr</th>\n",
       "      <th>fnr</th>\n",
       "      <th>precision</th>\n",
       "      <th>recall</th>\n",
       "    </tr>\n",
       "  </thead>\n",
       "  <tbody>\n",
       "    <tr>\n",
       "      <th>0</th>\n",
       "      <td>2.000000</td>\n",
       "      <td>0.000000</td>\n",
       "      <td>0.000000</td>\n",
       "      <td>1.000000</td>\n",
       "      <td>1.000000</td>\n",
       "      <td>NaN</td>\n",
       "      <td>0.000000</td>\n",
       "    </tr>\n",
       "    <tr>\n",
       "      <th>1</th>\n",
       "      <td>1.000000</td>\n",
       "      <td>0.409524</td>\n",
       "      <td>0.018519</td>\n",
       "      <td>0.981481</td>\n",
       "      <td>0.590476</td>\n",
       "      <td>0.956737</td>\n",
       "      <td>0.409524</td>\n",
       "    </tr>\n",
       "    <tr>\n",
       "      <th>2</th>\n",
       "      <td>0.888889</td>\n",
       "      <td>0.419048</td>\n",
       "      <td>0.018519</td>\n",
       "      <td>0.981481</td>\n",
       "      <td>0.580952</td>\n",
       "      <td>0.957678</td>\n",
       "      <td>0.419048</td>\n",
       "    </tr>\n",
       "    <tr>\n",
       "      <th>3</th>\n",
       "      <td>0.875000</td>\n",
       "      <td>0.523810</td>\n",
       "      <td>0.043210</td>\n",
       "      <td>0.956790</td>\n",
       "      <td>0.476190</td>\n",
       "      <td>0.923795</td>\n",
       "      <td>0.523810</td>\n",
       "    </tr>\n",
       "    <tr>\n",
       "      <th>4</th>\n",
       "      <td>0.800000</td>\n",
       "      <td>0.552381</td>\n",
       "      <td>0.043210</td>\n",
       "      <td>0.956790</td>\n",
       "      <td>0.447619</td>\n",
       "      <td>0.927450</td>\n",
       "      <td>0.552381</td>\n",
       "    </tr>\n",
       "    <tr>\n",
       "      <th>5</th>\n",
       "      <td>0.750000</td>\n",
       "      <td>0.552381</td>\n",
       "      <td>0.055556</td>\n",
       "      <td>0.944444</td>\n",
       "      <td>0.447619</td>\n",
       "      <td>0.908616</td>\n",
       "      <td>0.552381</td>\n",
       "    </tr>\n",
       "    <tr>\n",
       "      <th>6</th>\n",
       "      <td>0.714286</td>\n",
       "      <td>0.571429</td>\n",
       "      <td>0.061728</td>\n",
       "      <td>0.938272</td>\n",
       "      <td>0.428571</td>\n",
       "      <td>0.902507</td>\n",
       "      <td>0.571429</td>\n",
       "    </tr>\n",
       "    <tr>\n",
       "      <th>7</th>\n",
       "      <td>0.666667</td>\n",
       "      <td>0.647619</td>\n",
       "      <td>0.067901</td>\n",
       "      <td>0.932099</td>\n",
       "      <td>0.352381</td>\n",
       "      <td>0.905102</td>\n",
       "      <td>0.647619</td>\n",
       "    </tr>\n",
       "    <tr>\n",
       "      <th>8</th>\n",
       "      <td>0.600000</td>\n",
       "      <td>0.695238</td>\n",
       "      <td>0.074074</td>\n",
       "      <td>0.925926</td>\n",
       "      <td>0.304762</td>\n",
       "      <td>0.903714</td>\n",
       "      <td>0.695238</td>\n",
       "    </tr>\n",
       "    <tr>\n",
       "      <th>9</th>\n",
       "      <td>0.571429</td>\n",
       "      <td>0.704762</td>\n",
       "      <td>0.104938</td>\n",
       "      <td>0.895062</td>\n",
       "      <td>0.295238</td>\n",
       "      <td>0.870399</td>\n",
       "      <td>0.704762</td>\n",
       "    </tr>\n",
       "    <tr>\n",
       "      <th>10</th>\n",
       "      <td>0.500000</td>\n",
       "      <td>0.752381</td>\n",
       "      <td>0.148148</td>\n",
       "      <td>0.851852</td>\n",
       "      <td>0.247619</td>\n",
       "      <td>0.835488</td>\n",
       "      <td>0.752381</td>\n",
       "    </tr>\n",
       "    <tr>\n",
       "      <th>11</th>\n",
       "      <td>0.400000</td>\n",
       "      <td>0.780952</td>\n",
       "      <td>0.166667</td>\n",
       "      <td>0.833333</td>\n",
       "      <td>0.219048</td>\n",
       "      <td>0.824121</td>\n",
       "      <td>0.780952</td>\n",
       "    </tr>\n",
       "    <tr>\n",
       "      <th>12</th>\n",
       "      <td>0.333333</td>\n",
       "      <td>0.790476</td>\n",
       "      <td>0.253086</td>\n",
       "      <td>0.746914</td>\n",
       "      <td>0.209524</td>\n",
       "      <td>0.757478</td>\n",
       "      <td>0.790476</td>\n",
       "    </tr>\n",
       "    <tr>\n",
       "      <th>13</th>\n",
       "      <td>0.285714</td>\n",
       "      <td>0.790476</td>\n",
       "      <td>0.296296</td>\n",
       "      <td>0.703704</td>\n",
       "      <td>0.209524</td>\n",
       "      <td>0.727361</td>\n",
       "      <td>0.790476</td>\n",
       "    </tr>\n",
       "    <tr>\n",
       "      <th>14</th>\n",
       "      <td>0.250000</td>\n",
       "      <td>0.809524</td>\n",
       "      <td>0.320988</td>\n",
       "      <td>0.679012</td>\n",
       "      <td>0.190476</td>\n",
       "      <td>0.716069</td>\n",
       "      <td>0.809524</td>\n",
       "    </tr>\n",
       "    <tr>\n",
       "      <th>15</th>\n",
       "      <td>0.222222</td>\n",
       "      <td>0.809524</td>\n",
       "      <td>0.327160</td>\n",
       "      <td>0.672840</td>\n",
       "      <td>0.190476</td>\n",
       "      <td>0.712180</td>\n",
       "      <td>0.809524</td>\n",
       "    </tr>\n",
       "    <tr>\n",
       "      <th>16</th>\n",
       "      <td>0.200000</td>\n",
       "      <td>0.809524</td>\n",
       "      <td>0.388889</td>\n",
       "      <td>0.611111</td>\n",
       "      <td>0.190476</td>\n",
       "      <td>0.675497</td>\n",
       "      <td>0.809524</td>\n",
       "    </tr>\n",
       "    <tr>\n",
       "      <th>17</th>\n",
       "      <td>0.166667</td>\n",
       "      <td>0.838095</td>\n",
       "      <td>0.407407</td>\n",
       "      <td>0.592593</td>\n",
       "      <td>0.161905</td>\n",
       "      <td>0.672897</td>\n",
       "      <td>0.838095</td>\n",
       "    </tr>\n",
       "    <tr>\n",
       "      <th>18</th>\n",
       "      <td>0.142857</td>\n",
       "      <td>0.847619</td>\n",
       "      <td>0.456790</td>\n",
       "      <td>0.543210</td>\n",
       "      <td>0.152381</td>\n",
       "      <td>0.649811</td>\n",
       "      <td>0.847619</td>\n",
       "    </tr>\n",
       "    <tr>\n",
       "      <th>19</th>\n",
       "      <td>0.111111</td>\n",
       "      <td>0.847619</td>\n",
       "      <td>0.512346</td>\n",
       "      <td>0.487654</td>\n",
       "      <td>0.152381</td>\n",
       "      <td>0.623265</td>\n",
       "      <td>0.847619</td>\n",
       "    </tr>\n",
       "    <tr>\n",
       "      <th>20</th>\n",
       "      <td>0.000000</td>\n",
       "      <td>1.000000</td>\n",
       "      <td>1.000000</td>\n",
       "      <td>0.000000</td>\n",
       "      <td>0.000000</td>\n",
       "      <td>0.500000</td>\n",
       "      <td>1.000000</td>\n",
       "    </tr>\n",
       "  </tbody>\n",
       "</table>\n",
       "</div>"
      ],
      "text/plain": [
       "    thresholds       tpr       fpr       tnr       fnr  precision    recall\n",
       "0     2.000000  0.000000  0.000000  1.000000  1.000000        NaN  0.000000\n",
       "1     1.000000  0.409524  0.018519  0.981481  0.590476   0.956737  0.409524\n",
       "2     0.888889  0.419048  0.018519  0.981481  0.580952   0.957678  0.419048\n",
       "3     0.875000  0.523810  0.043210  0.956790  0.476190   0.923795  0.523810\n",
       "4     0.800000  0.552381  0.043210  0.956790  0.447619   0.927450  0.552381\n",
       "5     0.750000  0.552381  0.055556  0.944444  0.447619   0.908616  0.552381\n",
       "6     0.714286  0.571429  0.061728  0.938272  0.428571   0.902507  0.571429\n",
       "7     0.666667  0.647619  0.067901  0.932099  0.352381   0.905102  0.647619\n",
       "8     0.600000  0.695238  0.074074  0.925926  0.304762   0.903714  0.695238\n",
       "9     0.571429  0.704762  0.104938  0.895062  0.295238   0.870399  0.704762\n",
       "10    0.500000  0.752381  0.148148  0.851852  0.247619   0.835488  0.752381\n",
       "11    0.400000  0.780952  0.166667  0.833333  0.219048   0.824121  0.780952\n",
       "12    0.333333  0.790476  0.253086  0.746914  0.209524   0.757478  0.790476\n",
       "13    0.285714  0.790476  0.296296  0.703704  0.209524   0.727361  0.790476\n",
       "14    0.250000  0.809524  0.320988  0.679012  0.190476   0.716069  0.809524\n",
       "15    0.222222  0.809524  0.327160  0.672840  0.190476   0.712180  0.809524\n",
       "16    0.200000  0.809524  0.388889  0.611111  0.190476   0.675497  0.809524\n",
       "17    0.166667  0.838095  0.407407  0.592593  0.161905   0.672897  0.838095\n",
       "18    0.142857  0.847619  0.456790  0.543210  0.152381   0.649811  0.847619\n",
       "19    0.111111  0.847619  0.512346  0.487654  0.152381   0.623265  0.847619\n",
       "20    0.000000  1.000000  1.000000  0.000000  0.000000   0.500000  1.000000"
      ]
     },
     "execution_count": 125,
     "metadata": {},
     "output_type": "execute_result"
    }
   ],
   "source": [
    "metricas_df"
   ]
  },
  {
   "cell_type": "markdown",
   "metadata": {},
   "source": [
    "La última tabla que generamos deberá se la tabla sobre la que tomaremos nuestras decisiones del modelo. Por ejemplo, si estuviermos dispuestos a solo hacer 5% de errores, ¿qué porcentaje de TPs tendremos, con cuánto presicion y recall?\n",
    "\n",
    "En este caso nuestro threshold nos servirá para indicar a partir de qué score nosotros diremos que la etiqueta es 1. ¿Cuál es ese threshold? "
   ]
  },
  {
   "cell_type": "markdown",
   "metadata": {},
   "source": [
    "### Cambiando las etiquetas a nuestro punto de corte"
   ]
  },
  {
   "cell_type": "code",
   "execution_count": 126,
   "metadata": {},
   "outputs": [],
   "source": [
    "new_labels = [1 if score >= 0.8000 else 0 for score in predictions_scores[:,1]]"
   ]
  },
  {
   "cell_type": "markdown",
   "metadata": {},
   "source": [
    "Veamos cómo al cambiar el punto de corte también cambiaremos la matriz de confusión"
   ]
  },
  {
   "cell_type": "code",
   "execution_count": 127,
   "metadata": {},
   "outputs": [
    {
     "data": {
      "text/plain": [
       "array([[155,   7],\n",
       "       [ 47,  58]])"
      ]
     },
     "execution_count": 127,
     "metadata": {},
     "output_type": "execute_result"
    }
   ],
   "source": [
    "confusion_matrix(y_test, new_labels)"
   ]
  },
  {
   "cell_type": "markdown",
   "metadata": {},
   "source": [
    "Ahora nos equivocamos menos en los FP, eso es porque decidimos que nuestro punto de corte tuviera un máximo de 5% de FPs"
   ]
  },
  {
   "cell_type": "markdown",
   "metadata": {},
   "source": [
    "### Solución 2. Ocupando *cross validation*"
   ]
  },
  {
   "cell_type": "code",
   "execution_count": 128,
   "metadata": {},
   "outputs": [
    {
     "data": {
      "image/png": "[encoded data removed]",
      "text/plain": [
       "<Figure size 432x288 with 1 Axes>"
      ]
     },
     "metadata": {
      "needs_background": "light"
     },
     "output_type": "display_data"
    },
    {
     "data": {
      "image/png": "[encoded data removed]",
      "text/plain": [
       "<Figure size 432x288 with 1 Axes>"
      ]
     },
     "metadata": {
      "needs_background": "light"
     },
     "output_type": "display_data"
    },
    {
     "data": {
      "image/png": "[encoded data removed]",
      "text/plain": [
       "<Figure size 432x288 with 1 Axes>"
      ]
     },
     "metadata": {
      "needs_background": "light"
     },
     "output_type": "display_data"
    },
    {
     "data": {
      "image/png": "[encoded data removed]",
      "text/plain": [
       "<Figure size 432x288 with 1 Axes>"
      ]
     },
     "metadata": {
      "needs_background": "light"
     },
     "output_type": "display_data"
    },
    {
     "data": {
      "image/png": "[encoded data removed]",
      "text/plain": [
       "<Figure size 432x288 with 1 Axes>"
      ]
     },
     "metadata": {
      "needs_background": "light"
     },
     "output_type": "display_data"
    },
    {
     "data": {
      "image/png": "[encoded data removed]",
      "text/plain": [
       "<Figure size 432x288 with 1 Axes>"
      ]
     },
     "metadata": {
      "needs_background": "light"
     },
     "output_type": "display_data"
    },
    {
     "data": {
      "image/png": "[encoded data removed]",
      "text/plain": [
       "<Figure size 432x288 with 1 Axes>"
      ]
     },
     "metadata": {
      "needs_background": "light"
     },
     "output_type": "display_data"
    },
    {
     "data": {
      "image/png": "[encoded data removed]",
      "text/plain": [
       "<Figure size 432x288 with 1 Axes>"
      ]
     },
     "metadata": {
      "needs_background": "light"
     },
     "output_type": "display_data"
    },
    {
     "data": {
      "image/png": "[encoded data removed]",
      "text/plain": [
       "<Figure size 432x288 with 1 Axes>"
      ]
     },
     "metadata": {
      "needs_background": "light"
     },
     "output_type": "display_data"
    },
    {
     "data": {
      "image/png": "[encoded data removed]",
      "text/plain": [
       "<Figure size 432x288 with 1 Axes>"
      ]
     },
     "metadata": {
      "needs_background": "light"
     },
     "output_type": "display_data"
    }
   ],
   "source": [
    "# construyamos el arbol pero durante su entrenamiento utilicemos k-cross validation de 10\n",
    "from sklearn.model_selection import KFold\n",
    "from sklearn.tree import DecisionTreeClassifier, plot_tree\n",
    "\n",
    "import matplotlib.pyplot as plt\n",
    "\n",
    "%matplotlib inline\n",
    "\n",
    "# definimos los hiperparámetros del árbol\n",
    "dt = DecisionTreeClassifier(criterion=\"gini\", min_samples_leaf=5, random_state=123)\n",
    "\n",
    "folds = {}\n",
    "\n",
    "kfold = KFold(10)\n",
    "split = 1\n",
    "\n",
    "for train_index, test_index in kfold.split(X_train, y_train):\n",
    "    dt.fit(X_train.iloc[train_index,:], y_train.iloc[train_index])\n",
    "    folds['fold_{}'.format(split)] = { \n",
    "        'labels': dt.predict(X_train.iloc[test_index,:]),\n",
    "        'scores': dt.predict_proba(X_train.iloc[test_index,:]),\n",
    "        'x_test': X_train.iloc[test_index],\n",
    "        'y_test': y_train.iloc[test_index]\n",
    "    }\n",
    "    plt.clf()\n",
    "    plot_tree(dt)\n",
    "    plt.show()\n",
    "    split+= 1"
   ]
  },
  {
   "cell_type": "markdown",
   "metadata": {},
   "source": [
    "### Medición de desempeño para cada *fold* \n",
    "\n",
    "#### ROC"
   ]
  },
  {
   "cell_type": "code",
   "execution_count": 129,
   "metadata": {},
   "outputs": [
    {
     "data": {
      "image/png": "[encoded data removed]",
      "text/plain": [
       "<Figure size 432x288 with 1 Axes>"
      ]
     },
     "metadata": {
      "needs_background": "light"
     },
     "output_type": "display_data"
    },
    {
     "data": {
      "image/png": "[encoded data removed]",
      "text/plain": [
       "<Figure size 432x288 with 1 Axes>"
      ]
     },
     "metadata": {
      "needs_background": "light"
     },
     "output_type": "display_data"
    },
    {
     "data": {
      "image/png": "[encoded data removed]",
      "text/plain": [
       "<Figure size 432x288 with 1 Axes>"
      ]
     },
     "metadata": {
      "needs_background": "light"
     },
     "output_type": "display_data"
    },
    {
     "data": {
      "image/png": "[encoded data removed]",
      "text/plain": [
       "<Figure size 432x288 with 1 Axes>"
      ]
     },
     "metadata": {
      "needs_background": "light"
     },
     "output_type": "display_data"
    },
    {
     "data": {
      "image/png": "[encoded data removed]",
      "text/plain": [
       "<Figure size 432x288 with 1 Axes>"
      ]
     },
     "metadata": {
      "needs_background": "light"
     },
     "output_type": "display_data"
    },
    {
     "data": {
      "image/png": "[encoded data removed]",
      "text/plain": [
       "<Figure size 432x288 with 1 Axes>"
      ]
     },
     "metadata": {
      "needs_background": "light"
     },
     "output_type": "display_data"
    },
    {
     "data": {
      "image/png": "[encoded data removed]",
      "text/plain": [
       "<Figure size 432x288 with 1 Axes>"
      ]
     },
     "metadata": {
      "needs_background": "light"
     },
     "output_type": "display_data"
    },
    {
     "data": {
      "image/png": "[encoded data removed]",
      "text/plain": [
       "<Figure size 432x288 with 1 Axes>"
      ]
     },
     "metadata": {
      "needs_background": "light"
     },
     "output_type": "display_data"
    },
    {
     "data": {
      "image/png": "[encoded data removed]",
      "text/plain": [
       "<Figure size 432x288 with 1 Axes>"
      ]
     },
     "metadata": {
      "needs_background": "light"
     },
     "output_type": "display_data"
    },
    {
     "data": {
      "image/png": "[encoded data removed]",
      "text/plain": [
       "<Figure size 432x288 with 1 Axes>"
      ]
     },
     "metadata": {
      "needs_background": "light"
     },
     "output_type": "display_data"
    }
   ],
   "source": [
    "from sklearn.metrics import precision_recall_curve, roc_auc_score, accuracy_score, f1_score, confusion_matrix, roc_curve\n",
    "\n",
    "fpr_tpr = {}\n",
    "\n",
    "for key, value in folds.items(): \n",
    "    #y_true, y_score, para saber el orden en el que aparecen los scores deberás ver lo que devuelve el atributo classes_\n",
    "    # por ejemplo: dt.classes_ devuelve [0,1] lo que significa que el primer score corresponde a la etiqueta 0\n",
    "    # y la segunda a la etiqueta 1.\n",
    "    fpr, tpr, thresholds = roc_curve(folds[key]['y_test'], folds[key]['scores'][:,1], pos_label=1)\n",
    "    fpr_tpr[key] = {'fpr': fpr, 'tpr': tpr}\n",
    "\n",
    "    \n",
    "for key, vlaue in fpr_tpr.items():\n",
    "    plt.clf()\n",
    "    plt.plot([0, 1], [0, 1], 'k--', c=\"red\")\n",
    "    plt.plot(fpr_tpr[key]['fpr'], fpr_tpr[key]['tpr'], label=key)\n",
    "    plt.title(key + \" AUC: \" + str(roc_auc_score(folds[key]['y_test'], folds[key]['labels'])))\n",
    "    plt.xlabel(\"fpr\")\n",
    "    plt.ylabel(\"tpr\")\n",
    "    plt.show()"
   ]
  },
  {
   "cell_type": "markdown",
   "metadata": {},
   "source": [
    "#### Matriz de confusión\n",
    "\n",
    "De la documentación de sklearn de [confusion_matrix](https://scikit-learn.org/stable/modules/generated/sklearn.metrics.confusion_matrix.html#sklearn.metrics.confusion_matrix)\n",
    "\n",
    "+ [0,0]: True negatives\n",
    "+ [0,1]: False positives \n",
    "+ [1,0]: False negatives\n",
    "+ [1,1]: True positives"
   ]
  },
  {
   "cell_type": "code",
   "execution_count": 130,
   "metadata": {},
   "outputs": [
    {
     "name": "stdout",
     "output_type": "stream",
     "text": [
      "\n",
      " fold_1 :\n",
      " [[32  4]\n",
      " [ 8 18]]\n",
      "\n",
      " fold_2 :\n",
      " [[34  3]\n",
      " [ 9 16]]\n",
      "\n",
      " fold_3 :\n",
      " [[37  6]\n",
      " [ 6 13]]\n",
      "\n",
      " fold_4 :\n",
      " [[39  2]\n",
      " [ 6 15]]\n",
      "\n",
      " fold_5 :\n",
      " [[32  4]\n",
      " [ 9 17]]\n",
      "\n",
      " fold_6 :\n",
      " [[29 13]\n",
      " [ 5 15]]\n",
      "\n",
      " fold_7 :\n",
      " [[29  7]\n",
      " [ 6 20]]\n",
      "\n",
      " fold_8 :\n",
      " [[33  5]\n",
      " [ 6 18]]\n",
      "\n",
      " fold_9 :\n",
      " [[34  2]\n",
      " [ 4 22]]\n",
      "\n",
      " fold_10 :\n",
      " [[35  3]\n",
      " [ 5 19]]\n"
     ]
    }
   ],
   "source": [
    "for key, value in folds.items():\n",
    "    print(\"\\n\", key, \":\\n\", confusion_matrix(folds[key]['y_test'], folds[key]['labels']))\n",
    "    "
   ]
  },
  {
   "cell_type": "markdown",
   "metadata": {},
   "source": [
    "### Precision y recall\n"
   ]
  },
  {
   "cell_type": "code",
   "execution_count": 131,
   "metadata": {},
   "outputs": [],
   "source": [
    "precision_recall = {}\n",
    "\n",
    "for key, value in folds.items():\n",
    "    precision, recall, thresholds = precision_recall_curve(folds[key]['y_test'], folds[key]['scores'][:,1])\n",
    "    precision_recall[key] = {'precision': precision, 'recall': recall, 'thresholds': thresholds}"
   ]
  },
  {
   "cell_type": "code",
   "execution_count": 132,
   "metadata": {},
   "outputs": [
    {
     "data": {
      "text/plain": [
       "{'precision': array([0.41935484, 0.59459459, 0.61111111, 0.62857143, 0.64705882,\n",
       "        0.71428571, 0.74074074, 0.81818182, 0.78947368, 0.88235294,\n",
       "        0.9375    , 0.93333333, 1.        , 1.        ]),\n",
       " 'recall': array([1.        , 0.84615385, 0.84615385, 0.84615385, 0.84615385,\n",
       "        0.76923077, 0.76923077, 0.69230769, 0.57692308, 0.57692308,\n",
       "        0.57692308, 0.53846154, 0.46153846, 0.        ]),\n",
       " 'thresholds': array([0.        , 0.11111111, 0.125     , 0.16666667, 0.2       ,\n",
       "        0.28571429, 0.4       , 0.57142857, 0.6       , 0.625     ,\n",
       "        0.66666667, 0.8       , 1.        ])}"
      ]
     },
     "execution_count": 132,
     "metadata": {},
     "output_type": "execute_result"
    }
   ],
   "source": [
    "precision_recall['fold_1']"
   ]
  },
  {
   "cell_type": "code",
   "execution_count": 133,
   "metadata": {},
   "outputs": [
    {
     "data": {
      "text/plain": [
       "{'fpr': array([0.        , 0.        , 0.02777778, 0.02777778, 0.05555556,\n",
       "        0.11111111, 0.11111111, 0.19444444, 0.22222222, 0.33333333,\n",
       "        0.41666667, 1.        ]),\n",
       " 'tpr': array([0.        , 0.46153846, 0.53846154, 0.57692308, 0.57692308,\n",
       "        0.57692308, 0.69230769, 0.76923077, 0.76923077, 0.84615385,\n",
       "        0.84615385, 1.        ])}"
      ]
     },
     "execution_count": 133,
     "metadata": {},
     "output_type": "execute_result"
    }
   ],
   "source": [
    "fpr_tpr['fold_1']"
   ]
  },
  {
   "cell_type": "markdown",
   "metadata": {},
   "source": [
    "También puedes graficar esta curva"
   ]
  },
  {
   "cell_type": "code",
   "execution_count": 134,
   "metadata": {},
   "outputs": [
    {
     "data": {
      "text/plain": [
       "<Figure size 432x288 with 0 Axes>"
      ]
     },
     "metadata": {},
     "output_type": "display_data"
    },
    {
     "data": {
      "image/png": "[encoded data removed]",
      "text/plain": [
       "<Figure size 432x288 with 1 Axes>"
      ]
     },
     "metadata": {
      "needs_background": "light"
     },
     "output_type": "display_data"
    },
    {
     "data": {
      "text/plain": [
       "<Figure size 432x288 with 0 Axes>"
      ]
     },
     "metadata": {},
     "output_type": "display_data"
    },
    {
     "data": {
      "image/png": "[encoded data removed]",
      "text/plain": [
       "<Figure size 432x288 with 1 Axes>"
      ]
     },
     "metadata": {
      "needs_background": "light"
     },
     "output_type": "display_data"
    },
    {
     "data": {
      "text/plain": [
       "<Figure size 432x288 with 0 Axes>"
      ]
     },
     "metadata": {},
     "output_type": "display_data"
    },
    {
     "data": {
      "image/png": "[encoded data removed]",
      "text/plain": [
       "<Figure size 432x288 with 1 Axes>"
      ]
     },
     "metadata": {
      "needs_background": "light"
     },
     "output_type": "display_data"
    },
    {
     "data": {
      "text/plain": [
       "<Figure size 432x288 with 0 Axes>"
      ]
     },
     "metadata": {},
     "output_type": "display_data"
    },
    {
     "data": {
      "image/png": "[encoded data removed]",
      "text/plain": [
       "<Figure size 432x288 with 1 Axes>"
      ]
     },
     "metadata": {
      "needs_background": "light"
     },
     "output_type": "display_data"
    },
    {
     "data": {
      "text/plain": [
       "<Figure size 432x288 with 0 Axes>"
      ]
     },
     "metadata": {},
     "output_type": "display_data"
    },
    {
     "data": {
      "image/png": "[encoded data removed]",
      "text/plain": [
       "<Figure size 432x288 with 1 Axes>"
      ]
     },
     "metadata": {
      "needs_background": "light"
     },
     "output_type": "display_data"
    },
    {
     "data": {
      "text/plain": [
       "<Figure size 432x288 with 0 Axes>"
      ]
     },
     "metadata": {},
     "output_type": "display_data"
    },
    {
     "data": {
      "image/png": "[encoded data removed]",
      "text/plain": [
       "<Figure size 432x288 with 1 Axes>"
      ]
     },
     "metadata": {
      "needs_background": "light"
     },
     "output_type": "display_data"
    },
    {
     "data": {
      "text/plain": [
       "<Figure size 432x288 with 0 Axes>"
      ]
     },
     "metadata": {},
     "output_type": "display_data"
    },
    {
     "data": {
      "image/png": "[encoded data removed]",
      "text/plain": [
       "<Figure size 432x288 with 1 Axes>"
      ]
     },
     "metadata": {
      "needs_background": "light"
     },
     "output_type": "display_data"
    },
    {
     "data": {
      "text/plain": [
       "<Figure size 432x288 with 0 Axes>"
      ]
     },
     "metadata": {},
     "output_type": "display_data"
    },
    {
     "data": {
      "image/png": "[encoded data removed]",
      "text/plain": [
       "<Figure size 432x288 with 1 Axes>"
      ]
     },
     "metadata": {
      "needs_background": "light"
     },
     "output_type": "display_data"
    },
    {
     "data": {
      "text/plain": [
       "<Figure size 432x288 with 0 Axes>"
      ]
     },
     "metadata": {},
     "output_type": "display_data"
    },
    {
     "data": {
      "image/png": "[encoded data removed]",
      "text/plain": [
       "<Figure size 432x288 with 1 Axes>"
      ]
     },
     "metadata": {
      "needs_background": "light"
     },
     "output_type": "display_data"
    },
    {
     "data": {
      "text/plain": [
       "<Figure size 432x288 with 0 Axes>"
      ]
     },
     "metadata": {},
     "output_type": "display_data"
    },
    {
     "data": {
      "image/png": "[encoded data removed]",
      "text/plain": [
       "<Figure size 432x288 with 1 Axes>"
      ]
     },
     "metadata": {
      "needs_background": "light"
     },
     "output_type": "display_data"
    }
   ],
   "source": [
    "from sklearn.metrics import plot_precision_recall_curve \n",
    "\n",
    "for key, value in folds.items():\n",
    "    plt.clf()\n",
    "    plot_precision_recall_curve(dt, folds[key]['x_test'], folds[key]['y_test'])\n",
    "    plt.title(key)\n",
    "    plt.xlabel(\"recall\")\n",
    "    plt.ylabel(\"precision\")\n",
    "    plt.show()"
   ]
  },
  {
   "cell_type": "markdown",
   "metadata": {},
   "source": [
    "### Promediando \n",
    "\n",
    "En lugar de tener que hacer cada una de estas cosas para los 10 folds existe un mecanismo que nos permite "
   ]
  },
  {
   "cell_type": "code",
   "execution_count": 135,
   "metadata": {},
   "outputs": [],
   "source": [
    "from sklearn.model_selection import cross_validate\n",
    "\n",
    "\n",
    "metrics = ['precision','recall','f1','accuracy', 'roc_auc']\n",
    "scores = cross_validate(dt, X_train, y_train, cv=10, scoring=metrics, n_jobs=-1)"
   ]
  },
  {
   "cell_type": "code",
   "execution_count": 136,
   "metadata": {},
   "outputs": [
    {
     "name": "stdout",
     "output_type": "stream",
     "text": [
      "[('fit_time', array([0.01128244, 0.00714278, 0.01147342, 0.01424289, 0.01080465,\n",
      "       0.01031899, 0.00866842, 0.00799465, 0.01036477, 0.00931716])), ('score_time', array([0.0204494 , 0.01905823, 0.02013421, 0.01502848, 0.01957107,\n",
      "       0.02074003, 0.0152235 , 0.01310706, 0.01911449, 0.01785779])), ('test_precision', array([0.81818182, 0.84210526, 0.73684211, 0.9       , 0.71428571,\n",
      "       0.62068966, 0.8       , 0.77777778, 0.90909091, 0.86363636])), ('test_recall', array([0.7826087 , 0.69565217, 0.60869565, 0.75      , 0.625     ,\n",
      "       0.75      , 0.66666667, 0.875     , 0.83333333, 0.79166667])), ('test_f1', array([0.8       , 0.76190476, 0.66666667, 0.81818182, 0.66666667,\n",
      "       0.67924528, 0.72727273, 0.82352941, 0.86956522, 0.82608696])), ('test_accuracy', array([0.85483871, 0.83870968, 0.77419355, 0.87096774, 0.75806452,\n",
      "       0.72580645, 0.80645161, 0.85483871, 0.90322581, 0.87096774])), ('test_roc_auc', array([0.87904125, 0.86622074, 0.79765886, 0.86732456, 0.75767544,\n",
      "       0.76589912, 0.8125    , 0.88760965, 0.96820175, 0.86348684]))]\n"
     ]
    }
   ],
   "source": [
    "print([(key, element) for key, element in scores.items()])"
   ]
  },
  {
   "cell_type": "code",
   "execution_count": 137,
   "metadata": {},
   "outputs": [
    {
     "data": {
      "text/plain": [
       "0.798260960656605"
      ]
     },
     "execution_count": 137,
     "metadata": {},
     "output_type": "execute_result"
    }
   ],
   "source": [
    "### precision\n",
    "avg_precision = pd.Series(scores['test_precision']).mean()\n",
    "avg_precision"
   ]
  },
  {
   "cell_type": "code",
   "execution_count": 138,
   "metadata": {},
   "outputs": [
    {
     "data": {
      "text/plain": [
       "0.7378623188405797"
      ]
     },
     "execution_count": 138,
     "metadata": {},
     "output_type": "execute_result"
    }
   ],
   "source": [
    "### recall\n",
    "avg_recall = pd.Series(scores['test_recall']).mean()\n",
    "avg_recall"
   ]
  },
  {
   "cell_type": "code",
   "execution_count": 139,
   "metadata": {},
   "outputs": [
    {
     "data": {
      "text/plain": [
       "0.7639119509389258"
      ]
     },
     "execution_count": 139,
     "metadata": {},
     "output_type": "execute_result"
    }
   ],
   "source": [
    "### f1 score\n",
    "avg_f1_score = pd.Series(scores['test_f1']).mean()\n",
    "avg_f1_score"
   ]
  },
  {
   "cell_type": "code",
   "execution_count": 140,
   "metadata": {},
   "outputs": [
    {
     "data": {
      "text/plain": [
       "0.8258064516129032"
      ]
     },
     "execution_count": 140,
     "metadata": {},
     "output_type": "execute_result"
    }
   ],
   "source": [
    "### accuracy\n",
    "avg_accuracy = pd.Series(scores['test_accuracy']).mean()\n",
    "avg_accuracy"
   ]
  },
  {
   "cell_type": "code",
   "execution_count": 141,
   "metadata": {},
   "outputs": [
    {
     "data": {
      "text/plain": [
       "0.8465618215689726"
      ]
     },
     "execution_count": 141,
     "metadata": {},
     "output_type": "execute_result"
    }
   ],
   "source": [
    "### roc-auc\n",
    "avg_roc_auc = pd.Series(scores['test_roc_auc']).mean()\n",
    "avg_roc_auc "
   ]
  },
  {
   "cell_type": "markdown",
   "metadata": {},
   "source": [
    "Ahora probemos este modelo con el set de pruebas y comparemos esta técnica vs la de *one hold out*. "
   ]
  },
  {
   "cell_type": "code",
   "execution_count": 142,
   "metadata": {},
   "outputs": [],
   "source": [
    "from sklearn.model_selection import cross_val_predict\n",
    "\n",
    "predicted_scores = cross_val_predict(dt, X_test, y=y_test, cv=10, n_jobs=-1, method=\"predict_proba\")\n",
    "predicted_label = cross_val_predict(dt, X_test, y=y_test, cv=10, n_jobs=-1)"
   ]
  },
  {
   "cell_type": "markdown",
   "metadata": {},
   "source": [
    "### Métricas de desempeño\n",
    "\n",
    "#### ROC y AUC"
   ]
  },
  {
   "cell_type": "code",
   "execution_count": 143,
   "metadata": {},
   "outputs": [
    {
     "data": {
      "image/png": "[encoded data removed]",
      "text/plain": [
       "<Figure size 432x288 with 1 Axes>"
      ]
     },
     "metadata": {
      "needs_background": "light"
     },
     "output_type": "display_data"
    }
   ],
   "source": [
    "fpr, tpr, thresholds = roc_curve(y_test, predicted_scores[:,1], pos_label=1)\n",
    "   \n",
    "plt.clf()\n",
    "plt.plot([0, 1], [0, 1], 'k--', c=\"red\")\n",
    "plt.plot(fpr, tpr)\n",
    "plt.title(\"Solución 2: ROC test - CV:10, AUC: \" + str(roc_auc_score(y_test, predictions_scores[:,1])))\n",
    "plt.xlabel(\"fpr\")\n",
    "plt.ylabel(\"tpr\")\n",
    "plt.show()"
   ]
  },
  {
   "cell_type": "markdown",
   "metadata": {},
   "source": [
    "#### Matriz de confusión\n"
   ]
  },
  {
   "cell_type": "code",
   "execution_count": 144,
   "metadata": {},
   "outputs": [
    {
     "data": {
      "text/plain": [
       "array([[145,  17],\n",
       "       [ 31,  74]])"
      ]
     },
     "execution_count": 144,
     "metadata": {},
     "output_type": "execute_result"
    }
   ],
   "source": [
    "confusion_matrix(y_test, predictions_labels)"
   ]
  },
  {
   "cell_type": "markdown",
   "metadata": {},
   "source": [
    "#### precision, recall, f1_score"
   ]
  },
  {
   "cell_type": "code",
   "execution_count": 145,
   "metadata": {},
   "outputs": [],
   "source": [
    "metricas = pd.DataFrame({'threshold': thresholds, 'tpr': tpr, 'fpr': fpr})"
   ]
  },
  {
   "cell_type": "code",
   "execution_count": 146,
   "metadata": {},
   "outputs": [],
   "source": [
    "metricas['tnr'] = 1 - metricas.fpr\n",
    "metricas['fnr'] = 1 - metricas.tpr\n",
    "metricas['precision'] = metricas.tpr/(metricas.tpr + metricas.fpr)\n",
    "metricas['recall'] = metricas.tpr/(metricas.tpr + metricas.fnr)"
   ]
  },
  {
   "cell_type": "code",
   "execution_count": 147,
   "metadata": {},
   "outputs": [
    {
     "data": {
      "text/html": [
       "<div>\n",
       "<style scoped>\n",
       "    .dataframe tbody tr th:only-of-type {\n",
       "        vertical-align: middle;\n",
       "    }\n",
       "\n",
       "    .dataframe tbody tr th {\n",
       "        vertical-align: top;\n",
       "    }\n",
       "\n",
       "    .dataframe thead th {\n",
       "        text-align: right;\n",
       "    }\n",
       "</style>\n",
       "<table border=\"1\" class=\"dataframe\">\n",
       "  <thead>\n",
       "    <tr style=\"text-align: right;\">\n",
       "      <th></th>\n",
       "      <th>threshold</th>\n",
       "      <th>tpr</th>\n",
       "      <th>fpr</th>\n",
       "      <th>tnr</th>\n",
       "      <th>fnr</th>\n",
       "      <th>precision</th>\n",
       "      <th>recall</th>\n",
       "    </tr>\n",
       "  </thead>\n",
       "  <tbody>\n",
       "    <tr>\n",
       "      <th>0</th>\n",
       "      <td>2.000000</td>\n",
       "      <td>0.000000</td>\n",
       "      <td>0.000000</td>\n",
       "      <td>1.000000</td>\n",
       "      <td>1.000000</td>\n",
       "      <td>NaN</td>\n",
       "      <td>0.000000</td>\n",
       "    </tr>\n",
       "    <tr>\n",
       "      <th>1</th>\n",
       "      <td>1.000000</td>\n",
       "      <td>0.409524</td>\n",
       "      <td>0.024691</td>\n",
       "      <td>0.975309</td>\n",
       "      <td>0.590476</td>\n",
       "      <td>0.943136</td>\n",
       "      <td>0.409524</td>\n",
       "    </tr>\n",
       "    <tr>\n",
       "      <th>2</th>\n",
       "      <td>0.857143</td>\n",
       "      <td>0.438095</td>\n",
       "      <td>0.030864</td>\n",
       "      <td>0.969136</td>\n",
       "      <td>0.561905</td>\n",
       "      <td>0.934186</td>\n",
       "      <td>0.438095</td>\n",
       "    </tr>\n",
       "    <tr>\n",
       "      <th>3</th>\n",
       "      <td>0.833333</td>\n",
       "      <td>0.438095</td>\n",
       "      <td>0.037037</td>\n",
       "      <td>0.962963</td>\n",
       "      <td>0.561905</td>\n",
       "      <td>0.922049</td>\n",
       "      <td>0.438095</td>\n",
       "    </tr>\n",
       "    <tr>\n",
       "      <th>4</th>\n",
       "      <td>0.800000</td>\n",
       "      <td>0.571429</td>\n",
       "      <td>0.043210</td>\n",
       "      <td>0.956790</td>\n",
       "      <td>0.428571</td>\n",
       "      <td>0.929699</td>\n",
       "      <td>0.571429</td>\n",
       "    </tr>\n",
       "    <tr>\n",
       "      <th>5</th>\n",
       "      <td>0.777778</td>\n",
       "      <td>0.571429</td>\n",
       "      <td>0.055556</td>\n",
       "      <td>0.944444</td>\n",
       "      <td>0.428571</td>\n",
       "      <td>0.911392</td>\n",
       "      <td>0.571429</td>\n",
       "    </tr>\n",
       "    <tr>\n",
       "      <th>6</th>\n",
       "      <td>0.714286</td>\n",
       "      <td>0.590476</td>\n",
       "      <td>0.067901</td>\n",
       "      <td>0.932099</td>\n",
       "      <td>0.409524</td>\n",
       "      <td>0.896866</td>\n",
       "      <td>0.590476</td>\n",
       "    </tr>\n",
       "    <tr>\n",
       "      <th>7</th>\n",
       "      <td>0.700000</td>\n",
       "      <td>0.590476</td>\n",
       "      <td>0.074074</td>\n",
       "      <td>0.925926</td>\n",
       "      <td>0.409524</td>\n",
       "      <td>0.888535</td>\n",
       "      <td>0.590476</td>\n",
       "    </tr>\n",
       "    <tr>\n",
       "      <th>8</th>\n",
       "      <td>0.666667</td>\n",
       "      <td>0.628571</td>\n",
       "      <td>0.104938</td>\n",
       "      <td>0.895062</td>\n",
       "      <td>0.371429</td>\n",
       "      <td>0.856937</td>\n",
       "      <td>0.628571</td>\n",
       "    </tr>\n",
       "    <tr>\n",
       "      <th>9</th>\n",
       "      <td>0.625000</td>\n",
       "      <td>0.676190</td>\n",
       "      <td>0.129630</td>\n",
       "      <td>0.870370</td>\n",
       "      <td>0.323810</td>\n",
       "      <td>0.839133</td>\n",
       "      <td>0.676190</td>\n",
       "    </tr>\n",
       "    <tr>\n",
       "      <th>10</th>\n",
       "      <td>0.600000</td>\n",
       "      <td>0.676190</td>\n",
       "      <td>0.141975</td>\n",
       "      <td>0.858025</td>\n",
       "      <td>0.323810</td>\n",
       "      <td>0.826471</td>\n",
       "      <td>0.676190</td>\n",
       "    </tr>\n",
       "    <tr>\n",
       "      <th>11</th>\n",
       "      <td>0.555556</td>\n",
       "      <td>0.704762</td>\n",
       "      <td>0.154321</td>\n",
       "      <td>0.845679</td>\n",
       "      <td>0.295238</td>\n",
       "      <td>0.820365</td>\n",
       "      <td>0.704762</td>\n",
       "    </tr>\n",
       "    <tr>\n",
       "      <th>12</th>\n",
       "      <td>0.500000</td>\n",
       "      <td>0.723810</td>\n",
       "      <td>0.209877</td>\n",
       "      <td>0.790123</td>\n",
       "      <td>0.276190</td>\n",
       "      <td>0.775217</td>\n",
       "      <td>0.723810</td>\n",
       "    </tr>\n",
       "    <tr>\n",
       "      <th>13</th>\n",
       "      <td>0.444444</td>\n",
       "      <td>0.723810</td>\n",
       "      <td>0.228395</td>\n",
       "      <td>0.771605</td>\n",
       "      <td>0.276190</td>\n",
       "      <td>0.760141</td>\n",
       "      <td>0.723810</td>\n",
       "    </tr>\n",
       "    <tr>\n",
       "      <th>14</th>\n",
       "      <td>0.428571</td>\n",
       "      <td>0.723810</td>\n",
       "      <td>0.271605</td>\n",
       "      <td>0.728395</td>\n",
       "      <td>0.276190</td>\n",
       "      <td>0.727144</td>\n",
       "      <td>0.723810</td>\n",
       "    </tr>\n",
       "    <tr>\n",
       "      <th>15</th>\n",
       "      <td>0.400000</td>\n",
       "      <td>0.742857</td>\n",
       "      <td>0.308642</td>\n",
       "      <td>0.691358</td>\n",
       "      <td>0.257143</td>\n",
       "      <td>0.706474</td>\n",
       "      <td>0.742857</td>\n",
       "    </tr>\n",
       "    <tr>\n",
       "      <th>16</th>\n",
       "      <td>0.375000</td>\n",
       "      <td>0.742857</td>\n",
       "      <td>0.327160</td>\n",
       "      <td>0.672840</td>\n",
       "      <td>0.257143</td>\n",
       "      <td>0.694248</td>\n",
       "      <td>0.742857</td>\n",
       "    </tr>\n",
       "    <tr>\n",
       "      <th>17</th>\n",
       "      <td>0.333333</td>\n",
       "      <td>0.742857</td>\n",
       "      <td>0.364198</td>\n",
       "      <td>0.635802</td>\n",
       "      <td>0.257143</td>\n",
       "      <td>0.671021</td>\n",
       "      <td>0.742857</td>\n",
       "    </tr>\n",
       "    <tr>\n",
       "      <th>18</th>\n",
       "      <td>0.285714</td>\n",
       "      <td>0.771429</td>\n",
       "      <td>0.376543</td>\n",
       "      <td>0.623457</td>\n",
       "      <td>0.228571</td>\n",
       "      <td>0.671993</td>\n",
       "      <td>0.771429</td>\n",
       "    </tr>\n",
       "    <tr>\n",
       "      <th>19</th>\n",
       "      <td>0.250000</td>\n",
       "      <td>0.780952</td>\n",
       "      <td>0.395062</td>\n",
       "      <td>0.604938</td>\n",
       "      <td>0.219048</td>\n",
       "      <td>0.664067</td>\n",
       "      <td>0.780952</td>\n",
       "    </tr>\n",
       "    <tr>\n",
       "      <th>20</th>\n",
       "      <td>0.222222</td>\n",
       "      <td>0.790476</td>\n",
       "      <td>0.444444</td>\n",
       "      <td>0.555556</td>\n",
       "      <td>0.209524</td>\n",
       "      <td>0.640103</td>\n",
       "      <td>0.790476</td>\n",
       "    </tr>\n",
       "    <tr>\n",
       "      <th>21</th>\n",
       "      <td>0.200000</td>\n",
       "      <td>0.790476</td>\n",
       "      <td>0.481481</td>\n",
       "      <td>0.518519</td>\n",
       "      <td>0.209524</td>\n",
       "      <td>0.621464</td>\n",
       "      <td>0.790476</td>\n",
       "    </tr>\n",
       "    <tr>\n",
       "      <th>22</th>\n",
       "      <td>0.166667</td>\n",
       "      <td>0.819048</td>\n",
       "      <td>0.537037</td>\n",
       "      <td>0.462963</td>\n",
       "      <td>0.180952</td>\n",
       "      <td>0.603980</td>\n",
       "      <td>0.819048</td>\n",
       "    </tr>\n",
       "    <tr>\n",
       "      <th>23</th>\n",
       "      <td>0.142857</td>\n",
       "      <td>0.819048</td>\n",
       "      <td>0.555556</td>\n",
       "      <td>0.444444</td>\n",
       "      <td>0.180952</td>\n",
       "      <td>0.595843</td>\n",
       "      <td>0.819048</td>\n",
       "    </tr>\n",
       "    <tr>\n",
       "      <th>24</th>\n",
       "      <td>0.125000</td>\n",
       "      <td>0.828571</td>\n",
       "      <td>0.555556</td>\n",
       "      <td>0.444444</td>\n",
       "      <td>0.171429</td>\n",
       "      <td>0.598624</td>\n",
       "      <td>0.828571</td>\n",
       "    </tr>\n",
       "    <tr>\n",
       "      <th>25</th>\n",
       "      <td>0.000000</td>\n",
       "      <td>1.000000</td>\n",
       "      <td>1.000000</td>\n",
       "      <td>0.000000</td>\n",
       "      <td>0.000000</td>\n",
       "      <td>0.500000</td>\n",
       "      <td>1.000000</td>\n",
       "    </tr>\n",
       "  </tbody>\n",
       "</table>\n",
       "</div>"
      ],
      "text/plain": [
       "    threshold       tpr       fpr       tnr       fnr  precision    recall\n",
       "0    2.000000  0.000000  0.000000  1.000000  1.000000        NaN  0.000000\n",
       "1    1.000000  0.409524  0.024691  0.975309  0.590476   0.943136  0.409524\n",
       "2    0.857143  0.438095  0.030864  0.969136  0.561905   0.934186  0.438095\n",
       "3    0.833333  0.438095  0.037037  0.962963  0.561905   0.922049  0.438095\n",
       "4    0.800000  0.571429  0.043210  0.956790  0.428571   0.929699  0.571429\n",
       "5    0.777778  0.571429  0.055556  0.944444  0.428571   0.911392  0.571429\n",
       "6    0.714286  0.590476  0.067901  0.932099  0.409524   0.896866  0.590476\n",
       "7    0.700000  0.590476  0.074074  0.925926  0.409524   0.888535  0.590476\n",
       "8    0.666667  0.628571  0.104938  0.895062  0.371429   0.856937  0.628571\n",
       "9    0.625000  0.676190  0.129630  0.870370  0.323810   0.839133  0.676190\n",
       "10   0.600000  0.676190  0.141975  0.858025  0.323810   0.826471  0.676190\n",
       "11   0.555556  0.704762  0.154321  0.845679  0.295238   0.820365  0.704762\n",
       "12   0.500000  0.723810  0.209877  0.790123  0.276190   0.775217  0.723810\n",
       "13   0.444444  0.723810  0.228395  0.771605  0.276190   0.760141  0.723810\n",
       "14   0.428571  0.723810  0.271605  0.728395  0.276190   0.727144  0.723810\n",
       "15   0.400000  0.742857  0.308642  0.691358  0.257143   0.706474  0.742857\n",
       "16   0.375000  0.742857  0.327160  0.672840  0.257143   0.694248  0.742857\n",
       "17   0.333333  0.742857  0.364198  0.635802  0.257143   0.671021  0.742857\n",
       "18   0.285714  0.771429  0.376543  0.623457  0.228571   0.671993  0.771429\n",
       "19   0.250000  0.780952  0.395062  0.604938  0.219048   0.664067  0.780952\n",
       "20   0.222222  0.790476  0.444444  0.555556  0.209524   0.640103  0.790476\n",
       "21   0.200000  0.790476  0.481481  0.518519  0.209524   0.621464  0.790476\n",
       "22   0.166667  0.819048  0.537037  0.462963  0.180952   0.603980  0.819048\n",
       "23   0.142857  0.819048  0.555556  0.444444  0.180952   0.595843  0.819048\n",
       "24   0.125000  0.828571  0.555556  0.444444  0.171429   0.598624  0.828571\n",
       "25   0.000000  1.000000  1.000000  0.000000  0.000000   0.500000  1.000000"
      ]
     },
     "execution_count": 147,
     "metadata": {},
     "output_type": "execute_result"
    }
   ],
   "source": [
    "metricas"
   ]
  },
  {
   "cell_type": "markdown",
   "metadata": {},
   "source": [
    "### Solución 3. Cambiando los hiperparámetros del modelo y haciendo CV\n",
    "\n",
    "En esta solución ocuparemos los métodos `GridSearchCV` y `ParameterGrid`. `ParameterGrid` nos ayudará a definir todos los hiperparámetros que queremos probar en diferentes experimentos, mientras que `GridSearchCV` nos ayudará a guardar todos los resultados obtenidos por cada uno de los experimentos al mismo tiempo que nos permite tener validación cruzada :). \n",
    "\n",
    "¿Cuántos modelos estamos ejecutando en la siguiente configuración de hiperparámetros?"
   ]
  },
  {
   "cell_type": "code",
   "execution_count": 148,
   "metadata": {},
   "outputs": [
    {
     "data": {
      "text/plain": [
       "GridSearchCV(cv=10, estimator=DecisionTreeClassifier(), n_jobs=-1,\n",
       "             param_grid={'criterion': ['gini', 'entropy'],\n",
       "                         'min_samples_leaf': [3, 5, 7, 11]},\n",
       "             return_train_score=True, scoring='precision')"
      ]
     },
     "execution_count": 148,
     "metadata": {},
     "output_type": "execute_result"
    }
   ],
   "source": [
    "from sklearn.model_selection import ParameterGrid, GridSearchCV\n",
    "\n",
    "dt = DecisionTreeClassifier()\n",
    "\n",
    "grid = {'min_samples_leaf': [3,5,7,11], 'criterion': ['gini', 'entropy']}\n",
    "\n",
    "gs = GridSearchCV(dt, param_grid=grid, scoring='precision', cv=10, n_jobs=-1,\n",
    "                  return_train_score=True)\n",
    "\n",
    "gs.fit(X_train, y_train)"
   ]
  },
  {
   "cell_type": "code",
   "execution_count": 150,
   "metadata": {},
   "outputs": [
    {
     "data": {
      "text/plain": [
       "DecisionTreeClassifier(min_samples_leaf=5)"
      ]
     },
     "execution_count": 150,
     "metadata": {},
     "output_type": "execute_result"
    }
   ],
   "source": [
    "gs.best_estimator_"
   ]
  },
  {
   "cell_type": "code",
   "execution_count": 151,
   "metadata": {},
   "outputs": [
    {
     "data": {
      "text/plain": [
       "array([0, 0, 0, 0, 1, 1, 1, 1, 1, 0])"
      ]
     },
     "execution_count": 151,
     "metadata": {},
     "output_type": "execute_result"
    }
   ],
   "source": [
    "# obtiene las etiquetas del mejor predictor\n",
    "predicted_labels = gs.predict(X_test)\n",
    "predicted_labels[:10]"
   ]
  },
  {
   "cell_type": "code",
   "execution_count": 152,
   "metadata": {},
   "outputs": [
    {
     "data": {
      "text/plain": [
       "array([[0.5       , 0.5       ],\n",
       "       [0.85714286, 0.14285714],\n",
       "       [0.66666667, 0.33333333],\n",
       "       [1.        , 0.        ],\n",
       "       [0.4       , 0.6       ],\n",
       "       [0.        , 1.        ],\n",
       "       [0.33333333, 0.66666667],\n",
       "       [0.125     , 0.875     ],\n",
       "       [0.42857143, 0.57142857],\n",
       "       [1.        , 0.        ]])"
      ]
     },
     "execution_count": 152,
     "metadata": {},
     "output_type": "execute_result"
    }
   ],
   "source": [
    "predicted_scores = gs.predict_proba(X_test)\n",
    "predicted_scores[:10,]"
   ]
  },
  {
   "cell_type": "markdown",
   "metadata": {},
   "source": [
    "### Métricas de desempeño\n",
    "\n",
    "#### ROC y AUC"
   ]
  },
  {
   "cell_type": "code",
   "execution_count": 153,
   "metadata": {},
   "outputs": [
    {
     "data": {
      "image/png": "[encoded data removed]",
      "text/plain": [
       "<Figure size 432x288 with 1 Axes>"
      ]
     },
     "metadata": {
      "needs_background": "light"
     },
     "output_type": "display_data"
    }
   ],
   "source": [
    "fpr, tpr, thresholds = roc_curve(y_test, predicted_scores[:,1], pos_label=1)\n",
    "   \n",
    "plt.clf()\n",
    "plt.plot([0, 1], [0, 1], 'k--', c=\"red\")\n",
    "plt.plot(fpr, tpr)\n",
    "plt.title(\"Solución 3: ROC test - CV:10, AUC: \" + str(roc_auc_score(y_test, predictions_scores[:,1])))\n",
    "plt.xlabel(\"fpr\")\n",
    "plt.ylabel(\"tpr\")\n",
    "plt.show()"
   ]
  },
  {
   "cell_type": "markdown",
   "metadata": {},
   "source": [
    "#### Matriz de confusión"
   ]
  },
  {
   "cell_type": "code",
   "execution_count": 154,
   "metadata": {},
   "outputs": [
    {
     "data": {
      "text/plain": [
       "array([[145,  17],\n",
       "       [ 31,  74]])"
      ]
     },
     "execution_count": 154,
     "metadata": {},
     "output_type": "execute_result"
    }
   ],
   "source": [
    "confusion_matrix(y_test, predictions_labels)"
   ]
  },
  {
   "cell_type": "markdown",
   "metadata": {},
   "source": [
    "#### Accuracy"
   ]
  },
  {
   "cell_type": "code",
   "execution_count": 155,
   "metadata": {},
   "outputs": [
    {
     "data": {
      "text/plain": [
       "0.8202247191011236"
      ]
     },
     "execution_count": 155,
     "metadata": {},
     "output_type": "execute_result"
    }
   ],
   "source": [
    "accuracy_score(y_test, predicted_labels)"
   ]
  },
  {
   "cell_type": "markdown",
   "metadata": {},
   "source": [
    "**Métricas**"
   ]
  },
  {
   "cell_type": "code",
   "execution_count": 156,
   "metadata": {},
   "outputs": [],
   "source": [
    "metricas = pd.DataFrame({'thresholds': thresholds, 'tpr': tpr, 'fpr': fpr})"
   ]
  },
  {
   "cell_type": "code",
   "execution_count": 157,
   "metadata": {},
   "outputs": [],
   "source": [
    "metricas['tnr'] = 1 - metricas.fpr\n",
    "metricas['fnr'] = 1 - metricas.tpr\n",
    "metricas['precision'] = metricas.tpr/(metricas.tpr + metricas.fpr)\n",
    "metricas['recall'] = metricas.tpr/(metricas.tpr + metricas.fnr)"
   ]
  },
  {
   "cell_type": "code",
   "execution_count": 158,
   "metadata": {},
   "outputs": [
    {
     "data": {
      "text/html": [
       "<div>\n",
       "<style scoped>\n",
       "    .dataframe tbody tr th:only-of-type {\n",
       "        vertical-align: middle;\n",
       "    }\n",
       "\n",
       "    .dataframe tbody tr th {\n",
       "        vertical-align: top;\n",
       "    }\n",
       "\n",
       "    .dataframe thead th {\n",
       "        text-align: right;\n",
       "    }\n",
       "</style>\n",
       "<table border=\"1\" class=\"dataframe\">\n",
       "  <thead>\n",
       "    <tr style=\"text-align: right;\">\n",
       "      <th></th>\n",
       "      <th>thresholds</th>\n",
       "      <th>tpr</th>\n",
       "      <th>fpr</th>\n",
       "      <th>tnr</th>\n",
       "      <th>fnr</th>\n",
       "      <th>precision</th>\n",
       "      <th>recall</th>\n",
       "    </tr>\n",
       "  </thead>\n",
       "  <tbody>\n",
       "    <tr>\n",
       "      <th>0</th>\n",
       "      <td>2.000000</td>\n",
       "      <td>0.000000</td>\n",
       "      <td>0.000000</td>\n",
       "      <td>1.000000</td>\n",
       "      <td>1.000000</td>\n",
       "      <td>NaN</td>\n",
       "      <td>0.000000</td>\n",
       "    </tr>\n",
       "    <tr>\n",
       "      <th>1</th>\n",
       "      <td>1.000000</td>\n",
       "      <td>0.409524</td>\n",
       "      <td>0.018519</td>\n",
       "      <td>0.981481</td>\n",
       "      <td>0.590476</td>\n",
       "      <td>0.956737</td>\n",
       "      <td>0.409524</td>\n",
       "    </tr>\n",
       "    <tr>\n",
       "      <th>2</th>\n",
       "      <td>0.888889</td>\n",
       "      <td>0.419048</td>\n",
       "      <td>0.018519</td>\n",
       "      <td>0.981481</td>\n",
       "      <td>0.580952</td>\n",
       "      <td>0.957678</td>\n",
       "      <td>0.419048</td>\n",
       "    </tr>\n",
       "    <tr>\n",
       "      <th>3</th>\n",
       "      <td>0.875000</td>\n",
       "      <td>0.523810</td>\n",
       "      <td>0.037037</td>\n",
       "      <td>0.962963</td>\n",
       "      <td>0.476190</td>\n",
       "      <td>0.933962</td>\n",
       "      <td>0.523810</td>\n",
       "    </tr>\n",
       "    <tr>\n",
       "      <th>4</th>\n",
       "      <td>0.800000</td>\n",
       "      <td>0.552381</td>\n",
       "      <td>0.043210</td>\n",
       "      <td>0.956790</td>\n",
       "      <td>0.447619</td>\n",
       "      <td>0.927450</td>\n",
       "      <td>0.552381</td>\n",
       "    </tr>\n",
       "    <tr>\n",
       "      <th>5</th>\n",
       "      <td>0.750000</td>\n",
       "      <td>0.552381</td>\n",
       "      <td>0.055556</td>\n",
       "      <td>0.944444</td>\n",
       "      <td>0.447619</td>\n",
       "      <td>0.908616</td>\n",
       "      <td>0.552381</td>\n",
       "    </tr>\n",
       "    <tr>\n",
       "      <th>6</th>\n",
       "      <td>0.714286</td>\n",
       "      <td>0.571429</td>\n",
       "      <td>0.061728</td>\n",
       "      <td>0.938272</td>\n",
       "      <td>0.428571</td>\n",
       "      <td>0.902507</td>\n",
       "      <td>0.571429</td>\n",
       "    </tr>\n",
       "    <tr>\n",
       "      <th>7</th>\n",
       "      <td>0.666667</td>\n",
       "      <td>0.647619</td>\n",
       "      <td>0.067901</td>\n",
       "      <td>0.932099</td>\n",
       "      <td>0.352381</td>\n",
       "      <td>0.905102</td>\n",
       "      <td>0.647619</td>\n",
       "    </tr>\n",
       "    <tr>\n",
       "      <th>8</th>\n",
       "      <td>0.600000</td>\n",
       "      <td>0.695238</td>\n",
       "      <td>0.074074</td>\n",
       "      <td>0.925926</td>\n",
       "      <td>0.304762</td>\n",
       "      <td>0.903714</td>\n",
       "      <td>0.695238</td>\n",
       "    </tr>\n",
       "    <tr>\n",
       "      <th>9</th>\n",
       "      <td>0.571429</td>\n",
       "      <td>0.704762</td>\n",
       "      <td>0.104938</td>\n",
       "      <td>0.895062</td>\n",
       "      <td>0.295238</td>\n",
       "      <td>0.870399</td>\n",
       "      <td>0.704762</td>\n",
       "    </tr>\n",
       "    <tr>\n",
       "      <th>10</th>\n",
       "      <td>0.500000</td>\n",
       "      <td>0.752381</td>\n",
       "      <td>0.148148</td>\n",
       "      <td>0.851852</td>\n",
       "      <td>0.247619</td>\n",
       "      <td>0.835488</td>\n",
       "      <td>0.752381</td>\n",
       "    </tr>\n",
       "    <tr>\n",
       "      <th>11</th>\n",
       "      <td>0.400000</td>\n",
       "      <td>0.780952</td>\n",
       "      <td>0.166667</td>\n",
       "      <td>0.833333</td>\n",
       "      <td>0.219048</td>\n",
       "      <td>0.824121</td>\n",
       "      <td>0.780952</td>\n",
       "    </tr>\n",
       "    <tr>\n",
       "      <th>12</th>\n",
       "      <td>0.333333</td>\n",
       "      <td>0.790476</td>\n",
       "      <td>0.253086</td>\n",
       "      <td>0.746914</td>\n",
       "      <td>0.209524</td>\n",
       "      <td>0.757478</td>\n",
       "      <td>0.790476</td>\n",
       "    </tr>\n",
       "    <tr>\n",
       "      <th>13</th>\n",
       "      <td>0.285714</td>\n",
       "      <td>0.790476</td>\n",
       "      <td>0.296296</td>\n",
       "      <td>0.703704</td>\n",
       "      <td>0.209524</td>\n",
       "      <td>0.727361</td>\n",
       "      <td>0.790476</td>\n",
       "    </tr>\n",
       "    <tr>\n",
       "      <th>14</th>\n",
       "      <td>0.250000</td>\n",
       "      <td>0.800000</td>\n",
       "      <td>0.327160</td>\n",
       "      <td>0.672840</td>\n",
       "      <td>0.200000</td>\n",
       "      <td>0.709748</td>\n",
       "      <td>0.800000</td>\n",
       "    </tr>\n",
       "    <tr>\n",
       "      <th>15</th>\n",
       "      <td>0.222222</td>\n",
       "      <td>0.800000</td>\n",
       "      <td>0.333333</td>\n",
       "      <td>0.666667</td>\n",
       "      <td>0.200000</td>\n",
       "      <td>0.705882</td>\n",
       "      <td>0.800000</td>\n",
       "    </tr>\n",
       "    <tr>\n",
       "      <th>16</th>\n",
       "      <td>0.200000</td>\n",
       "      <td>0.800000</td>\n",
       "      <td>0.395062</td>\n",
       "      <td>0.604938</td>\n",
       "      <td>0.200000</td>\n",
       "      <td>0.669421</td>\n",
       "      <td>0.800000</td>\n",
       "    </tr>\n",
       "    <tr>\n",
       "      <th>17</th>\n",
       "      <td>0.166667</td>\n",
       "      <td>0.828571</td>\n",
       "      <td>0.413580</td>\n",
       "      <td>0.586420</td>\n",
       "      <td>0.171429</td>\n",
       "      <td>0.667045</td>\n",
       "      <td>0.828571</td>\n",
       "    </tr>\n",
       "    <tr>\n",
       "      <th>18</th>\n",
       "      <td>0.142857</td>\n",
       "      <td>0.847619</td>\n",
       "      <td>0.456790</td>\n",
       "      <td>0.543210</td>\n",
       "      <td>0.152381</td>\n",
       "      <td>0.649811</td>\n",
       "      <td>0.847619</td>\n",
       "    </tr>\n",
       "    <tr>\n",
       "      <th>19</th>\n",
       "      <td>0.111111</td>\n",
       "      <td>0.847619</td>\n",
       "      <td>0.512346</td>\n",
       "      <td>0.487654</td>\n",
       "      <td>0.152381</td>\n",
       "      <td>0.623265</td>\n",
       "      <td>0.847619</td>\n",
       "    </tr>\n",
       "    <tr>\n",
       "      <th>20</th>\n",
       "      <td>0.000000</td>\n",
       "      <td>1.000000</td>\n",
       "      <td>1.000000</td>\n",
       "      <td>0.000000</td>\n",
       "      <td>0.000000</td>\n",
       "      <td>0.500000</td>\n",
       "      <td>1.000000</td>\n",
       "    </tr>\n",
       "  </tbody>\n",
       "</table>\n",
       "</div>"
      ],
      "text/plain": [
       "    thresholds       tpr       fpr       tnr       fnr  precision    recall\n",
       "0     2.000000  0.000000  0.000000  1.000000  1.000000        NaN  0.000000\n",
       "1     1.000000  0.409524  0.018519  0.981481  0.590476   0.956737  0.409524\n",
       "2     0.888889  0.419048  0.018519  0.981481  0.580952   0.957678  0.419048\n",
       "3     0.875000  0.523810  0.037037  0.962963  0.476190   0.933962  0.523810\n",
       "4     0.800000  0.552381  0.043210  0.956790  0.447619   0.927450  0.552381\n",
       "5     0.750000  0.552381  0.055556  0.944444  0.447619   0.908616  0.552381\n",
       "6     0.714286  0.571429  0.061728  0.938272  0.428571   0.902507  0.571429\n",
       "7     0.666667  0.647619  0.067901  0.932099  0.352381   0.905102  0.647619\n",
       "8     0.600000  0.695238  0.074074  0.925926  0.304762   0.903714  0.695238\n",
       "9     0.571429  0.704762  0.104938  0.895062  0.295238   0.870399  0.704762\n",
       "10    0.500000  0.752381  0.148148  0.851852  0.247619   0.835488  0.752381\n",
       "11    0.400000  0.780952  0.166667  0.833333  0.219048   0.824121  0.780952\n",
       "12    0.333333  0.790476  0.253086  0.746914  0.209524   0.757478  0.790476\n",
       "13    0.285714  0.790476  0.296296  0.703704  0.209524   0.727361  0.790476\n",
       "14    0.250000  0.800000  0.327160  0.672840  0.200000   0.709748  0.800000\n",
       "15    0.222222  0.800000  0.333333  0.666667  0.200000   0.705882  0.800000\n",
       "16    0.200000  0.800000  0.395062  0.604938  0.200000   0.669421  0.800000\n",
       "17    0.166667  0.828571  0.413580  0.586420  0.171429   0.667045  0.828571\n",
       "18    0.142857  0.847619  0.456790  0.543210  0.152381   0.649811  0.847619\n",
       "19    0.111111  0.847619  0.512346  0.487654  0.152381   0.623265  0.847619\n",
       "20    0.000000  1.000000  1.000000  0.000000  0.000000   0.500000  1.000000"
      ]
     },
     "execution_count": 158,
     "metadata": {},
     "output_type": "execute_result"
    }
   ],
   "source": [
    "metricas"
   ]
  },
  {
   "cell_type": "markdown",
   "metadata": {},
   "source": [
    "¿Cuál es el *threshold* para solo tener 5% de falsos positivos? \n",
    "\n",
    "Una vez que encuentras ese threshold entonces lo que haremos es que cada vez que generemos un score de predicción verificaremos si ese score en menor o igual que el que decidimos escoger, si es menor entonces le pondremos la etiqueta 0, si es mayor entonces tendrá la etiqueta 1. Nunca debes escoger el threshol 0 o 1. "
   ]
  },
  {
   "cell_type": "code",
   "execution_count": 159,
   "metadata": {},
   "outputs": [
    {
     "data": {
      "text/plain": [
       "[0, 0, 0, 0, 0, 1, 0, 1, 0, 0]"
      ]
     },
     "execution_count": 159,
     "metadata": {},
     "output_type": "execute_result"
    }
   ],
   "source": [
    "labels_threshold = [0 if score < 0.8 else 1 for score in predicted_scores[:,1]]\n",
    "labels_threshold[:10] "
   ]
  },
  {
   "cell_type": "code",
   "execution_count": 160,
   "metadata": {},
   "outputs": [
    {
     "data": {
      "text/plain": [
       "65"
      ]
     },
     "execution_count": 160,
     "metadata": {},
     "output_type": "execute_result"
    }
   ],
   "source": [
    "labels_w_threshold = pd.Series(labels_threshold)\n",
    "labels_w_threshold.sum()"
   ]
  },
  {
   "cell_type": "code",
   "execution_count": 161,
   "metadata": {},
   "outputs": [
    {
     "data": {
      "text/plain": [
       "146    0\n",
       "736    1\n",
       "243    0\n",
       "12     0\n",
       "258    1\n",
       "Name: survived, dtype: int64"
      ]
     },
     "execution_count": 161,
     "metadata": {},
     "output_type": "execute_result"
    }
   ],
   "source": [
    "y_labels = pd.Series(y_test)\n",
    "y_labels.head()"
   ]
  },
  {
   "cell_type": "code",
   "execution_count": 162,
   "metadata": {},
   "outputs": [
    {
     "data": {
      "text/plain": [
       "array([[155,   7],\n",
       "       [ 47,  58]])"
      ]
     },
     "execution_count": 162,
     "metadata": {},
     "output_type": "execute_result"
    }
   ],
   "source": [
    "confusion_matrix(y_test, labels_threshold)"
   ]
  },
  {
   "cell_type": "code",
   "execution_count": 163,
   "metadata": {},
   "outputs": [
    {
     "data": {
      "text/html": [
       "<div>\n",
       "<style scoped>\n",
       "    .dataframe tbody tr th:only-of-type {\n",
       "        vertical-align: middle;\n",
       "    }\n",
       "\n",
       "    .dataframe tbody tr th {\n",
       "        vertical-align: top;\n",
       "    }\n",
       "\n",
       "    .dataframe thead th {\n",
       "        text-align: right;\n",
       "    }\n",
       "</style>\n",
       "<table border=\"1\" class=\"dataframe\">\n",
       "  <thead>\n",
       "    <tr style=\"text-align: right;\">\n",
       "      <th></th>\n",
       "      <th>predicted</th>\n",
       "      <th>true_label</th>\n",
       "    </tr>\n",
       "  </thead>\n",
       "  <tbody>\n",
       "    <tr>\n",
       "      <th>146</th>\n",
       "      <td>0</td>\n",
       "      <td>0</td>\n",
       "    </tr>\n",
       "    <tr>\n",
       "      <th>736</th>\n",
       "      <td>0</td>\n",
       "      <td>1</td>\n",
       "    </tr>\n",
       "    <tr>\n",
       "      <th>243</th>\n",
       "      <td>0</td>\n",
       "      <td>0</td>\n",
       "    </tr>\n",
       "    <tr>\n",
       "      <th>12</th>\n",
       "      <td>0</td>\n",
       "      <td>0</td>\n",
       "    </tr>\n",
       "    <tr>\n",
       "      <th>258</th>\n",
       "      <td>0</td>\n",
       "      <td>1</td>\n",
       "    </tr>\n",
       "  </tbody>\n",
       "</table>\n",
       "</div>"
      ],
      "text/plain": [
       "     predicted  true_label\n",
       "146          0           0\n",
       "736          0           1\n",
       "243          0           0\n",
       "12           0           0\n",
       "258          0           1"
      ]
     },
     "execution_count": 163,
     "metadata": {},
     "output_type": "execute_result"
    }
   ],
   "source": [
    "df = pd.DataFrame({'predicted': labels_threshold, 'true_label': y_test})\n",
    "df.head()"
   ]
  },
  {
   "cell_type": "code",
   "execution_count": 164,
   "metadata": {},
   "outputs": [],
   "source": [
    "\n",
    "df['tp'] = df[['predicted','true_label']].apply(lambda x: 1 if x.true_label == 1 and x.predicted == x.true_label else 0, axis=1)\n",
    "df['fn'] = df[['predicted','true_label']].apply(lambda x: 1 if x.true_label == 1 and x.predicted != x.true_label else 0, axis=1)\n",
    "df['tn'] = df[['predicted','true_label']].apply(lambda x: 1 if x.true_label == 0 and x.predicted == x.true_label else 0, axis=1)\n",
    "df['fp'] = df[['predicted','true_label']].apply(lambda x: 1 if x.true_label == 0 and x.predicted != x.true_label else 0, axis=1)"
   ]
  },
  {
   "cell_type": "code",
   "execution_count": 165,
   "metadata": {},
   "outputs": [
    {
     "data": {
      "text/html": [
       "<div>\n",
       "<style scoped>\n",
       "    .dataframe tbody tr th:only-of-type {\n",
       "        vertical-align: middle;\n",
       "    }\n",
       "\n",
       "    .dataframe tbody tr th {\n",
       "        vertical-align: top;\n",
       "    }\n",
       "\n",
       "    .dataframe thead th {\n",
       "        text-align: right;\n",
       "    }\n",
       "</style>\n",
       "<table border=\"1\" class=\"dataframe\">\n",
       "  <thead>\n",
       "    <tr style=\"text-align: right;\">\n",
       "      <th></th>\n",
       "      <th>predicted</th>\n",
       "      <th>true_label</th>\n",
       "      <th>tp</th>\n",
       "      <th>fn</th>\n",
       "      <th>tn</th>\n",
       "      <th>fp</th>\n",
       "    </tr>\n",
       "  </thead>\n",
       "  <tbody>\n",
       "    <tr>\n",
       "      <th>146</th>\n",
       "      <td>0</td>\n",
       "      <td>0</td>\n",
       "      <td>0</td>\n",
       "      <td>0</td>\n",
       "      <td>1</td>\n",
       "      <td>0</td>\n",
       "    </tr>\n",
       "    <tr>\n",
       "      <th>736</th>\n",
       "      <td>0</td>\n",
       "      <td>1</td>\n",
       "      <td>0</td>\n",
       "      <td>1</td>\n",
       "      <td>0</td>\n",
       "      <td>0</td>\n",
       "    </tr>\n",
       "    <tr>\n",
       "      <th>243</th>\n",
       "      <td>0</td>\n",
       "      <td>0</td>\n",
       "      <td>0</td>\n",
       "      <td>0</td>\n",
       "      <td>1</td>\n",
       "      <td>0</td>\n",
       "    </tr>\n",
       "    <tr>\n",
       "      <th>12</th>\n",
       "      <td>0</td>\n",
       "      <td>0</td>\n",
       "      <td>0</td>\n",
       "      <td>0</td>\n",
       "      <td>1</td>\n",
       "      <td>0</td>\n",
       "    </tr>\n",
       "    <tr>\n",
       "      <th>258</th>\n",
       "      <td>0</td>\n",
       "      <td>1</td>\n",
       "      <td>0</td>\n",
       "      <td>1</td>\n",
       "      <td>0</td>\n",
       "      <td>0</td>\n",
       "    </tr>\n",
       "  </tbody>\n",
       "</table>\n",
       "</div>"
      ],
      "text/plain": [
       "     predicted  true_label  tp  fn  tn  fp\n",
       "146          0           0   0   0   1   0\n",
       "736          0           1   0   1   0   0\n",
       "243          0           0   0   0   1   0\n",
       "12           0           0   0   0   1   0\n",
       "258          0           1   0   1   0   0"
      ]
     },
     "execution_count": 165,
     "metadata": {},
     "output_type": "execute_result"
    }
   ],
   "source": [
    "df.head()"
   ]
  },
  {
   "cell_type": "code",
   "execution_count": 166,
   "metadata": {},
   "outputs": [
    {
     "data": {
      "text/plain": [
       "(58, 7, 155, 47)"
      ]
     },
     "execution_count": 166,
     "metadata": {},
     "output_type": "execute_result"
    }
   ],
   "source": [
    "(df.tp.sum(), df.fp.sum(), df.tn.sum(), df.fn.sum())"
   ]
  },
  {
   "cell_type": "code",
   "execution_count": 167,
   "metadata": {},
   "outputs": [
    {
     "data": {
      "text/plain": [
       "105"
      ]
     },
     "execution_count": 167,
     "metadata": {},
     "output_type": "execute_result"
    }
   ],
   "source": [
    "y_labels.sum()"
   ]
  },
  {
   "cell_type": "code",
   "execution_count": 168,
   "metadata": {},
   "outputs": [
    {
     "data": {
      "text/plain": [
       "(162,)"
      ]
     },
     "execution_count": 168,
     "metadata": {},
     "output_type": "execute_result"
    }
   ],
   "source": [
    "y_labels.filter(y_labels == 0).shape"
   ]
  },
  {
   "cell_type": "markdown",
   "metadata": {},
   "source": [
    "+ ¿Notaste que en todas las soluciones la matriz de confusión siempre es la misma? ¿Por qué sucede esto?\n",
    "+ ¿Qué crees que sucedería con las métricas de desempeño si en lugar de pasar un set de pruebas con datos nuevos pasas los datos con los que entrenaste? \n",
    "\n",
    "\n",
    "### Referencias \n",
    "\n",
    "+ [Sklearn user guide](https://scikit-learn.org/stable/install.html)\n",
    "+ [Sklearn API](https://scikit-learn.org/stable/modules/classes.html)\n",
    "+ [Sklearn DecisionTreeClassifier]()\n",
    "+ [Sklearn metrics](https://scikit-learn.org/stable/modules/classes.html#sklearn-metrics-metrics)\n",
    "+ [Sklearn model_selection](https://scikit-learn.org/stable/modules/classes.html#module-sklearn.model_selection)\n",
    "+ [Sklearn GridSearchCV](https://scikit-learn.org/stable/modules/generated/sklearn.model_selection.GridSearchCV.html#sklearn.model_selection.GridSearchCV)\n",
    "+ [Sklearn KFold](https://scikit-learn.org/stable/modules/generated/sklearn.model_selection.KFold.html#sklearn.model_selection.KFold)\n",
    "+ [Sklearn train_test_split](https://scikit-learn.org/stable/modules/generated/sklearn.model_selection.train_test_split.html#sklearn.model_selection.train_test_split)"
   ]
  },
  {
   "cell_type": "code",
   "execution_count": null,
   "metadata": {},
   "outputs": [],
   "source": []
  }
 ],
 "metadata": {
  "kernelspec": {
   "display_name": "itam",
   "language": "python",
   "name": "itam"
  },
  "language_info": {
   "codemirror_mode": {
    "name": "ipython",
    "version": 3
   },
   "file_extension": ".py",
   "mimetype": "text/x-python",
   "name": "python",
   "nbconvert_exporter": "python",
   "pygments_lexer": "ipython3",
   "version": "3.7.4"
  }
 },
 "nbformat": 4,
 "nbformat_minor": 2
}
