{
 "cells": [
  {
   "cell_type": "code",
   "execution_count": 64,
   "metadata": {},
   "outputs": [],
   "source": [
    "import pandas as pd\n",
    "import numpy as np\n",
    "import matplotlib.pyplot as plt\n",
    "import seaborn as sns\n",
    "from sklearn.model_selection import train_test_split\n",
    "from sklearn.metrics import roc_auc_score, roc_curve \n",
    "from sklearn.metrics import confusion_matrix"
   ]
  },
  {
   "cell_type": "code",
   "execution_count": 23,
   "metadata": {},
   "outputs": [],
   "source": [
    "np.random.seed(20201101)"
   ]
  },
  {
   "cell_type": "code",
   "execution_count": 2,
   "metadata": {},
   "outputs": [],
   "source": [
    "diabetes = pd.read_csv(\"diabetes.csv\")"
   ]
  },
  {
   "cell_type": "code",
   "execution_count": 3,
   "metadata": {},
   "outputs": [
    {
     "data": {
      "text/html": [
       "<div>\n",
       "<style scoped>\n",
       "    .dataframe tbody tr th:only-of-type {\n",
       "        vertical-align: middle;\n",
       "    }\n",
       "\n",
       "    .dataframe tbody tr th {\n",
       "        vertical-align: top;\n",
       "    }\n",
       "\n",
       "    .dataframe thead th {\n",
       "        text-align: right;\n",
       "    }\n",
       "</style>\n",
       "<table border=\"1\" class=\"dataframe\">\n",
       "  <thead>\n",
       "    <tr style=\"text-align: right;\">\n",
       "      <th></th>\n",
       "      <th>Pregnancies</th>\n",
       "      <th>Glucose</th>\n",
       "      <th>BloodPressure</th>\n",
       "      <th>SkinThickness</th>\n",
       "      <th>Insulin</th>\n",
       "      <th>BMI</th>\n",
       "      <th>DiabetesPedigreeFunction</th>\n",
       "      <th>Age</th>\n",
       "      <th>Outcome</th>\n",
       "    </tr>\n",
       "  </thead>\n",
       "  <tbody>\n",
       "    <tr>\n",
       "      <th>0</th>\n",
       "      <td>6</td>\n",
       "      <td>148</td>\n",
       "      <td>72</td>\n",
       "      <td>35</td>\n",
       "      <td>0</td>\n",
       "      <td>33.6</td>\n",
       "      <td>0.627</td>\n",
       "      <td>50</td>\n",
       "      <td>1</td>\n",
       "    </tr>\n",
       "    <tr>\n",
       "      <th>1</th>\n",
       "      <td>1</td>\n",
       "      <td>85</td>\n",
       "      <td>66</td>\n",
       "      <td>29</td>\n",
       "      <td>0</td>\n",
       "      <td>26.6</td>\n",
       "      <td>0.351</td>\n",
       "      <td>31</td>\n",
       "      <td>0</td>\n",
       "    </tr>\n",
       "    <tr>\n",
       "      <th>2</th>\n",
       "      <td>8</td>\n",
       "      <td>183</td>\n",
       "      <td>64</td>\n",
       "      <td>0</td>\n",
       "      <td>0</td>\n",
       "      <td>23.3</td>\n",
       "      <td>0.672</td>\n",
       "      <td>32</td>\n",
       "      <td>1</td>\n",
       "    </tr>\n",
       "    <tr>\n",
       "      <th>3</th>\n",
       "      <td>1</td>\n",
       "      <td>89</td>\n",
       "      <td>66</td>\n",
       "      <td>23</td>\n",
       "      <td>94</td>\n",
       "      <td>28.1</td>\n",
       "      <td>0.167</td>\n",
       "      <td>21</td>\n",
       "      <td>0</td>\n",
       "    </tr>\n",
       "    <tr>\n",
       "      <th>4</th>\n",
       "      <td>0</td>\n",
       "      <td>137</td>\n",
       "      <td>40</td>\n",
       "      <td>35</td>\n",
       "      <td>168</td>\n",
       "      <td>43.1</td>\n",
       "      <td>2.288</td>\n",
       "      <td>33</td>\n",
       "      <td>1</td>\n",
       "    </tr>\n",
       "  </tbody>\n",
       "</table>\n",
       "</div>"
      ],
      "text/plain": [
       "   Pregnancies  Glucose  BloodPressure  SkinThickness  Insulin   BMI  \\\n",
       "0            6      148             72             35        0  33.6   \n",
       "1            1       85             66             29        0  26.6   \n",
       "2            8      183             64              0        0  23.3   \n",
       "3            1       89             66             23       94  28.1   \n",
       "4            0      137             40             35      168  43.1   \n",
       "\n",
       "   DiabetesPedigreeFunction  Age  Outcome  \n",
       "0                     0.627   50        1  \n",
       "1                     0.351   31        0  \n",
       "2                     0.672   32        1  \n",
       "3                     0.167   21        0  \n",
       "4                     2.288   33        1  "
      ]
     },
     "execution_count": 3,
     "metadata": {},
     "output_type": "execute_result"
    }
   ],
   "source": [
    "diabetes.head()"
   ]
  },
  {
   "cell_type": "markdown",
   "metadata": {},
   "source": [
    "Cambiamos las columnas de notación, a minúsculas y agregamos guión bajo. Está un poco elaborado porque tiene que checar las que son mayúsuculas porque ahí empieza una palabra nueva."
   ]
  },
  {
   "cell_type": "code",
   "execution_count": 4,
   "metadata": {},
   "outputs": [],
   "source": [
    "def rename_column(col):\n",
    "    n = len(col)\n",
    "    index = []\n",
    "    for i in range(n-1):\n",
    "        if col[i+1].isupper():\n",
    "            index.append(i+1)\n",
    "            \n",
    "    col = col.lower()\n",
    "    bias = 0\n",
    "    for i in index:\n",
    "        col = col[:(i+bias)] + '_' + col[(i+bias):]\n",
    "        bias+=1\n",
    "    return col"
   ]
  },
  {
   "cell_type": "code",
   "execution_count": 5,
   "metadata": {},
   "outputs": [],
   "source": [
    "diabetes.rename(columns = {col: rename_column(col) for col in diabetes.columns.values}, inplace = True)"
   ]
  },
  {
   "cell_type": "code",
   "execution_count": 6,
   "metadata": {},
   "outputs": [
    {
     "data": {
      "text/html": [
       "<div>\n",
       "<style scoped>\n",
       "    .dataframe tbody tr th:only-of-type {\n",
       "        vertical-align: middle;\n",
       "    }\n",
       "\n",
       "    .dataframe tbody tr th {\n",
       "        vertical-align: top;\n",
       "    }\n",
       "\n",
       "    .dataframe thead th {\n",
       "        text-align: right;\n",
       "    }\n",
       "</style>\n",
       "<table border=\"1\" class=\"dataframe\">\n",
       "  <thead>\n",
       "    <tr style=\"text-align: right;\">\n",
       "      <th></th>\n",
       "      <th>pregnancies</th>\n",
       "      <th>glucose</th>\n",
       "      <th>blood_pressure</th>\n",
       "      <th>skin_thickness</th>\n",
       "      <th>insulin</th>\n",
       "      <th>b_m_i</th>\n",
       "      <th>diabetes_pedigree_function</th>\n",
       "      <th>age</th>\n",
       "      <th>outcome</th>\n",
       "    </tr>\n",
       "  </thead>\n",
       "  <tbody>\n",
       "    <tr>\n",
       "      <th>0</th>\n",
       "      <td>6</td>\n",
       "      <td>148</td>\n",
       "      <td>72</td>\n",
       "      <td>35</td>\n",
       "      <td>0</td>\n",
       "      <td>33.6</td>\n",
       "      <td>0.627</td>\n",
       "      <td>50</td>\n",
       "      <td>1</td>\n",
       "    </tr>\n",
       "    <tr>\n",
       "      <th>1</th>\n",
       "      <td>1</td>\n",
       "      <td>85</td>\n",
       "      <td>66</td>\n",
       "      <td>29</td>\n",
       "      <td>0</td>\n",
       "      <td>26.6</td>\n",
       "      <td>0.351</td>\n",
       "      <td>31</td>\n",
       "      <td>0</td>\n",
       "    </tr>\n",
       "    <tr>\n",
       "      <th>2</th>\n",
       "      <td>8</td>\n",
       "      <td>183</td>\n",
       "      <td>64</td>\n",
       "      <td>0</td>\n",
       "      <td>0</td>\n",
       "      <td>23.3</td>\n",
       "      <td>0.672</td>\n",
       "      <td>32</td>\n",
       "      <td>1</td>\n",
       "    </tr>\n",
       "    <tr>\n",
       "      <th>3</th>\n",
       "      <td>1</td>\n",
       "      <td>89</td>\n",
       "      <td>66</td>\n",
       "      <td>23</td>\n",
       "      <td>94</td>\n",
       "      <td>28.1</td>\n",
       "      <td>0.167</td>\n",
       "      <td>21</td>\n",
       "      <td>0</td>\n",
       "    </tr>\n",
       "    <tr>\n",
       "      <th>4</th>\n",
       "      <td>0</td>\n",
       "      <td>137</td>\n",
       "      <td>40</td>\n",
       "      <td>35</td>\n",
       "      <td>168</td>\n",
       "      <td>43.1</td>\n",
       "      <td>2.288</td>\n",
       "      <td>33</td>\n",
       "      <td>1</td>\n",
       "    </tr>\n",
       "  </tbody>\n",
       "</table>\n",
       "</div>"
      ],
      "text/plain": [
       "   pregnancies  glucose  blood_pressure  skin_thickness  insulin  b_m_i  \\\n",
       "0            6      148              72              35        0   33.6   \n",
       "1            1       85              66              29        0   26.6   \n",
       "2            8      183              64               0        0   23.3   \n",
       "3            1       89              66              23       94   28.1   \n",
       "4            0      137              40              35      168   43.1   \n",
       "\n",
       "   diabetes_pedigree_function  age  outcome  \n",
       "0                       0.627   50        1  \n",
       "1                       0.351   31        0  \n",
       "2                       0.672   32        1  \n",
       "3                       0.167   21        0  \n",
       "4                       2.288   33        1  "
      ]
     },
     "execution_count": 6,
     "metadata": {},
     "output_type": "execute_result"
    }
   ],
   "source": [
    "diabetes.head()"
   ]
  },
  {
   "cell_type": "code",
   "execution_count": 7,
   "metadata": {},
   "outputs": [
    {
     "data": {
      "text/plain": [
       "pregnancies                     int64\n",
       "glucose                         int64\n",
       "blood_pressure                  int64\n",
       "skin_thickness                  int64\n",
       "insulin                         int64\n",
       "b_m_i                         float64\n",
       "diabetes_pedigree_function    float64\n",
       "age                             int64\n",
       "outcome                         int64\n",
       "dtype: object"
      ]
     },
     "execution_count": 7,
     "metadata": {},
     "output_type": "execute_result"
    }
   ],
   "source": [
    "diabetes.dtypes"
   ]
  },
  {
   "cell_type": "markdown",
   "metadata": {},
   "source": [
    "Todas las varaible son numéricas entonces no tenemos problema con Scikit learn. Ahora, ponemos en la y la variable que queremos predecir."
   ]
  },
  {
   "cell_type": "code",
   "execution_count": 9,
   "metadata": {},
   "outputs": [],
   "source": [
    "y = diabetes['outcome']"
   ]
  },
  {
   "cell_type": "markdown",
   "metadata": {},
   "source": [
    "# 1¿Cuál es la etiqueta positiva?"
   ]
  },
  {
   "cell_type": "markdown",
   "metadata": {},
   "source": [
    "La etiqueta positiva es 1, es decir que sí tiene diabetes."
   ]
  },
  {
   "cell_type": "code",
   "execution_count": 14,
   "metadata": {},
   "outputs": [],
   "source": [
    "X = diabetes.filter(['pregnancies', 'glucose', 'blood_pressure', 'skin_thickness', 'insulin', 'b_m_i', 'diabetes_pedigree_function', 'age'], axis = 1)"
   ]
  },
  {
   "cell_type": "code",
   "execution_count": 20,
   "metadata": {},
   "outputs": [
    {
     "data": {
      "text/plain": [
       "(768, 8)"
      ]
     },
     "execution_count": 20,
     "metadata": {},
     "output_type": "execute_result"
    }
   ],
   "source": [
    "X.shape"
   ]
  },
  {
   "cell_type": "code",
   "execution_count": 26,
   "metadata": {},
   "outputs": [],
   "source": [
    "X_train, X_test, y_train, y_test = train_test_split(X,y, test_size = 0.25)"
   ]
  },
  {
   "cell_type": "markdown",
   "metadata": {},
   "source": [
    "No usamos random_state porque ya definimos la semilla al principio."
   ]
  },
  {
   "cell_type": "code",
   "execution_count": 27,
   "metadata": {},
   "outputs": [
    {
     "name": "stdout",
     "output_type": "stream",
     "text": [
      "\n",
      "X_train, y_train:  ((576, 8), (576,))\n",
      "\n",
      "X_test, y_test:  ((192, 8), (192,))\n"
     ]
    }
   ],
   "source": [
    "print(\"\\nX_train, y_train: \", (X_train.shape, y_train.shape))\n",
    "print(\"\\nX_test, y_test: \", (X_test.shape, y_test.shape))"
   ]
  },
  {
   "cell_type": "markdown",
   "metadata": {},
   "source": [
    "# 2 Divide el conjunto de datos para que el 25% de los datos sean de pruebas. ¿Cuántas observaciones tienes en entrenamiento y pruebas?"
   ]
  },
  {
   "cell_type": "markdown",
   "metadata": {},
   "source": [
    "Tenemos 576 observaciones en entrenamiento, y 192 en pruebas."
   ]
  },
  {
   "cell_type": "code",
   "execution_count": 31,
   "metadata": {},
   "outputs": [],
   "source": [
    "from sklearn.tree import DecisionTreeClassifier\n",
    "from sklearn.model_selection import ParameterGrid, GridSearchCV"
   ]
  },
  {
   "cell_type": "code",
   "execution_count": 34,
   "metadata": {},
   "outputs": [
    {
     "data": {
      "text/plain": [
       "GridSearchCV(cv=10, estimator=DecisionTreeClassifier(),\n",
       "             param_grid={'max_depth': [5, 10, 15],\n",
       "                         'min_samples_leaf': [3, 5, 7]},\n",
       "             return_train_score=True, scoring='precision')"
      ]
     },
     "execution_count": 34,
     "metadata": {},
     "output_type": "execute_result"
    }
   ],
   "source": [
    "dt = DecisionTreeClassifier()\n",
    "grid = {'min_samples_leaf': [3,5,7], 'max_depth': [5, 10, 15]}\n",
    "gs = GridSearchCV(dt, param_grid = grid, scoring = 'precision', cv = 10, return_train_score = True)\n",
    "gs.fit(X_train, y_train)"
   ]
  },
  {
   "cell_type": "markdown",
   "metadata": {},
   "source": [
    "# 3 ¿Cuántos modelos generarás?"
   ]
  },
  {
   "cell_type": "markdown",
   "metadata": {},
   "source": [
    "En el grid se hace un producto cruz con los conjuntos de parámetros que escogemos, en este caso son 3 de min_samples_leaf, y 3 de max_depth, por lo tanto se generan 3*3 = 9 modelos"
   ]
  },
  {
   "cell_type": "code",
   "execution_count": 39,
   "metadata": {},
   "outputs": [
    {
     "data": {
      "text/plain": [
       "DecisionTreeClassifier(max_depth=5, min_samples_leaf=5)"
      ]
     },
     "execution_count": 39,
     "metadata": {},
     "output_type": "execute_result"
    }
   ],
   "source": [
    "gs.best_estimator_"
   ]
  },
  {
   "cell_type": "markdown",
   "metadata": {},
   "source": [
    "Ahí vemos que el mejor modelo de acuerdo a la precision es cuando max_depth es 5 y cuando min_samples_leaf es 5. Entonces tomamos ése."
   ]
  },
  {
   "cell_type": "code",
   "execution_count": 47,
   "metadata": {},
   "outputs": [
    {
     "data": {
      "text/plain": [
       "DecisionTreeClassifier()"
      ]
     },
     "execution_count": 47,
     "metadata": {},
     "output_type": "execute_result"
    }
   ],
   "source": [
    "#Aquí no estoy seguro si se hace así, o tengo que crear otro det que se el best estimator.\n",
    "dt.fit(X_train, y_train)"
   ]
  },
  {
   "cell_type": "markdown",
   "metadata": {},
   "source": [
    ">\n",
    ">Reee: aquí no sé si está bien usar dt.fit así, o debería de usar el best estimator para contestar las preguntas 4 y 5*\n",
    ">"
   ]
  },
  {
   "cell_type": "code",
   "execution_count": 45,
   "metadata": {},
   "outputs": [],
   "source": [
    "feature_importances_df = pd.DataFrame({'feature': X.columns.values, \n",
    "                                       'importance': dt.feature_importances_})\n"
   ]
  },
  {
   "cell_type": "code",
   "execution_count": 46,
   "metadata": {},
   "outputs": [
    {
     "data": {
      "text/html": [
       "<div>\n",
       "<style scoped>\n",
       "    .dataframe tbody tr th:only-of-type {\n",
       "        vertical-align: middle;\n",
       "    }\n",
       "\n",
       "    .dataframe tbody tr th {\n",
       "        vertical-align: top;\n",
       "    }\n",
       "\n",
       "    .dataframe thead th {\n",
       "        text-align: right;\n",
       "    }\n",
       "</style>\n",
       "<table border=\"1\" class=\"dataframe\">\n",
       "  <thead>\n",
       "    <tr style=\"text-align: right;\">\n",
       "      <th></th>\n",
       "      <th>feature</th>\n",
       "      <th>importance</th>\n",
       "    </tr>\n",
       "  </thead>\n",
       "  <tbody>\n",
       "    <tr>\n",
       "      <th>1</th>\n",
       "      <td>glucose</td>\n",
       "      <td>0.335138</td>\n",
       "    </tr>\n",
       "    <tr>\n",
       "      <th>5</th>\n",
       "      <td>b_m_i</td>\n",
       "      <td>0.154671</td>\n",
       "    </tr>\n",
       "    <tr>\n",
       "      <th>6</th>\n",
       "      <td>diabetes_pedigree_function</td>\n",
       "      <td>0.134337</td>\n",
       "    </tr>\n",
       "    <tr>\n",
       "      <th>7</th>\n",
       "      <td>age</td>\n",
       "      <td>0.130641</td>\n",
       "    </tr>\n",
       "    <tr>\n",
       "      <th>2</th>\n",
       "      <td>blood_pressure</td>\n",
       "      <td>0.073693</td>\n",
       "    </tr>\n",
       "    <tr>\n",
       "      <th>4</th>\n",
       "      <td>insulin</td>\n",
       "      <td>0.071629</td>\n",
       "    </tr>\n",
       "    <tr>\n",
       "      <th>0</th>\n",
       "      <td>pregnancies</td>\n",
       "      <td>0.058590</td>\n",
       "    </tr>\n",
       "    <tr>\n",
       "      <th>3</th>\n",
       "      <td>skin_thickness</td>\n",
       "      <td>0.041301</td>\n",
       "    </tr>\n",
       "  </tbody>\n",
       "</table>\n",
       "</div>"
      ],
      "text/plain": [
       "                      feature  importance\n",
       "1                     glucose    0.335138\n",
       "5                       b_m_i    0.154671\n",
       "6  diabetes_pedigree_function    0.134337\n",
       "7                         age    0.130641\n",
       "2              blood_pressure    0.073693\n",
       "4                     insulin    0.071629\n",
       "0                 pregnancies    0.058590\n",
       "3              skin_thickness    0.041301"
      ]
     },
     "execution_count": 46,
     "metadata": {},
     "output_type": "execute_result"
    }
   ],
   "source": [
    "feature_importances_df.sort_values(by=\"importance\", ascending=False)"
   ]
  },
  {
   "cell_type": "markdown",
   "metadata": {},
   "source": [
    "# 4 ¿Cuál es la variable que está en la raíz?"
   ]
  },
  {
   "cell_type": "markdown",
   "metadata": {},
   "source": [
    "Glucose, ya que es la que mayor importancia tiene."
   ]
  },
  {
   "cell_type": "markdown",
   "metadata": {},
   "source": [
    "# 5 ¿Cuáles son las 3 variables que aportan más información a la predicción?"
   ]
  },
  {
   "cell_type": "markdown",
   "metadata": {},
   "source": [
    "Glucose, b_m_i, diabetes_pedigree_function"
   ]
  },
  {
   "cell_type": "markdown",
   "metadata": {},
   "source": [
    "# Elimina las variables que tienen menos del 7% de importancia "
   ]
  },
  {
   "cell_type": "markdown",
   "metadata": {},
   "source": [
    "Entonces, hago una nueva X pero sin pregnancies y sin skin_thickness"
   ]
  },
  {
   "cell_type": "code",
   "execution_count": 48,
   "metadata": {},
   "outputs": [],
   "source": [
    "X = diabetes.filter(['glucose', 'blood_pressure', 'insulin', 'b_m_i', 'diabetes_pedigree_function', 'age'], axis = 1)"
   ]
  },
  {
   "cell_type": "markdown",
   "metadata": {},
   "source": [
    "# Vuelve a generar un GridSearchCV con los mismos hiperparámetros que configuraste anteriormente."
   ]
  },
  {
   "cell_type": "code",
   "execution_count": 50,
   "metadata": {},
   "outputs": [
    {
     "data": {
      "text/plain": [
       "GridSearchCV(cv=10, estimator=DecisionTreeClassifier(),\n",
       "             param_grid={'max_depth': [5, 10, 15],\n",
       "                         'min_samples_leaf': [3, 5, 7]},\n",
       "             return_train_score=True, scoring='precision')"
      ]
     },
     "execution_count": 50,
     "metadata": {},
     "output_type": "execute_result"
    }
   ],
   "source": [
    "X_train, X_test, y_train, y_test = train_test_split(X,y, test_size = 0.25)\n",
    "dt = DecisionTreeClassifier()\n",
    "grid = {'min_samples_leaf': [3,5,7], 'max_depth': [5, 10, 15]}\n",
    "gs = GridSearchCV(dt, param_grid = grid, scoring = 'precision', cv = 10, return_train_score = True)\n",
    "gs.fit(X_train, y_train)"
   ]
  },
  {
   "cell_type": "code",
   "execution_count": 51,
   "metadata": {},
   "outputs": [
    {
     "data": {
      "text/plain": [
       "DecisionTreeClassifier(max_depth=5, min_samples_leaf=7)"
      ]
     },
     "execution_count": 51,
     "metadata": {},
     "output_type": "execute_result"
    }
   ],
   "source": [
    "gs.best_estimator_"
   ]
  },
  {
   "cell_type": "markdown",
   "metadata": {},
   "source": [
    "# 6 ¿Qué hiperparámetros tiene el mejor modelo?"
   ]
  },
  {
   "cell_type": "markdown",
   "metadata": {},
   "source": [
    "Ahora cambió, best estimator es con max_depth = 5, y min_samples_leaf = 7"
   ]
  },
  {
   "cell_type": "code",
   "execution_count": 53,
   "metadata": {},
   "outputs": [],
   "source": [
    "be = gs.best_estimator_"
   ]
  },
  {
   "cell_type": "markdown",
   "metadata": {},
   "source": [
    ">\n",
    ">\n",
    ">Reee: aquí tampoco sé si está bien pero use el bes estimator para contestar las preguntas(7,8,9,10), le puse be"
   ]
  },
  {
   "cell_type": "markdown",
   "metadata": {},
   "source": [
    "# 7¿Cuál es el punto de corte del modelo que cumple con las restricciones de negocio (4 decimales)?"
   ]
  },
  {
   "cell_type": "markdown",
   "metadata": {},
   "source": [
    "Quermeos tener menos del 10 por ciento de False Positive"
   ]
  },
  {
   "cell_type": "code",
   "execution_count": 56,
   "metadata": {},
   "outputs": [
    {
     "data": {
      "text/plain": [
       "array([[0.09615385, 0.90384615],\n",
       "       [0.09615385, 0.90384615],\n",
       "       [0.63636364, 0.36363636],\n",
       "       [0.275     , 0.725     ],\n",
       "       [0.97435897, 0.02564103],\n",
       "       [0.59459459, 0.40540541],\n",
       "       [1.        , 0.        ],\n",
       "       [1.        , 0.        ],\n",
       "       [0.45454545, 0.54545455],\n",
       "       [0.80769231, 0.19230769]])"
      ]
     },
     "execution_count": 56,
     "metadata": {},
     "output_type": "execute_result"
    }
   ],
   "source": [
    "predictions_scores = be.predict_proba(X_test)\n",
    "predictions_scores[:10]"
   ]
  },
  {
   "cell_type": "code",
   "execution_count": 58,
   "metadata": {},
   "outputs": [],
   "source": [
    "fpr, tpr, thresholds_roc = roc_curve(y_test, predictions_scores[:,1], pos_label=1)"
   ]
  },
  {
   "cell_type": "code",
   "execution_count": 59,
   "metadata": {},
   "outputs": [
    {
     "data": {
      "text/html": [
       "<div>\n",
       "<style scoped>\n",
       "    .dataframe tbody tr th:only-of-type {\n",
       "        vertical-align: middle;\n",
       "    }\n",
       "\n",
       "    .dataframe tbody tr th {\n",
       "        vertical-align: top;\n",
       "    }\n",
       "\n",
       "    .dataframe thead th {\n",
       "        text-align: right;\n",
       "    }\n",
       "</style>\n",
       "<table border=\"1\" class=\"dataframe\">\n",
       "  <thead>\n",
       "    <tr style=\"text-align: right;\">\n",
       "      <th></th>\n",
       "      <th>thresholds</th>\n",
       "      <th>tpr</th>\n",
       "      <th>fpr</th>\n",
       "      <th>tnr</th>\n",
       "      <th>fnr</th>\n",
       "      <th>precision</th>\n",
       "      <th>recall</th>\n",
       "    </tr>\n",
       "  </thead>\n",
       "  <tbody>\n",
       "    <tr>\n",
       "      <th>0</th>\n",
       "      <td>2.000000</td>\n",
       "      <td>0.000000</td>\n",
       "      <td>0.000000</td>\n",
       "      <td>1.000000</td>\n",
       "      <td>1.000000</td>\n",
       "      <td>NaN</td>\n",
       "      <td>0.000000</td>\n",
       "    </tr>\n",
       "    <tr>\n",
       "      <th>1</th>\n",
       "      <td>1.000000</td>\n",
       "      <td>0.057143</td>\n",
       "      <td>0.016393</td>\n",
       "      <td>0.983607</td>\n",
       "      <td>0.942857</td>\n",
       "      <td>0.777070</td>\n",
       "      <td>0.057143</td>\n",
       "    </tr>\n",
       "    <tr>\n",
       "      <th>2</th>\n",
       "      <td>0.903846</td>\n",
       "      <td>0.257143</td>\n",
       "      <td>0.040984</td>\n",
       "      <td>0.959016</td>\n",
       "      <td>0.742857</td>\n",
       "      <td>0.862529</td>\n",
       "      <td>0.257143</td>\n",
       "    </tr>\n",
       "    <tr>\n",
       "      <th>3</th>\n",
       "      <td>0.725000</td>\n",
       "      <td>0.400000</td>\n",
       "      <td>0.081967</td>\n",
       "      <td>0.918033</td>\n",
       "      <td>0.600000</td>\n",
       "      <td>0.829932</td>\n",
       "      <td>0.400000</td>\n",
       "    </tr>\n",
       "    <tr>\n",
       "      <th>4</th>\n",
       "      <td>0.666667</td>\n",
       "      <td>0.428571</td>\n",
       "      <td>0.098361</td>\n",
       "      <td>0.901639</td>\n",
       "      <td>0.571429</td>\n",
       "      <td>0.813333</td>\n",
       "      <td>0.428571</td>\n",
       "    </tr>\n",
       "    <tr>\n",
       "      <th>5</th>\n",
       "      <td>0.550000</td>\n",
       "      <td>0.428571</td>\n",
       "      <td>0.131148</td>\n",
       "      <td>0.868852</td>\n",
       "      <td>0.571429</td>\n",
       "      <td>0.765690</td>\n",
       "      <td>0.428571</td>\n",
       "    </tr>\n",
       "    <tr>\n",
       "      <th>6</th>\n",
       "      <td>0.545455</td>\n",
       "      <td>0.457143</td>\n",
       "      <td>0.147541</td>\n",
       "      <td>0.852459</td>\n",
       "      <td>0.542857</td>\n",
       "      <td>0.756003</td>\n",
       "      <td>0.457143</td>\n",
       "    </tr>\n",
       "    <tr>\n",
       "      <th>7</th>\n",
       "      <td>0.500000</td>\n",
       "      <td>0.485714</td>\n",
       "      <td>0.147541</td>\n",
       "      <td>0.852459</td>\n",
       "      <td>0.514286</td>\n",
       "      <td>0.767012</td>\n",
       "      <td>0.485714</td>\n",
       "    </tr>\n",
       "    <tr>\n",
       "      <th>8</th>\n",
       "      <td>0.444444</td>\n",
       "      <td>0.500000</td>\n",
       "      <td>0.163934</td>\n",
       "      <td>0.836066</td>\n",
       "      <td>0.500000</td>\n",
       "      <td>0.753086</td>\n",
       "      <td>0.500000</td>\n",
       "    </tr>\n",
       "    <tr>\n",
       "      <th>9</th>\n",
       "      <td>0.428571</td>\n",
       "      <td>0.528571</td>\n",
       "      <td>0.180328</td>\n",
       "      <td>0.819672</td>\n",
       "      <td>0.471429</td>\n",
       "      <td>0.745623</td>\n",
       "      <td>0.528571</td>\n",
       "    </tr>\n",
       "    <tr>\n",
       "      <th>10</th>\n",
       "      <td>0.405405</td>\n",
       "      <td>0.728571</td>\n",
       "      <td>0.286885</td>\n",
       "      <td>0.713115</td>\n",
       "      <td>0.271429</td>\n",
       "      <td>0.717482</td>\n",
       "      <td>0.728571</td>\n",
       "    </tr>\n",
       "    <tr>\n",
       "      <th>11</th>\n",
       "      <td>0.363636</td>\n",
       "      <td>0.742857</td>\n",
       "      <td>0.303279</td>\n",
       "      <td>0.696721</td>\n",
       "      <td>0.257143</td>\n",
       "      <td>0.710096</td>\n",
       "      <td>0.742857</td>\n",
       "    </tr>\n",
       "    <tr>\n",
       "      <th>12</th>\n",
       "      <td>0.307692</td>\n",
       "      <td>0.814286</td>\n",
       "      <td>0.360656</td>\n",
       "      <td>0.639344</td>\n",
       "      <td>0.185714</td>\n",
       "      <td>0.693044</td>\n",
       "      <td>0.814286</td>\n",
       "    </tr>\n",
       "    <tr>\n",
       "      <th>13</th>\n",
       "      <td>0.285714</td>\n",
       "      <td>0.814286</td>\n",
       "      <td>0.401639</td>\n",
       "      <td>0.598361</td>\n",
       "      <td>0.185714</td>\n",
       "      <td>0.669684</td>\n",
       "      <td>0.814286</td>\n",
       "    </tr>\n",
       "    <tr>\n",
       "      <th>14</th>\n",
       "      <td>0.222222</td>\n",
       "      <td>0.814286</td>\n",
       "      <td>0.418033</td>\n",
       "      <td>0.581967</td>\n",
       "      <td>0.185714</td>\n",
       "      <td>0.660775</td>\n",
       "      <td>0.814286</td>\n",
       "    </tr>\n",
       "    <tr>\n",
       "      <th>15</th>\n",
       "      <td>0.192308</td>\n",
       "      <td>0.828571</td>\n",
       "      <td>0.475410</td>\n",
       "      <td>0.524590</td>\n",
       "      <td>0.171429</td>\n",
       "      <td>0.635417</td>\n",
       "      <td>0.828571</td>\n",
       "    </tr>\n",
       "    <tr>\n",
       "      <th>16</th>\n",
       "      <td>0.180000</td>\n",
       "      <td>0.928571</td>\n",
       "      <td>0.549180</td>\n",
       "      <td>0.450820</td>\n",
       "      <td>0.071429</td>\n",
       "      <td>0.628368</td>\n",
       "      <td>0.928571</td>\n",
       "    </tr>\n",
       "    <tr>\n",
       "      <th>17</th>\n",
       "      <td>0.142857</td>\n",
       "      <td>0.942857</td>\n",
       "      <td>0.581967</td>\n",
       "      <td>0.418033</td>\n",
       "      <td>0.057143</td>\n",
       "      <td>0.618338</td>\n",
       "      <td>0.942857</td>\n",
       "    </tr>\n",
       "    <tr>\n",
       "      <th>18</th>\n",
       "      <td>0.125000</td>\n",
       "      <td>0.942857</td>\n",
       "      <td>0.631148</td>\n",
       "      <td>0.368852</td>\n",
       "      <td>0.057143</td>\n",
       "      <td>0.599018</td>\n",
       "      <td>0.942857</td>\n",
       "    </tr>\n",
       "    <tr>\n",
       "      <th>19</th>\n",
       "      <td>0.025641</td>\n",
       "      <td>0.942857</td>\n",
       "      <td>0.721311</td>\n",
       "      <td>0.278689</td>\n",
       "      <td>0.057143</td>\n",
       "      <td>0.566563</td>\n",
       "      <td>0.942857</td>\n",
       "    </tr>\n",
       "    <tr>\n",
       "      <th>20</th>\n",
       "      <td>0.000000</td>\n",
       "      <td>1.000000</td>\n",
       "      <td>1.000000</td>\n",
       "      <td>0.000000</td>\n",
       "      <td>0.000000</td>\n",
       "      <td>0.500000</td>\n",
       "      <td>1.000000</td>\n",
       "    </tr>\n",
       "  </tbody>\n",
       "</table>\n",
       "</div>"
      ],
      "text/plain": [
       "    thresholds       tpr       fpr       tnr       fnr  precision    recall\n",
       "0     2.000000  0.000000  0.000000  1.000000  1.000000        NaN  0.000000\n",
       "1     1.000000  0.057143  0.016393  0.983607  0.942857   0.777070  0.057143\n",
       "2     0.903846  0.257143  0.040984  0.959016  0.742857   0.862529  0.257143\n",
       "3     0.725000  0.400000  0.081967  0.918033  0.600000   0.829932  0.400000\n",
       "4     0.666667  0.428571  0.098361  0.901639  0.571429   0.813333  0.428571\n",
       "5     0.550000  0.428571  0.131148  0.868852  0.571429   0.765690  0.428571\n",
       "6     0.545455  0.457143  0.147541  0.852459  0.542857   0.756003  0.457143\n",
       "7     0.500000  0.485714  0.147541  0.852459  0.514286   0.767012  0.485714\n",
       "8     0.444444  0.500000  0.163934  0.836066  0.500000   0.753086  0.500000\n",
       "9     0.428571  0.528571  0.180328  0.819672  0.471429   0.745623  0.528571\n",
       "10    0.405405  0.728571  0.286885  0.713115  0.271429   0.717482  0.728571\n",
       "11    0.363636  0.742857  0.303279  0.696721  0.257143   0.710096  0.742857\n",
       "12    0.307692  0.814286  0.360656  0.639344  0.185714   0.693044  0.814286\n",
       "13    0.285714  0.814286  0.401639  0.598361  0.185714   0.669684  0.814286\n",
       "14    0.222222  0.814286  0.418033  0.581967  0.185714   0.660775  0.814286\n",
       "15    0.192308  0.828571  0.475410  0.524590  0.171429   0.635417  0.828571\n",
       "16    0.180000  0.928571  0.549180  0.450820  0.071429   0.628368  0.928571\n",
       "17    0.142857  0.942857  0.581967  0.418033  0.057143   0.618338  0.942857\n",
       "18    0.125000  0.942857  0.631148  0.368852  0.057143   0.599018  0.942857\n",
       "19    0.025641  0.942857  0.721311  0.278689  0.057143   0.566563  0.942857\n",
       "20    0.000000  1.000000  1.000000  0.000000  0.000000   0.500000  1.000000"
      ]
     },
     "execution_count": 59,
     "metadata": {},
     "output_type": "execute_result"
    }
   ],
   "source": [
    "metricas_df = pd.DataFrame({'thresholds': thresholds_roc, 'tpr': tpr, 'fpr': fpr})\n",
    "metricas_df['tnr'] = 1 - metricas_df['fpr']\n",
    "metricas_df['fnr'] = 1 - metricas_df['tpr']\n",
    "metricas_df['precision'] = metricas_df.tpr/(metricas_df.tpr + metricas_df.fpr)\n",
    "metricas_df['recall'] = metricas_df.tpr/(metricas_df.tpr + metricas_df.fnr)\n",
    "metricas_df"
   ]
  },
  {
   "cell_type": "markdown",
   "metadata": {},
   "source": [
    "Entonces el punto de corte es 0.6666 ya que con eso tenemos solo el 9.8 por ciento de false positive."
   ]
  },
  {
   "cell_type": "markdown",
   "metadata": {},
   "source": [
    "# 8 ¿Qué porcentaje de FNR tendremos?"
   ]
  },
  {
   "cell_type": "markdown",
   "metadata": {},
   "source": [
    "Tendremos el 57.14 por ciento de False Negatives"
   ]
  },
  {
   "cell_type": "markdown",
   "metadata": {},
   "source": [
    "# 9 ¿Qué eficiencia tiene el modelo en ese punto?"
   ]
  },
  {
   "cell_type": "markdown",
   "metadata": {},
   "source": [
    "Recordamos que la eficiencia es igual a precision, entonces en ese punto tenemos 0.8133 de eficiencia."
   ]
  },
  {
   "cell_type": "markdown",
   "metadata": {},
   "source": [
    "# 10 ¿Cuál es la matriz de confusión asociada a ese punto de corte?"
   ]
  },
  {
   "cell_type": "code",
   "execution_count": 63,
   "metadata": {},
   "outputs": [],
   "source": [
    "\n",
    "prediction_labels = [1 if score >= 0.6666 else 0 for score in predictions_scores[:,1]]"
   ]
  },
  {
   "cell_type": "code",
   "execution_count": 66,
   "metadata": {},
   "outputs": [
    {
     "data": {
      "text/plain": [
       "array([[110,  12],\n",
       "       [ 40,  30]], dtype=int64)"
      ]
     },
     "execution_count": 66,
     "metadata": {},
     "output_type": "execute_result"
    }
   ],
   "source": [
    "confusion_matrix(y_test, prediction_labels)"
   ]
  },
  {
   "cell_type": "markdown",
   "metadata": {},
   "source": [
    "Ahí está la matriz de confusión asociada a ese corte"
   ]
  },
  {
   "cell_type": "code",
   "execution_count": null,
   "metadata": {},
   "outputs": [],
   "source": []
  }
 ],
 "metadata": {
  "kernelspec": {
   "display_name": "Python 3",
   "language": "python",
   "name": "python3"
  },
  "language_info": {
   "codemirror_mode": {
    "name": "ipython",
    "version": 3
   },
   "file_extension": ".py",
   "mimetype": "text/x-python",
   "name": "python",
   "nbconvert_exporter": "python",
   "pygments_lexer": "ipython3",
   "version": "3.8.5"
  }
 },
 "nbformat": 4,
 "nbformat_minor": 4
}
