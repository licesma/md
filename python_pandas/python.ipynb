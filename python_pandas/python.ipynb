{
 "cells": [
  {
   "cell_type": "markdown",
   "metadata": {},
   "source": [
    "![](../images/itam_logo.png)\n",
    "<br>\n",
    "\n",
    "## Python \n",
    "\n",
    "M. Sc. Liliana Millán Núñez liliana.millan@gmail.com\n",
    "\n",
    "Agosto 2020\n",
    "\n",
    "\n",
    "### Agenda \n",
    "\n",
    "+ Pyenv\n",
    "+ Python \n",
    "+ Ecosistema Python \n",
    "+ Tipos de datos\n",
    "+ Estructura de datos\n",
    "+ Funciones \n",
    "\n",
    "### First ...\n",
    "\n",
    "Antes de empezar hagamos un ejercicio rápido en [miro] para saber de sus sistemas operativos. \n",
    "\n",
    "Si tienes Windows primero necesitarás instalar [Ubuntu en Windows](https://www.microsoft.com/en-us/p/ubuntu/9nblggh4msv6?activetab=pivot:overviewtab) ya que todo lo demás será hecho sobre Linux. \n",
    "\n",
    "Una vez instalado, abre la aplicación y desde ahí inicia la siguiente parte. \n",
    "\n",
    "\n",
    "### Pyenv\n",
    "\n",
    "Administrador de versiones de Python que nos permite tener varias versiones de python instaladas en tu computadora sin romper tu ambiente y mantenerlas separadas. En conjunto con `virtualenv` se vuelve un *virtual environment* para administrar ambientes virtuales. \n",
    "\n",
    "+ [Instalar PyEnv](https://github.com/pyenv/pyenv). Ve a la sección de instalación y sigue las instrucciones para Linux. \n",
    "\n",
    "\n",
    "Tu computadora seguro ya trae Python 2.7 instalado (por lo menos las basadas en distribuciones de Linux: Ubuntu y Mac), sin embargo esta versión es la que ocupa el sistema operativo para sus procesos, no queremos meternos con esa versión. \n",
    "\n",
    "Para la clase ocuparemos la versión 3.7.4 de Python, para ello necesitas correr el siguiente comando: `pyenv install 3.7.4`.\n",
    "\n",
    "Revisa si tienes instalado `pip`, en tu terminal pon `pip` y ve lo que te regresa. Si es necesario, instala `pip` que es el administrador de paquetes de python [instalación](https://pip.pypa.io/en/stable/installing/)\n",
    "\n",
    "Instala `pyenv-virtualenv` siguiendo los pasos de este [repositorio](https://github.com/pyenv/pyenv-virtualenv).\n",
    "\n",
    "Crea un ambiente `itam_md`: `pyenv virtualenv 3.7.4 itam_md`\n",
    "\n",
    "Para activar tu ambiente (cada vez que hagas cosas de esta clase) puedes ejecutar el siguiente comando: `pyenv activate itam_md`. Una vez que termines de ocupar ese ambiente/la clase/la tarea/el proyecto puedes desactivate el ambiente con la siguiente instrucción: `pyenv deactivate`. \n",
    "\n",
    "\n",
    "\n",
    "\n",
    "### Jupyter notebooks\n",
    "\n",
    "Es muy común ocupar *Jupyter notebooks* como principal medio de generar código de Python -por lo menos en análisis de datos-. Sin embargo, no es recomendable utilizar *jupyter notebook* como medios de entrega ya que nunca se corren en el orden correcto -a menos que te obliguen a limpiarlo y ponerlo ordenado junto con texto explicativo de lo que estas haciendo-. \n",
    "\n",
    "Nosotros ocuparemos *Jupyter notebooks* para las tareas y deberán estar en el orden correcto con la organización y contexto -texto- adecuado. \n",
    "\n",
    "Para que no haya problemas de correr los scripts de un notebook vamos a ocupar como *kernel* el pyenv que hayas creado para esta materia. Para ello necesitaremos correr las siguientes líneas de código. \n",
    "\n",
    "```\n",
    "# instalar ipykernel\n",
    "`pip install ipykernel`\n",
    "\n",
    "# hacer accesible el ambiente virtual al notebook de jupyter\n",
    "`python -m ipykernel install --user --name your_virtualenv_name --display-name your_virtualenv_name`\n",
    "```\n",
    "\n",
    "Esto habilitará el kernel desde tu *Jupyter Notebook*, por lo que una vez que creas tu *notebook* solo necesitas cambiar el kernel a tu pyenv. (Ver ejemplo).\n",
    "\n",
    "\n",
    "**Recomendaciones**\n",
    "\n",
    "Trata de mantener aislado tu ambiente de pyenv de esta materia/proyecto, de esta manera cuando tengas que entregar un *notebook* o producto podrás agregar un `requirements.txt` en donde indicarás las librerías que ocupaste y las versiones específicas, este `requirementes.txt` se puede generar al hacer un `pip freeze` en el pyenv correspondiente. \n",
    "\n",
    "\n",
    "### Python \n",
    "\n",
    "**Características:**\n",
    "\n",
    "+ Lenguaje de propósito general como Java, C, C++ -a diferencia de R-.\n",
    "+ *Open Source*. \n",
    "+ Interpretado no compilado -> tiempo de *ejecución*.\n",
    "+ IDE: PyCharm, Ninja, Atom, PyDev, etc.\n",
    "+ Muy rápido para implementar una solución -a diferencia de Java y C- y fácil de entender.\n",
    "+ También puede estar orientado a objetos.\n",
    "+ Tiene operaciones de programación funcional.\n",
    "\n",
    "### Ecosistema de Python \n",
    "\n",
    "+ Como *middleware* y *backend* de servicios\n",
    "+ Desarrollo web: Django\n",
    "+ APIs: Flask\n",
    "+ Javascript: Pyjs\n",
    "+ Desarrollo para cómputo distribuido/datos de gran escala: PySpark\n",
    "+ Análisis de datos: Pandas\n",
    "+ Gráficas, visualización: Matplotlib, plotly\n",
    "+ Aprendizaje de máquina: Sklearn\n",
    "+ DeepLearning: PyTorch, TensorFlow, Theano\n",
    "+ Operacion de matrices y vectores, algebra lineal: Numpy\n",
    "+ Cómputo científico: Scipy\n",
    "+ Notebooks: Jupyter\n",
    "+ Interactive python: IPython\n",
    "\n",
    "### Tipos de datos \n",
    "\n",
    "Python tiene un tipado fuerte pero dinámico, esto significa que si una variable es un número, no cambiará mágicamente a ser string -en Perl si puede suceder-, la parte dinámica tiene que ver con que una variable no está atada a una declaración estática de su tipo. Por ejemplo: `int var=1` es estática porque al querer poner `var=\"1\"` marcará un error de que var está declarada como tipo entero. \n",
    "\n",
    "+ Boolean: True, False\n",
    "+ Entero (int): 32 bits de precisión\n",
    "+ Flotante: Números con punto decimal o exponente\n",
    "+ Long (L): Si no cupo en un int\n",
    "+ Complejo (J)\n",
    "+ String (str)\n",
    "\n",
    "\n",
    "\n",
    "### Estructuras de datos \n",
    "\n",
    "+ Listas \n",
    "+ Diccionarios\n",
    "+ Tuplas\n",
    "+ Sets\n",
    "\n",
    "#### Listas \n",
    "\n",
    "Esta estructura nos permite almacenar datos de una forma ordenada, ordenada en el sentido de que el elemento que se encuentra en un determinado índice no se mueve al agregar más datos a esa estructura. \n",
    "\n",
    "Las listas en Python ocupan el *square bracket* `[]`.\n",
    "\n",
    "Es posible tener listas dentro de otras lista."
   ]
  },
  {
   "cell_type": "code",
   "execution_count": 128,
   "metadata": {},
   "outputs": [
    {
     "data": {
      "text/plain": [
       "[35, 26, 33, 21, 28]"
      ]
     },
     "execution_count": 128,
     "metadata": {},
     "output_type": "execute_result"
    }
   ],
   "source": [
    "ages = [35,26,33,21,28]\n",
    "ages"
   ]
  },
  {
   "cell_type": "code",
   "execution_count": 2,
   "metadata": {},
   "outputs": [
    {
     "data": {
      "text/plain": [
       "list"
      ]
     },
     "execution_count": 2,
     "metadata": {},
     "output_type": "execute_result"
    }
   ],
   "source": [
    "type(ages)"
   ]
  },
  {
   "cell_type": "code",
   "execution_count": 3,
   "metadata": {},
   "outputs": [
    {
     "data": {
      "text/plain": [
       "21"
      ]
     },
     "execution_count": 3,
     "metadata": {},
     "output_type": "execute_result"
    }
   ],
   "source": [
    "#índices \n",
    "ages[3]"
   ]
  },
  {
   "cell_type": "markdown",
   "metadata": {},
   "source": [
    "Puedes agregar más elementos a una lista"
   ]
  },
  {
   "cell_type": "code",
   "execution_count": 4,
   "metadata": {},
   "outputs": [
    {
     "data": {
      "text/plain": [
       "[35, 26, 33, 21, 28, 1]"
      ]
     },
     "execution_count": 4,
     "metadata": {},
     "output_type": "execute_result"
    }
   ],
   "source": [
    "other_ages = [1]\n",
    "ages = ages + other_ages\n",
    "ages"
   ]
  },
  {
   "cell_type": "code",
   "execution_count": 5,
   "metadata": {},
   "outputs": [
    {
     "data": {
      "text/plain": [
       "1"
      ]
     },
     "execution_count": 5,
     "metadata": {},
     "output_type": "execute_result"
    }
   ],
   "source": [
    "ages[5]"
   ]
  },
  {
   "cell_type": "markdown",
   "metadata": {},
   "source": [
    "Nota que importa el orden en el que estas agregando los elementos. \n",
    "\n",
    "#### Operaciones frecuentes\n",
    "\n",
    "+ Conocer el tamaño\n"
   ]
  },
  {
   "cell_type": "code",
   "execution_count": 6,
   "metadata": {},
   "outputs": [
    {
     "data": {
      "text/plain": [
       "6"
      ]
     },
     "execution_count": 6,
     "metadata": {},
     "output_type": "execute_result"
    }
   ],
   "source": [
    "len(ages)"
   ]
  },
  {
   "cell_type": "markdown",
   "metadata": {},
   "source": [
    "+ Extracción de elementos: A través del índice, también puedes obtener un rango de la lista."
   ]
  },
  {
   "cell_type": "code",
   "execution_count": 7,
   "metadata": {},
   "outputs": [
    {
     "data": {
      "text/plain": [
       "[35, 26]"
      ]
     },
     "execution_count": 7,
     "metadata": {},
     "output_type": "execute_result"
    }
   ],
   "source": [
    "#secuencias\n",
    "ages[:2]"
   ]
  },
  {
   "cell_type": "code",
   "execution_count": 8,
   "metadata": {},
   "outputs": [
    {
     "data": {
      "text/plain": [
       "[21, 28, 1]"
      ]
     },
     "execution_count": 8,
     "metadata": {},
     "output_type": "execute_result"
    }
   ],
   "source": [
    "#secuencias\n",
    "ages[3:]"
   ]
  },
  {
   "cell_type": "markdown",
   "metadata": {},
   "source": [
    "+ Agregar elementos: También se puede hacer con un `append`"
   ]
  },
  {
   "cell_type": "code",
   "execution_count": 9,
   "metadata": {},
   "outputs": [
    {
     "data": {
      "text/plain": [
       "[35, 26, 33, 21, 28, 1, 2]"
      ]
     },
     "execution_count": 9,
     "metadata": {},
     "output_type": "execute_result"
    }
   ],
   "source": [
    "ages.append(2)\n",
    "ages"
   ]
  },
  {
   "cell_type": "markdown",
   "metadata": {},
   "source": [
    "Verificar si un elemento está en la lista"
   ]
  },
  {
   "cell_type": "code",
   "execution_count": 10,
   "metadata": {},
   "outputs": [
    {
     "data": {
      "text/plain": [
       "False"
      ]
     },
     "execution_count": 10,
     "metadata": {},
     "output_type": "execute_result"
    }
   ],
   "source": [
    "4 in ages"
   ]
  },
  {
   "cell_type": "markdown",
   "metadata": {},
   "source": [
    "+ Modificación de elementos: A través del uso de índices. También se puede hacer a través de un `if else` pero lo veremos más adelante"
   ]
  },
  {
   "cell_type": "code",
   "execution_count": 11,
   "metadata": {},
   "outputs": [
    {
     "data": {
      "text/plain": [
       "[35, 26, 33, 21, 28, 18, 2]"
      ]
     },
     "execution_count": 11,
     "metadata": {},
     "output_type": "execute_result"
    }
   ],
   "source": [
    "ages[5] = 18\n",
    "ages"
   ]
  },
  {
   "cell_type": "markdown",
   "metadata": {},
   "source": [
    "+ Borrar elementos: Se realiza por el contenido de la lista, no por índices."
   ]
  },
  {
   "cell_type": "code",
   "execution_count": 12,
   "metadata": {},
   "outputs": [
    {
     "data": {
      "text/plain": [
       "[35, 26, 33, 21, 28, 2]"
      ]
     },
     "execution_count": 12,
     "metadata": {},
     "output_type": "execute_result"
    }
   ],
   "source": [
    "ages.remove(18)\n",
    "ages"
   ]
  },
  {
   "cell_type": "markdown",
   "metadata": {},
   "source": [
    "+ Ordenar elementos en una lista ya sea en forma ascendente o descendente"
   ]
  },
  {
   "cell_type": "code",
   "execution_count": 13,
   "metadata": {},
   "outputs": [
    {
     "data": {
      "text/plain": [
       "[2, 21, 26, 28, 33, 35]"
      ]
     },
     "execution_count": 13,
     "metadata": {},
     "output_type": "execute_result"
    }
   ],
   "source": [
    "ages.sort()\n",
    "ages"
   ]
  },
  {
   "cell_type": "code",
   "execution_count": 14,
   "metadata": {},
   "outputs": [
    {
     "data": {
      "text/plain": [
       "[35, 33, 28, 26, 21, 2]"
      ]
     },
     "execution_count": 14,
     "metadata": {},
     "output_type": "execute_result"
    }
   ],
   "source": [
    "ages.sort(reverse=True)\n",
    "ages"
   ]
  },
  {
   "cell_type": "code",
   "execution_count": 15,
   "metadata": {},
   "outputs": [
    {
     "data": {
      "text/plain": [
       "[35, 33, 28, 26, 21, 2, [45, 55, 40]]"
      ]
     },
     "execution_count": 15,
     "metadata": {},
     "output_type": "execute_result"
    }
   ],
   "source": [
    "ages = ages + [[45,55,40]]\n",
    "ages"
   ]
  },
  {
   "cell_type": "code",
   "execution_count": 16,
   "metadata": {},
   "outputs": [
    {
     "data": {
      "text/plain": [
       "[45, 55, 40]"
      ]
     },
     "execution_count": 16,
     "metadata": {},
     "output_type": "execute_result"
    }
   ],
   "source": [
    "ages[-1]"
   ]
  },
  {
   "cell_type": "markdown",
   "metadata": {},
   "source": [
    "**Ejercicios:** Genera una lista de 10 elementos con estaturas de 10 compañeros que tengas a tu alrededor.\n",
    "\n",
    "1. Ordénalos de menor a mayor\n",
    "2. Cuál es la estatura que está en el índice 4 (mediana) \n",
    "3. Cuál es la menor estatura (puedes ocupar sort y luego obtener el del índice 0, luego veremos que esto en Pandas es mucho más sencillo)\n",
    "4. Ordénalos de mayor a menor\n",
    "5. Cuál es la mayor estatura\n",
    "\n",
    "#### Diccionarios\n",
    "\n",
    "Esta estructura de datos está formada por un par llave valor. La llave puede ser numérica o string y el valor puede ser cualquier cosa, incluso otro diccionario. \n",
    "\n",
    "Los diccionarios en python ocupan el *curly bracket* `{}`"
   ]
  },
  {
   "cell_type": "code",
   "execution_count": 83,
   "metadata": {},
   "outputs": [
    {
     "data": {
      "text/plain": [
       "{'Juan': 1234, 'Jose': 2345, 'Maria': 4321, 'Lucia': 2233}"
      ]
     },
     "execution_count": 83,
     "metadata": {},
     "output_type": "execute_result"
    }
   ],
   "source": [
    "students = {'Juan': 1234, 'Jose': 2345, 'Maria': 4321, 'Lucia': 2233}\n",
    "students"
   ]
  },
  {
   "cell_type": "code",
   "execution_count": 84,
   "metadata": {},
   "outputs": [
    {
     "data": {
      "text/plain": [
       "{1234: 'Juan', 2345: 'Jose', 4321: 'Maria', 2233: 'Lucia'}"
      ]
     },
     "execution_count": 84,
     "metadata": {},
     "output_type": "execute_result"
    }
   ],
   "source": [
    "other = {1234: 'Juan', 2345: 'Jose', 4321: 'Maria', 2233: 'Lucia'}\n",
    "other"
   ]
  },
  {
   "cell_type": "code",
   "execution_count": 85,
   "metadata": {},
   "outputs": [
    {
     "data": {
      "text/plain": [
       "{'1234': ['Juan',\n",
       "  'Salvador',\n",
       "  'Perez',\n",
       "  {'carrera': ['Economia', 'Matematicas']}]}"
      ]
     },
     "execution_count": 85,
     "metadata": {},
     "output_type": "execute_result"
    }
   ],
   "source": [
    "test = {'1234': ['Juan', \"Salvador\", \"Perez\", \n",
    "                 {'carrera': ['Economia', 'Matematicas']}]}\n",
    "test"
   ]
  },
  {
   "cell_type": "code",
   "execution_count": 20,
   "metadata": {},
   "outputs": [
    {
     "data": {
      "text/plain": [
       "4"
      ]
     },
     "execution_count": 20,
     "metadata": {},
     "output_type": "execute_result"
    }
   ],
   "source": [
    "len(test['1234'])"
   ]
  },
  {
   "cell_type": "code",
   "execution_count": 21,
   "metadata": {},
   "outputs": [
    {
     "data": {
      "text/plain": [
       "'Economia'"
      ]
     },
     "execution_count": 21,
     "metadata": {},
     "output_type": "execute_result"
    }
   ],
   "source": [
    "test['1234'][3]['carrera'][0]"
   ]
  },
  {
   "cell_type": "markdown",
   "metadata": {},
   "source": [
    "**Operaciones frecuentes**\n",
    "\n",
    "+ Obtener elementos del diccionario"
   ]
  },
  {
   "cell_type": "code",
   "execution_count": 22,
   "metadata": {},
   "outputs": [
    {
     "data": {
      "text/plain": [
       "2233"
      ]
     },
     "execution_count": 22,
     "metadata": {},
     "output_type": "execute_result"
    }
   ],
   "source": [
    "students['Lucia']"
   ]
  },
  {
   "cell_type": "code",
   "execution_count": 23,
   "metadata": {},
   "outputs": [
    {
     "data": {
      "text/plain": [
       "'Juan'"
      ]
     },
     "execution_count": 23,
     "metadata": {},
     "output_type": "execute_result"
    }
   ],
   "source": [
    "other[1234]"
   ]
  },
  {
   "cell_type": "markdown",
   "metadata": {},
   "source": [
    "+ Obtener todas las llaves de un diccionario"
   ]
  },
  {
   "cell_type": "code",
   "execution_count": 24,
   "metadata": {},
   "outputs": [
    {
     "data": {
      "text/plain": [
       "dict_keys(['Juan', 'Jose', 'Maria', 'Lucia'])"
      ]
     },
     "execution_count": 24,
     "metadata": {},
     "output_type": "execute_result"
    }
   ],
   "source": [
    "students.keys()"
   ]
  },
  {
   "cell_type": "code",
   "execution_count": 25,
   "metadata": {},
   "outputs": [
    {
     "data": {
      "text/plain": [
       "dict_items([('Juan', 1234), ('Jose', 2345), ('Maria', 4321), ('Lucia', 2233)])"
      ]
     },
     "execution_count": 25,
     "metadata": {},
     "output_type": "execute_result"
    }
   ],
   "source": [
    "students.items()"
   ]
  },
  {
   "cell_type": "code",
   "execution_count": 26,
   "metadata": {},
   "outputs": [
    {
     "data": {
      "text/plain": [
       "('Jose', 2345)"
      ]
     },
     "execution_count": 26,
     "metadata": {},
     "output_type": "execute_result"
    }
   ],
   "source": [
    "list(students.items())[1]"
   ]
  },
  {
   "cell_type": "code",
   "execution_count": 27,
   "metadata": {},
   "outputs": [
    {
     "data": {
      "text/plain": [
       "dict_values([1234, 2345, 4321, 2233])"
      ]
     },
     "execution_count": 27,
     "metadata": {},
     "output_type": "execute_result"
    }
   ],
   "source": [
    "students.values()"
   ]
  },
  {
   "cell_type": "markdown",
   "metadata": {},
   "source": [
    "+ Puedes modificar el contenido de una llave"
   ]
  },
  {
   "cell_type": "code",
   "execution_count": 28,
   "metadata": {},
   "outputs": [
    {
     "data": {
      "text/plain": [
       "2345"
      ]
     },
     "execution_count": 28,
     "metadata": {},
     "output_type": "execute_result"
    }
   ],
   "source": [
    "students['Jose']"
   ]
  },
  {
   "cell_type": "code",
   "execution_count": 29,
   "metadata": {},
   "outputs": [],
   "source": [
    "students['Jose'] = 6789"
   ]
  },
  {
   "cell_type": "code",
   "execution_count": 30,
   "metadata": {},
   "outputs": [
    {
     "data": {
      "text/plain": [
       "6789"
      ]
     },
     "execution_count": 30,
     "metadata": {},
     "output_type": "execute_result"
    }
   ],
   "source": [
    "students['Jose']"
   ]
  },
  {
   "cell_type": "code",
   "execution_count": 31,
   "metadata": {},
   "outputs": [],
   "source": [
    "test['1234'].append('otro')"
   ]
  },
  {
   "cell_type": "code",
   "execution_count": 32,
   "metadata": {},
   "outputs": [
    {
     "data": {
      "text/plain": [
       "['Juan', 'Salvador', 'Perez', {'carrera': ['Economia', 'Matematicas']}, 'otro']"
      ]
     },
     "execution_count": 32,
     "metadata": {},
     "output_type": "execute_result"
    }
   ],
   "source": [
    "test['1234']"
   ]
  },
  {
   "cell_type": "code",
   "execution_count": 33,
   "metadata": {},
   "outputs": [
    {
     "data": {
      "text/plain": [
       "{'Juan': 1234, 'Jose': 6789, 'Maria': 4321, 'Lucia': 2233}"
      ]
     },
     "execution_count": 33,
     "metadata": {},
     "output_type": "execute_result"
    }
   ],
   "source": [
    "students"
   ]
  },
  {
   "cell_type": "code",
   "execution_count": 34,
   "metadata": {},
   "outputs": [
    {
     "data": {
      "text/plain": [
       "1234"
      ]
     },
     "execution_count": 34,
     "metadata": {},
     "output_type": "execute_result"
    }
   ],
   "source": [
    "students.pop('Juan')"
   ]
  },
  {
   "cell_type": "code",
   "execution_count": 35,
   "metadata": {},
   "outputs": [
    {
     "data": {
      "text/plain": [
       "{'Jose': 6789, 'Maria': 4321, 'Lucia': 2233}"
      ]
     },
     "execution_count": 35,
     "metadata": {},
     "output_type": "execute_result"
    }
   ],
   "source": [
    "students"
   ]
  },
  {
   "cell_type": "markdown",
   "metadata": {},
   "source": [
    "#### Sets\n",
    "\n",
    "Esta estructura de datos contiene elementos no ordenados cuya característica principal es que forman un conjunto, y por lo tanto no puede haber repetidos. En los conjuntos dado que los elementos no están ordenados, no hay forma de obtener datos a través de índices u obtener rangos secuenciales de datos (*slice*).\n",
    "\n",
    "Dado que son conjuntos, nos permite realizar operaciones entre conjuntos: intersección `intersection`, unión `union`, diferencia `difference`, si todos los elementos entre dos conjuntos son diferentes (no hay intersección) `isdisjoint`, si todo un conjunto de la derecha se encuentra contenido en el de la derecha `issubset`, si todos los elementos del conjunto de la izquierda están en el de la derecha `issuperset`.\n",
    "\n",
    "Para generar un *set* tenemos que ocupar el *curly bracket* {} como con los diccionarios. "
   ]
  },
  {
   "cell_type": "code",
   "execution_count": 36,
   "metadata": {},
   "outputs": [
    {
     "data": {
      "text/plain": [
       "{4, 'a', 'c'}"
      ]
     },
     "execution_count": 36,
     "metadata": {},
     "output_type": "execute_result"
    }
   ],
   "source": [
    "set_example = {'a', 'c', 4}\n",
    "set_example"
   ]
  },
  {
   "cell_type": "markdown",
   "metadata": {},
   "source": [
    "Nota que al igual que en las listas, puedes agregar elementos de diferentes tipos.\n",
    "\n",
    "Para agregar elementos a los *sets* dado que no existen índices, necesitaremos ocupar la función `add()` y para eliminar elementos del *set* ocupar la función `remove()`. "
   ]
  },
  {
   "cell_type": "code",
   "execution_count": 37,
   "metadata": {},
   "outputs": [
    {
     "data": {
      "text/plain": [
       "{3, 4, 'a', 'c'}"
      ]
     },
     "execution_count": 37,
     "metadata": {},
     "output_type": "execute_result"
    }
   ],
   "source": [
    "#agregar\n",
    "set_example.add(3)\n",
    "set_example"
   ]
  },
  {
   "cell_type": "code",
   "execution_count": 38,
   "metadata": {},
   "outputs": [
    {
     "data": {
      "text/plain": [
       "{3, 4, 'c'}"
      ]
     },
     "execution_count": 38,
     "metadata": {},
     "output_type": "execute_result"
    }
   ],
   "source": [
    "#eliminar\n",
    "set_example.remove('a')\n",
    "set_example"
   ]
  },
  {
   "cell_type": "code",
   "execution_count": 39,
   "metadata": {},
   "outputs": [
    {
     "data": {
      "text/plain": [
       "{1, 3, 4, 'b', 'c'}"
      ]
     },
     "execution_count": 39,
     "metadata": {},
     "output_type": "execute_result"
    }
   ],
   "source": [
    "#union\n",
    "set_example_2 = {4,'c', 'b', 1}\n",
    "union_ex = set_example_2.union(set_example)\n",
    "union_ex"
   ]
  },
  {
   "cell_type": "code",
   "execution_count": 40,
   "metadata": {},
   "outputs": [
    {
     "data": {
      "text/plain": [
       "{4, 'c'}"
      ]
     },
     "execution_count": 40,
     "metadata": {},
     "output_type": "execute_result"
    }
   ],
   "source": [
    "#intersection\n",
    "intersection_ex = set_example_2.intersection(set_example)\n",
    "intersection_ex"
   ]
  },
  {
   "cell_type": "code",
   "execution_count": 41,
   "metadata": {},
   "outputs": [
    {
     "data": {
      "text/plain": [
       "False"
      ]
     },
     "execution_count": 41,
     "metadata": {},
     "output_type": "execute_result"
    }
   ],
   "source": [
    "#isdisjoint\n",
    "set_example.isdisjoint(set_example_2)"
   ]
  },
  {
   "cell_type": "code",
   "execution_count": 42,
   "metadata": {},
   "outputs": [
    {
     "data": {
      "text/plain": [
       "False"
      ]
     },
     "execution_count": 42,
     "metadata": {},
     "output_type": "execute_result"
    }
   ],
   "source": [
    "#issubset\n",
    "set_example.issubset(set_example_2)"
   ]
  },
  {
   "cell_type": "code",
   "execution_count": 43,
   "metadata": {},
   "outputs": [
    {
     "data": {
      "text/plain": [
       "False"
      ]
     },
     "execution_count": 43,
     "metadata": {},
     "output_type": "execute_result"
    }
   ],
   "source": [
    "#issuperset\n",
    "set_example.issuperset(set_example_2)"
   ]
  },
  {
   "cell_type": "markdown",
   "metadata": {},
   "source": [
    "#### Tuplas\n",
    "\n",
    "Esta estructura de datos nos permite hacer una especie de \"bolsa\" de elementos de diferentes tipos, los elementos son ordenados por lo que se puede acceder a ellos a través de índices. \n",
    "\n",
    "Las tuplas ocupan los paréntesis `()`, aunque lo que realmente define a una tupla es el uso de la coma `,` ya que es posible tener tuplas con un solo elemento y para distinguirlas de los paréntesis normales se ocupa esta coma. Por ejemplo: `(3,)` es una tupla de un elmento, mientras que `(3)` corresponde a un numero 3 en un paréntesis. \n",
    "\n",
    "Resultan estructuras de datos muy útiles para pasar datos, resultados, entre funciones. \n",
    "\n",
    "A las tuplas no se les pueden agregar elementos o quitar elementos, o se cambia todo o nada."
   ]
  },
  {
   "cell_type": "code",
   "execution_count": 10,
   "metadata": {},
   "outputs": [
    {
     "data": {
      "text/plain": [
       "('a', 1)"
      ]
     },
     "execution_count": 10,
     "metadata": {},
     "output_type": "execute_result"
    }
   ],
   "source": [
    "tuple_example = (\"a\", 1)\n",
    "tuple_example"
   ]
  },
  {
   "cell_type": "code",
   "execution_count": 11,
   "metadata": {},
   "outputs": [
    {
     "data": {
      "text/plain": [
       "1"
      ]
     },
     "execution_count": 11,
     "metadata": {},
     "output_type": "execute_result"
    }
   ],
   "source": [
    "tuple_example[1]"
   ]
  },
  {
   "cell_type": "code",
   "execution_count": 12,
   "metadata": {},
   "outputs": [
    {
     "ename": "TypeError",
     "evalue": "'tuple' object does not support item assignment",
     "output_type": "error",
     "traceback": [
      "\u001b[0;31m---------------------------------------------------------------------------\u001b[0m",
      "\u001b[0;31mTypeError\u001b[0m                                 Traceback (most recent call last)",
      "\u001b[0;32m<ipython-input-12-5da558dde1f6>\u001b[0m in \u001b[0;36m<module>\u001b[0;34m\u001b[0m\n\u001b[0;32m----> 1\u001b[0;31m \u001b[0mtuple_example\u001b[0m\u001b[0;34m[\u001b[0m\u001b[0;36m2\u001b[0m\u001b[0;34m]\u001b[0m \u001b[0;34m=\u001b[0m \u001b[0;34m'b'\u001b[0m\u001b[0;34m\u001b[0m\u001b[0;34m\u001b[0m\u001b[0m\n\u001b[0m",
      "\u001b[0;31mTypeError\u001b[0m: 'tuple' object does not support item assignment"
     ]
    }
   ],
   "source": [
    "tuple_example[2] = 'b'"
   ]
  },
  {
   "cell_type": "markdown",
   "metadata": {},
   "source": [
    " ### Flujos de control\n",
    " \n",
    " #### If - else\n",
    "\n",
    "A través de `if-else` es posible aplicar operaciones condicionales a los datos."
   ]
  },
  {
   "cell_type": "code",
   "execution_count": 30,
   "metadata": {},
   "outputs": [],
   "source": [
    "x = 4"
   ]
  },
  {
   "cell_type": "code",
   "execution_count": 32,
   "metadata": {},
   "outputs": [
    {
     "name": "stdout",
     "output_type": "stream",
     "text": [
      "less that 5\n",
      "...\n"
     ]
    }
   ],
   "source": [
    "if x != 5:\n",
    "    print(\"less that 5\")\n",
    "    print(\"...\")\n",
    "else:\n",
    "    print(\"more than 5\")"
   ]
  },
  {
   "cell_type": "markdown",
   "metadata": {},
   "source": [
    "If/elif/else"
   ]
  },
  {
   "cell_type": "code",
   "execution_count": 38,
   "metadata": {},
   "outputs": [],
   "source": [
    "x = 6"
   ]
  },
  {
   "cell_type": "code",
   "execution_count": 39,
   "metadata": {},
   "outputs": [],
   "source": [
    "if ((x > 0) and (x < 5)):\n",
    "    print(\"entre 1 y 4\")\n",
    "elif x == 4:\n",
    "    print(\"es cuatro\")\n",
    "else:\n",
    "    print(\"es mayor que cuatro\")"
   ]
  },
  {
   "cell_type": "markdown",
   "metadata": {},
   "source": [
    "#### Ciclos \n",
    "\n",
    "Los ciclos nos permiten iterar sobre una colección, misma que puede ser una lista, los valores de un diccionario (aunque desaprovecharíamos los índices del mismo!), conjuntos, tuplas. \n",
    "\n",
    "Un ciclo se defiene por un `for [element] in [something]:` donde `[element]` es el nombre de una variable -como le quieras llamar- que tomará el valor de cada elemento en la colección `[something]`. \n",
    "\n",
    "Los ciclos en Python no requiren de utilizar llaves para definir el contenido del ciclo, a cambio ocupan identación. Todo en Python tiene que tener la identación adecuada o Python se quejará. "
   ]
  },
  {
   "cell_type": "code",
   "execution_count": 63,
   "metadata": {},
   "outputs": [
    {
     "data": {
      "text/plain": [
       "[35, 26, 33, 21, 28]"
      ]
     },
     "execution_count": 63,
     "metadata": {},
     "output_type": "execute_result"
    }
   ],
   "source": [
    "ages"
   ]
  },
  {
   "cell_type": "code",
   "execution_count": 64,
   "metadata": {},
   "outputs": [
    {
     "data": {
      "text/plain": [
       "5"
      ]
     },
     "execution_count": 64,
     "metadata": {},
     "output_type": "execute_result"
    }
   ],
   "source": [
    "len(ages)"
   ]
  },
  {
   "cell_type": "code",
   "execution_count": 65,
   "metadata": {},
   "outputs": [
    {
     "name": "stdout",
     "output_type": "stream",
     "text": [
      "135\n",
      "126\n",
      "133\n",
      "121\n",
      "128\n"
     ]
    }
   ],
   "source": [
    "for age in ages:\n",
    "    print(age+100)"
   ]
  },
  {
   "cell_type": "markdown",
   "metadata": {},
   "source": [
    "Existe una función `range()` que nos permite generar secuencias de números a través de las cuales haremos las iteraciones del ciclo. Esta función puede ocuparse de 3 diferentes formas: \n",
    "\n",
    "1. `range(x)` nos permitirá generar una secuencia que se dentendrá hasta el $x-1$ (recuerda que aquí todo inicia en 0!)\n",
    "2. `range(x,y)` nos permitirá generar una secuencia que va desde $x$ hasta $y-1$\n",
    "3. `range(x,y,z)` nos permitirá generar una secuencia que va desde $x$ hasta $y-1$ de $z$ en $z$."
   ]
  },
  {
   "cell_type": "code",
   "execution_count": 68,
   "metadata": {},
   "outputs": [
    {
     "name": "stdout",
     "output_type": "stream",
     "text": [
      "0\n",
      "1\n",
      "2\n",
      "3\n",
      "4\n"
     ]
    }
   ],
   "source": [
    "for i in range(5):\n",
    "    print(i)"
   ]
  },
  {
   "cell_type": "code",
   "execution_count": 71,
   "metadata": {},
   "outputs": [
    {
     "name": "stdout",
     "output_type": "stream",
     "text": [
      "1\n",
      "2\n",
      "3\n",
      "4\n",
      "5\n"
     ]
    }
   ],
   "source": [
    "for i in range(1,6):\n",
    "    print(i)"
   ]
  },
  {
   "cell_type": "code",
   "execution_count": 77,
   "metadata": {},
   "outputs": [
    {
     "name": "stdout",
     "output_type": "stream",
     "text": [
      "2\n",
      "4\n"
     ]
    }
   ],
   "source": [
    "for i in range(2, 5, 2):\n",
    "    print(i)"
   ]
  },
  {
   "cell_type": "code",
   "execution_count": 80,
   "metadata": {},
   "outputs": [
    {
     "data": {
      "text/plain": [
       "[35, 26, 33, 21, 28]"
      ]
     },
     "execution_count": 80,
     "metadata": {},
     "output_type": "execute_result"
    }
   ],
   "source": [
    "ages = [35, 26, 33, 21, 28]\n",
    "ages"
   ]
  },
  {
   "cell_type": "code",
   "execution_count": 81,
   "metadata": {},
   "outputs": [
    {
     "name": "stdout",
     "output_type": "stream",
     "text": [
      "35 jovenazo...\n",
      "26 adulto\n",
      "33 adulto\n",
      "21 joven\n",
      "28 adulto\n"
     ]
    }
   ],
   "source": [
    "for age in ages: \n",
    "    if age < 25:\n",
    "        print(age, \"joven\")\n",
    "    elif (age >= 25 and age < 35):\n",
    "        print(age, \"adulto\")\n",
    "    else: \n",
    "        print(age, \"jovenazo...\")"
   ]
  },
  {
   "cell_type": "markdown",
   "metadata": {},
   "source": [
    "Existen veces en las que necesitamos tener el índice del elemento que forma parte de la colección, en ese caso podemos ocupar la función `enumerate` que le agrega una secuencia a cada elemento de una colección. "
   ]
  },
  {
   "cell_type": "code",
   "execution_count": 82,
   "metadata": {},
   "outputs": [
    {
     "name": "stdout",
     "output_type": "stream",
     "text": [
      "elemento:  0  edad:  35 tipo  <class 'int'>  tipo  <class 'int'>\n",
      "elemento:  1  edad:  26 tipo  <class 'int'>  tipo  <class 'int'>\n",
      "elemento:  2  edad:  33 tipo  <class 'int'>  tipo  <class 'int'>\n",
      "elemento:  3  edad:  21 tipo  <class 'int'>  tipo  <class 'int'>\n",
      "elemento:  4  edad:  28 tipo  <class 'int'>  tipo  <class 'int'>\n"
     ]
    }
   ],
   "source": [
    "for i, age in enumerate(ages):\n",
    "    print(\"elemento: \", i, \" edad: \", age, \n",
    "          \"tipo \", type(i), \" tipo \", type(age))"
   ]
  },
  {
   "cell_type": "code",
   "execution_count": 86,
   "metadata": {},
   "outputs": [
    {
     "data": {
      "text/plain": [
       "{1234: 'Juan', 2345: 'Jose', 4321: 'Maria', 2233: 'Lucia'}"
      ]
     },
     "execution_count": 86,
     "metadata": {},
     "output_type": "execute_result"
    }
   ],
   "source": [
    "other"
   ]
  },
  {
   "cell_type": "code",
   "execution_count": 87,
   "metadata": {},
   "outputs": [
    {
     "data": {
      "text/plain": [
       "dict_values(['Juan', 'Jose', 'Maria', 'Lucia'])"
      ]
     },
     "execution_count": 87,
     "metadata": {},
     "output_type": "execute_result"
    }
   ],
   "source": [
    "other.values()"
   ]
  },
  {
   "cell_type": "code",
   "execution_count": 88,
   "metadata": {},
   "outputs": [
    {
     "name": "stdout",
     "output_type": "stream",
     "text": [
      "0   Juan\n",
      "1   Jose\n",
      "2   Maria\n",
      "3   Lucia\n"
     ]
    }
   ],
   "source": [
    "for i, element in enumerate(other.values()):\n",
    "    print(i, \" \", element)"
   ]
  },
  {
   "cell_type": "code",
   "execution_count": 89,
   "metadata": {},
   "outputs": [
    {
     "ename": "KeyError",
     "evalue": "0",
     "output_type": "error",
     "traceback": [
      "\u001b[0;31m---------------------------------------------------------------------------\u001b[0m",
      "\u001b[0;31mKeyError\u001b[0m                                  Traceback (most recent call last)",
      "\u001b[0;32m<ipython-input-89-266737b8f18e>\u001b[0m in \u001b[0;36m<module>\u001b[0;34m\u001b[0m\n\u001b[0;32m----> 1\u001b[0;31m \u001b[0mother\u001b[0m\u001b[0;34m[\u001b[0m\u001b[0;36m0\u001b[0m\u001b[0;34m]\u001b[0m\u001b[0;34m\u001b[0m\u001b[0;34m\u001b[0m\u001b[0m\n\u001b[0m",
      "\u001b[0;31mKeyError\u001b[0m: 0"
     ]
    }
   ],
   "source": [
    "other[0]"
   ]
  },
  {
   "cell_type": "code",
   "execution_count": 90,
   "metadata": {},
   "outputs": [
    {
     "data": {
      "text/plain": [
       "{'Juan': 1234, 'Jose': 2345, 'Maria': 4321, 'Lucia': 2233}"
      ]
     },
     "execution_count": 90,
     "metadata": {},
     "output_type": "execute_result"
    }
   ],
   "source": [
    "students"
   ]
  },
  {
   "cell_type": "code",
   "execution_count": 91,
   "metadata": {},
   "outputs": [
    {
     "name": "stdout",
     "output_type": "stream",
     "text": [
      "0   1234\n",
      "1   2345\n",
      "2   4321\n",
      "3   2233\n"
     ]
    }
   ],
   "source": [
    "for i, element in enumerate(students.values()):\n",
    "    print(i, \" \", element)"
   ]
  },
  {
   "cell_type": "code",
   "execution_count": 95,
   "metadata": {},
   "outputs": [
    {
     "ename": "TypeError",
     "evalue": "unsupported operand type(s) for +: 'int' and 'str'",
     "output_type": "error",
     "traceback": [
      "\u001b[0;31m---------------------------------------------------------------------------\u001b[0m",
      "\u001b[0;31mTypeError\u001b[0m                                 Traceback (most recent call last)",
      "\u001b[0;32m<ipython-input-95-bcf0caae463d>\u001b[0m in \u001b[0;36m<module>\u001b[0;34m\u001b[0m\n\u001b[1;32m      1\u001b[0m \u001b[0;31m#casts\u001b[0m\u001b[0;34m\u001b[0m\u001b[0;34m\u001b[0m\u001b[0;34m\u001b[0m\u001b[0m\n\u001b[0;32m----> 2\u001b[0;31m \u001b[0mprint\u001b[0m\u001b[0;34m(\u001b[0m\u001b[0;36m1\u001b[0m \u001b[0;34m+\u001b[0m \u001b[0;34m\"??\"\u001b[0m\u001b[0;34m)\u001b[0m\u001b[0;34m\u001b[0m\u001b[0;34m\u001b[0m\u001b[0m\n\u001b[0m",
      "\u001b[0;31mTypeError\u001b[0m: unsupported operand type(s) for +: 'int' and 'str'"
     ]
    }
   ],
   "source": [
    "#casts\n",
    "print(1 + \"??\")"
   ]
  },
  {
   "cell_type": "code",
   "execution_count": 96,
   "metadata": {},
   "outputs": [
    {
     "name": "stdout",
     "output_type": "stream",
     "text": [
      "1??\n"
     ]
    }
   ],
   "source": [
    "print(str(1) + \"??\")"
   ]
  },
  {
   "cell_type": "code",
   "execution_count": 102,
   "metadata": {},
   "outputs": [],
   "source": [
    "a = ['a', \"b\", \"c\"]"
   ]
  },
  {
   "cell_type": "code",
   "execution_count": 104,
   "metadata": {},
   "outputs": [
    {
     "data": {
      "text/plain": [
       "3"
      ]
     },
     "execution_count": 104,
     "metadata": {},
     "output_type": "execute_result"
    }
   ],
   "source": [
    "len(a)"
   ]
  },
  {
   "cell_type": "code",
   "execution_count": 107,
   "metadata": {},
   "outputs": [
    {
     "data": {
      "text/plain": [
       "list"
      ]
     },
     "execution_count": 107,
     "metadata": {},
     "output_type": "execute_result"
    }
   ],
   "source": [
    "type(a)"
   ]
  },
  {
   "cell_type": "code",
   "execution_count": 105,
   "metadata": {},
   "outputs": [
    {
     "data": {
      "text/plain": [
       "'a,b,c'"
      ]
     },
     "execution_count": 105,
     "metadata": {},
     "output_type": "execute_result"
    }
   ],
   "source": [
    "b = \",\".join(a)\n",
    "b"
   ]
  },
  {
   "cell_type": "code",
   "execution_count": 106,
   "metadata": {},
   "outputs": [
    {
     "data": {
      "text/plain": [
       "str"
      ]
     },
     "execution_count": 106,
     "metadata": {},
     "output_type": "execute_result"
    }
   ],
   "source": [
    "type(b)"
   ]
  },
  {
   "cell_type": "markdown",
   "metadata": {},
   "source": [
    "### Comprehension lists\n",
    "\n",
    "Este es un operador que nos permite hacer programación funcional -una operación se aplica a todos los elementos de una colección al mismo tiempo-. De ser posible, **siempre** se prefiere usar un *comprehension list*  que ocupar un ciclo *for* ya que son más eficientes en memoria y en procesamiento. \n",
    "\n",
    "Una *list comprehension* ocupa un for pero en lugar de establecer las operaciones a realizar hacia abajo, lo hace en el mismo renglón, es posible regresar una lista, un diccionario y un generador. "
   ]
  },
  {
   "cell_type": "code",
   "execution_count": 108,
   "metadata": {},
   "outputs": [
    {
     "data": {
      "text/plain": [
       "[17.5, 13.0, 16.5, 10.5, 14.0]"
      ]
     },
     "execution_count": 108,
     "metadata": {},
     "output_type": "execute_result"
    }
   ],
   "source": [
    "u= [age/2 for age in ages]\n",
    "u"
   ]
  },
  {
   "cell_type": "code",
   "execution_count": 109,
   "metadata": {},
   "outputs": [
    {
     "data": {
      "text/plain": [
       "{0: 35, 1: 26, 2: 33, 3: 21, 4: 28}"
      ]
     },
     "execution_count": 109,
     "metadata": {},
     "output_type": "execute_result"
    }
   ],
   "source": [
    "{i: age for i, age in enumerate(ages)}"
   ]
  },
  {
   "cell_type": "code",
   "execution_count": 110,
   "metadata": {},
   "outputs": [
    {
     "data": {
      "text/plain": [
       "[(0, 35), (1, 26), (2, 33), (3, 21), (4, 28)]"
      ]
     },
     "execution_count": 110,
     "metadata": {},
     "output_type": "execute_result"
    }
   ],
   "source": [
    "[(i, age) for i, age in enumerate(ages)]"
   ]
  },
  {
   "cell_type": "code",
   "execution_count": 112,
   "metadata": {},
   "outputs": [
    {
     "data": {
      "text/plain": [
       "[35, 26, 33, 21, 28]"
      ]
     },
     "execution_count": 112,
     "metadata": {},
     "output_type": "execute_result"
    }
   ],
   "source": [
    "ages"
   ]
  },
  {
   "cell_type": "code",
   "execution_count": 111,
   "metadata": {},
   "outputs": [
    {
     "data": {
      "text/plain": [
       "['>=30', '<30', '>=30', '<30', '<30']"
      ]
     },
     "execution_count": 111,
     "metadata": {},
     "output_type": "execute_result"
    }
   ],
   "source": [
    "[\"<30\" if age < 30 else \">=30\" for age in ages]"
   ]
  },
  {
   "cell_type": "code",
   "execution_count": 113,
   "metadata": {},
   "outputs": [
    {
     "data": {
      "text/plain": [
       "{'Juan': 1234, 'Jose': 2345, 'Maria': 4321, 'Lucia': 2233}"
      ]
     },
     "execution_count": 113,
     "metadata": {},
     "output_type": "execute_result"
    }
   ],
   "source": [
    "students"
   ]
  },
  {
   "cell_type": "code",
   "execution_count": 115,
   "metadata": {},
   "outputs": [
    {
     "data": {
      "text/plain": [
       "dict_keys(['Juan', 'Jose', 'Maria', 'Lucia'])"
      ]
     },
     "execution_count": 115,
     "metadata": {},
     "output_type": "execute_result"
    }
   ],
   "source": [
    "students.keys()"
   ]
  },
  {
   "cell_type": "code",
   "execution_count": 117,
   "metadata": {},
   "outputs": [
    {
     "data": {
      "text/plain": [
       "['Juan', 'Jose', 'Maria', 'Lucia']"
      ]
     },
     "execution_count": 117,
     "metadata": {},
     "output_type": "execute_result"
    }
   ],
   "source": [
    "[key for key in students.keys()]"
   ]
  },
  {
   "cell_type": "code",
   "execution_count": null,
   "metadata": {},
   "outputs": [],
   "source": [
    "students.values()"
   ]
  },
  {
   "cell_type": "code",
   "execution_count": 118,
   "metadata": {},
   "outputs": [
    {
     "data": {
      "text/plain": [
       "[2468, 4690, 8642, 2233]"
      ]
     },
     "execution_count": 118,
     "metadata": {},
     "output_type": "execute_result"
    }
   ],
   "source": [
    "[value*2 if i < 3 else value \n",
    " for i, value in enumerate(students.values())] "
   ]
  },
  {
   "cell_type": "markdown",
   "metadata": {},
   "source": [
    "### Funciones\n",
    "\n",
    "Las funciones nos permiten organizar nuestro código con el propósito de reutilizar lo más posible, y tener nuestro código organizado de manera más clara. \n",
    "\n",
    "Una función debería hacer una cosa y encapsularla para que pueda ser reutilizada en otras partes de nuestro código. \n",
    "\n",
    "Recuerda que seguramente tu código será utilizado por más personas en tu equipo de desarrollo y eventualmente alguien hará mantemiento del mismo, es por esto que tu código debe seguir el estilo de código de Python PEP8, debe seguir los principios de *clean clode* -nombres de variables claras, no ambigüas-, funciones con funcionalidad clara y atómica. \n",
    "\n",
    "Para crear una función necesitas ocupar la palabra `def` seguida del nombre de la función, con las variables que tiene que recibir y terminar con dos puntos. De nuevo la forma de distinguir que algo forma parte de una función e a través de la identación. \n",
    "\n",
    "Si la función regresará algo, puedes regresarlo ocupando un `return`, es posible regresar más de un elemento, de ser así puedes enviar tuplas, listas, diccionarios, etc. "
   ]
  },
  {
   "cell_type": "code",
   "execution_count": 130,
   "metadata": {},
   "outputs": [
    {
     "data": {
      "text/plain": [
       "[35, 26, 33, 21, 28]"
      ]
     },
     "execution_count": 130,
     "metadata": {},
     "output_type": "execute_result"
    }
   ],
   "source": [
    "ages"
   ]
  },
  {
   "cell_type": "code",
   "execution_count": 132,
   "metadata": {},
   "outputs": [],
   "source": [
    "def duplicate_age(age):\n",
    "    return age*2"
   ]
  },
  {
   "cell_type": "code",
   "execution_count": 133,
   "metadata": {},
   "outputs": [
    {
     "data": {
      "text/plain": [
       "'holahola'"
      ]
     },
     "execution_count": 133,
     "metadata": {},
     "output_type": "execute_result"
    }
   ],
   "source": [
    "duplicate_age(\"hola\")"
   ]
  },
  {
   "cell_type": "code",
   "execution_count": 134,
   "metadata": {},
   "outputs": [
    {
     "data": {
      "text/plain": [
       "[70, 52, 66, 42, 56]"
      ]
     },
     "execution_count": 134,
     "metadata": {},
     "output_type": "execute_result"
    }
   ],
   "source": [
    "[duplicate_age(age) for age in ages]"
   ]
  },
  {
   "cell_type": "code",
   "execution_count": 143,
   "metadata": {},
   "outputs": [],
   "source": [
    "def age_to_category(age):\n",
    "    \"\"\"Changes age to category\"\"\"\n",
    "    category = None \n",
    "    \n",
    "    if age < 25:\n",
    "        category = \"joven\"\n",
    "    elif (age >= 25 and age < 35):\n",
    "        category = \"joven-adulto\"\n",
    "    else: \n",
    "        category = \"adulto\"\n",
    "        \n",
    "    return category"
   ]
  },
  {
   "cell_type": "code",
   "execution_count": 142,
   "metadata": {},
   "outputs": [
    {
     "data": {
      "text/plain": [
       "['adulto', 'joven-adulto', 'joven-adulto', 'joven', 'joven-adulto']"
      ]
     },
     "execution_count": 142,
     "metadata": {},
     "output_type": "execute_result"
    }
   ],
   "source": [
    "[age_to_category(x) for x in ages]"
   ]
  },
  {
   "cell_type": "markdown",
   "metadata": {},
   "source": [
    "#### Funciones lambda\n",
    "\n",
    "Este es un tipo especial de función, estas funciones son \"anónimas\" en el sentido de que no las definimos con un nombre, como en el caso de las funciones normales, la definición la hacemos en la misma parte donde se ejecuta su llamado. "
   ]
  },
  {
   "cell_type": "code",
   "execution_count": 144,
   "metadata": {},
   "outputs": [],
   "source": [
    "for age in ages:\n",
    "    (lambda x: print(x*2))(age)"
   ]
  },
  {
   "cell_type": "code",
   "execution_count": 146,
   "metadata": {},
   "outputs": [],
   "source": [
    "u = [element*2 for element in ages]"
   ]
  },
  {
   "cell_type": "code",
   "execution_count": 149,
   "metadata": {},
   "outputs": [
    {
     "data": {
      "text/plain": [
       "[70, 52, 66, 42, 56]"
      ]
     },
     "execution_count": 149,
     "metadata": {},
     "output_type": "execute_result"
    }
   ],
   "source": [
    "u"
   ]
  },
  {
   "cell_type": "markdown",
   "metadata": {},
   "source": [
    "\n",
    "### Referencias \n",
    "\n",
    "+ [Tutorial de Python](https://docs.python.org/3/tutorial/index.html)\n",
    "+ [API Python 3.7](https://docs.python.org/3.7/library/index.html)\n",
    "+ [Guía de estilo de código PEP8](https://www.python.org/dev/peps/pep-0008/)"
   ]
  }
 ],
 "metadata": {
  "kernelspec": {
   "display_name": "itam",
   "language": "python",
   "name": "itam"
  },
  "language_info": {
   "codemirror_mode": {
    "name": "ipython",
    "version": 3
   },
   "file_extension": ".py",
   "mimetype": "text/x-python",
   "name": "python",
   "nbconvert_exporter": "python",
   "pygments_lexer": "ipython3",
   "version": "3.7.4"
  }
 },
 "nbformat": 4,
 "nbformat_minor": 2
}
