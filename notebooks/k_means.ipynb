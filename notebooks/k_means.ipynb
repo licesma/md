{
 "cells": [
  {
   "cell_type": "markdown",
   "metadata": {},
   "source": [
    "![](../images/itam_logo.png)\n",
    "\n",
    "M. Sc. Liliana Millán Núñez liliana.millan@itam.mx\n",
    "\n",
    "Noviembre 2020\n",
    "\n",
    "\n",
    "### K-means\n",
    "\n",
    "#### Ejemplo\n",
    "\n",
    "**Segmentación de clientes.** Contamos con un set de datos que contiene las transacciones de una marca inglesa de ropa en línea desde el primero de diciembre del 2010 hasta el 9 de diciembre del 2011. Contamos con el identificador de un producto, la cantidad de productos compradas por transacción, la fecha, y el precio unitario en libras esterlinas. Datos obtenidos de [UCI datasets](http://archive.ics.uci.edu/ml/datasets/Online+Retail).\n",
    "\n",
    "En `sklearn` ocupamos el modelo `KMeans` que está en el paquete `sklearn.cluster`.\n",
    "\n",
    "Los hiperparámetros de este algoritmo son:\n",
    "\n",
    "+ `n_clusters`: Número de centroides\n",
    "+ `init`: Coordenadas de inicio de los centroides\n",
    "+ `max_iter`: Número de iteraciones\n",
    "\n",
    "El método regresa las coordenadas de los centroides obtenidos en el atributo `cluster_centers_`, la etiqueta de a qué grupo pertence cada observación en el atributo `labels_` —permite agregar la etiqueta de grupo a los datos :)—.\n",
    "\n",
    "$\\rightarrow$ como en TODO método que ocupa distancias **DEBEMOS** escalar los datos!!!"
   ]
  },
  {
   "cell_type": "code",
   "execution_count": null,
   "metadata": {},
   "outputs": [],
   "source": [
    "import pandas as pd\n",
    "import numpy as np\n",
    "import matplotlib.pyplot as plt\n",
    "import seaborn as sns\n",
    "\n",
    "from matplotlib.ticker import FuncFormatter"
   ]
  },
  {
   "cell_type": "code",
   "execution_count": null,
   "metadata": {},
   "outputs": [],
   "source": [
    "def number_formatter(number, pos=None):\n",
    "    \"\"\"Convert a number into a human readable format.\"\"\"\n",
    "    magnitude = 0\n",
    "    while abs(number) >= 1000:\n",
    "        magnitude += 1\n",
    "        number /= 1000.0\n",
    "        \n",
    "    return '%.1f%s' % (number, ['', 'K', 'M', 'B', 'T', 'Q'][magnitude])"
   ]
  },
  {
   "cell_type": "code",
   "execution_count": null,
   "metadata": {},
   "outputs": [],
   "source": [
    "online_retail = pd.read_csv(\"~/Documents/itam/mineria_datos_licenciatura/data/online_retail.csv\")\n",
    "online_retail.head()"
   ]
  },
  {
   "cell_type": "code",
   "execution_count": null,
   "metadata": {},
   "outputs": [],
   "source": [
    "columns_cleaned = {column: column.lower() for column in online_retail.columns.values}\n",
    "online_retail.rename(columns=columns_cleaned, inplace=True)"
   ]
  },
  {
   "cell_type": "code",
   "execution_count": null,
   "metadata": {},
   "outputs": [],
   "source": [
    "online_retail.describe()"
   ]
  },
  {
   "cell_type": "code",
   "execution_count": null,
   "metadata": {},
   "outputs": [],
   "source": [
    "a = sns.boxplot(x='quantity', data=online_retail, showmeans=True)\n",
    "a.set_title(\"Distribución de Quantity\")\n",
    "a.xaxis.set_major_formatter(FuncFormatter(number_formatter))"
   ]
  },
  {
   "cell_type": "code",
   "execution_count": null,
   "metadata": {},
   "outputs": [],
   "source": [
    "data = online_retail[(online_retail.quantity > 0) & \n",
    "                     (online_retail.unitprice > 0)][['quantity', 'unitprice']]"
   ]
  },
  {
   "cell_type": "code",
   "execution_count": null,
   "metadata": {},
   "outputs": [],
   "source": [
    "data.shape"
   ]
  },
  {
   "cell_type": "code",
   "execution_count": null,
   "metadata": {},
   "outputs": [],
   "source": [
    "a = sns.boxplot(x='quantity', data=data, showmeans=True)\n",
    "a.set_title(\"Distribución de Quantity\")\n",
    "a.xaxis.set_major_formatter(FuncFormatter(number_formatter))"
   ]
  },
  {
   "cell_type": "code",
   "execution_count": null,
   "metadata": {},
   "outputs": [],
   "source": [
    "a = sns.boxplot(x='unitprice', data=data, showmeans=True)\n",
    "a.set_title(\"Distribución de Precio unitario\")\n",
    "a.xaxis.set_major_formatter(FuncFormatter(number_formatter))\n",
    "a.set_xlim(0, 500)"
   ]
  },
  {
   "cell_type": "code",
   "execution_count": null,
   "metadata": {},
   "outputs": [],
   "source": [
    "data.describe()"
   ]
  },
  {
   "cell_type": "code",
   "execution_count": null,
   "metadata": {},
   "outputs": [],
   "source": [
    "filtered_data = data[(data.unitprice < 501) & (data.quantity < 101)]"
   ]
  },
  {
   "cell_type": "code",
   "execution_count": null,
   "metadata": {},
   "outputs": [],
   "source": [
    "filtered_data.shape"
   ]
  },
  {
   "cell_type": "code",
   "execution_count": null,
   "metadata": {},
   "outputs": [],
   "source": [
    "filtered_data.describe()"
   ]
  },
  {
   "cell_type": "code",
   "execution_count": null,
   "metadata": {},
   "outputs": [],
   "source": [
    "from sklearn.preprocessing import scale"
   ]
  },
  {
   "cell_type": "code",
   "execution_count": null,
   "metadata": {},
   "outputs": [],
   "source": [
    "retail_scaled = scale(filtered_data, with_mean=True, with_std=True)\n",
    "retail_scaled"
   ]
  },
  {
   "cell_type": "markdown",
   "metadata": {},
   "source": [
    "¡¡¡Ocupemos K-Means!!!"
   ]
  },
  {
   "cell_type": "code",
   "execution_count": null,
   "metadata": {},
   "outputs": [],
   "source": [
    "from sklearn.cluster import KMeans\n",
    "\n",
    "np.random.seed(200427)\n",
    "\n",
    "kmeans = KMeans(n_clusters=4, max_iter=10)\n",
    "k_means_4 = kmeans.fit(retail_scaled)\n",
    "k_means_4"
   ]
  },
  {
   "cell_type": "markdown",
   "metadata": {},
   "source": [
    "¿Cuántas iteraciones ocupamos?"
   ]
  },
  {
   "cell_type": "code",
   "execution_count": null,
   "metadata": {},
   "outputs": [],
   "source": [
    "k_means_4.n_iter_"
   ]
  },
  {
   "cell_type": "markdown",
   "metadata": {},
   "source": [
    "Obtengamos las coordenadas de cada cluster."
   ]
  },
  {
   "cell_type": "code",
   "execution_count": null,
   "metadata": {},
   "outputs": [],
   "source": [
    "k_means_4.cluster_centers_"
   ]
  },
  {
   "cell_type": "markdown",
   "metadata": {},
   "source": [
    "Obtengamos a qué grupo corresponde cada observación"
   ]
  },
  {
   "cell_type": "code",
   "execution_count": null,
   "metadata": {},
   "outputs": [],
   "source": [
    "labels = k_means_4.labels_\n",
    "labels[:10]"
   ]
  },
  {
   "cell_type": "markdown",
   "metadata": {},
   "source": [
    "Juntemos las observaciones y los grupos en los que se encuentran\n"
   ]
  },
  {
   "cell_type": "code",
   "execution_count": null,
   "metadata": {},
   "outputs": [],
   "source": [
    "data = pd.DataFrame({'quantity': retail_scaled[:,0], \n",
    "                     'unitprice': retail_scaled[:,1],\n",
    "                     'group': labels})\n",
    "\n",
    "data.head()"
   ]
  },
  {
   "cell_type": "markdown",
   "metadata": {},
   "source": [
    "Veamos de qué tamaño es cada cluster\n"
   ]
  },
  {
   "cell_type": "code",
   "execution_count": null,
   "metadata": {},
   "outputs": [],
   "source": [
    "data.groupby(['group'])['quantity']\\\n",
    ".count()\\\n",
    ".reset_index()\\\n",
    ".rename(columns={\"quantity\": \"count\"})"
   ]
  },
  {
   "cell_type": "markdown",
   "metadata": {},
   "source": [
    "Visualicemos las observaciones y los centroides\n"
   ]
  },
  {
   "cell_type": "code",
   "execution_count": null,
   "metadata": {},
   "outputs": [],
   "source": [
    "centroids = k_means_4.cluster_centers_\n",
    "centroids"
   ]
  },
  {
   "cell_type": "code",
   "execution_count": null,
   "metadata": {},
   "outputs": [],
   "source": [
    "data_w_centroids = pd.DataFrame({'quantity': centroids[:,0],\n",
    "                                 'unitprice': centroids[:,1],\n",
    "                                 'group': ['C','C','C','C']})\n",
    "\n",
    "data_w_centroids"
   ]
  },
  {
   "cell_type": "code",
   "execution_count": null,
   "metadata": {},
   "outputs": [],
   "source": [
    "all_data = data.append(data_w_centroids)"
   ]
  },
  {
   "cell_type": "code",
   "execution_count": null,
   "metadata": {},
   "outputs": [],
   "source": [
    "sns.scatterplot(x='quantity', y='unitprice', hue=\"group\", data=all_data)"
   ]
  },
  {
   "cell_type": "markdown",
   "metadata": {},
   "source": [
    "Visualización en escala original de cantidad y precio unitario"
   ]
  },
  {
   "cell_type": "code",
   "execution_count": null,
   "metadata": {},
   "outputs": [],
   "source": [
    "data = pd.DataFrame({'quantity': filtered_data.quantity, \n",
    "                     'unitprice': filtered_data.unitprice,\n",
    "                     'group': labels})\n",
    "\n",
    "data.head()"
   ]
  },
  {
   "cell_type": "markdown",
   "metadata": {},
   "source": [
    "Tendremos que reescalar las coordenadas de los centroides"
   ]
  },
  {
   "cell_type": "code",
   "execution_count": null,
   "metadata": {},
   "outputs": [],
   "source": [
    "# quantity\n",
    "mean_quantity = filtered_data.quantity.mean()\n",
    "std_quantity = filtered_data.quantity.std()\n",
    "# unitprice\n",
    "mean_unitprice = filtered_data.unitprice.mean()\n",
    "std_unitprice = filtered_data.unitprice.std()\n",
    "\n",
    "data_w_centroids_escaled = pd.DataFrame({'quantity': data_w_centroids.quantity * \n",
    "                                         std_quantity + mean_quantity,\n",
    "                                        'unitprice': data_w_centroids.unitprice * \n",
    "                                        std_unitprice + mean_unitprice,\n",
    "                                        'group': data_w_centroids.group})\n"
   ]
  },
  {
   "cell_type": "code",
   "execution_count": null,
   "metadata": {},
   "outputs": [],
   "source": [
    "data_w_centroids_escaled"
   ]
  },
  {
   "cell_type": "code",
   "execution_count": null,
   "metadata": {},
   "outputs": [],
   "source": [
    "all_data = data.append(data_w_centroids_escaled)"
   ]
  },
  {
   "cell_type": "code",
   "execution_count": null,
   "metadata": {},
   "outputs": [],
   "source": [
    "sns.scatterplot(x='quantity', y='unitprice', hue=\"group\", data=all_data)"
   ]
  },
  {
   "cell_type": "markdown",
   "metadata": {},
   "source": [
    "Regresemos a la pregunta: ¿Cómo sabemos cuántos grupos están bien?\n",
    "\n",
    "+ Dominio del negocio —expertise— \n",
    "+ Al ir aumentando $k$ lo que vamos haciendo es disminuir la cantidad de error en el *cluster* —disminuir la varianza—, en el caso extremo cada punto es un *cluster* con 0 error, lo que implica sobreajustar los datos. \n",
    "\n",
    "**Método del codo (*Elbow method*)**\n",
    "\n",
    "En este método se utiliza la varianza explicada con el número de *clusters* generado, si al agregar un nuevo *cluster* no se mejora \"mucho\" la varianza explicada, entonces no vale la pena agregarlo. Conforme se van agregando *clusters* la explicación de la varianza —ganancia de información— disminuye, cuando esta ganacia es marginal se genera una especie de \"codo\" en la gráfica (\\# clusters - % variaza explicada). **Para obtener el porcentaje de varianza explicada se divide la varianza del *cluster* entre la varianza total de los datos**, o bien teniendo el SSE (sum of squared errors) de cada cluster, mientras menor sea el SSE mayor información.\n",
    "\n",
    "El SSE en `sklearn` se obtiene del atributo `inertia_` de un objeto `KMeans`, por lo que podemos hacer varios modelos de `Kmeans` con diferentes números de grupos y graficar el SSE para obtener \"el codo\" y tomar una decisión. "
   ]
  },
  {
   "cell_type": "code",
   "execution_count": null,
   "metadata": {},
   "outputs": [],
   "source": [
    "k_means_results = []\n",
    "\n",
    "for k in [3,4,5,6,7,9,10]:\n",
    "    kmeans = KMeans(n_clusters=k, max_iter=50)\n",
    "    k_means_results.append(kmeans.fit(retail_scaled))"
   ]
  },
  {
   "cell_type": "code",
   "execution_count": null,
   "metadata": {},
   "outputs": [],
   "source": [
    "sses = pd.DataFrame({'k': [3,4,5,6,7,9,10],\n",
    "                     'sse': [round(k_means_results[0].inertia_,2),\n",
    "                             round(k_means_results[1].inertia_,2), \n",
    "                             round(k_means_results[2].inertia_,2),\n",
    "                             round(k_means_results[3].inertia_,2), \n",
    "                             round(k_means_results[4].inertia_,2),\n",
    "                             round(k_means_results[5].inertia_,2),\n",
    "                             round(k_means_results[6].inertia_,2)]})\n",
    "\n",
    "sses"
   ]
  },
  {
   "cell_type": "markdown",
   "metadata": {},
   "source": [
    "**Gráfica de codo** "
   ]
  },
  {
   "cell_type": "code",
   "execution_count": null,
   "metadata": {},
   "outputs": [],
   "source": [
    "plt.clf()\n",
    "plt.plot(sses.k, sses.sse)\n",
    "plt.scatter(sses.k, sses.sse)\n",
    "plt.xticks([3,4,5,6,7,9,10])\n",
    "plt.xlabel(\"k\")\n",
    "plt.ylabel(\"sse\")\n",
    "plt.title(\"Elbow graph\")\n",
    "plt.show()"
   ]
  },
  {
   "cell_type": "code",
   "execution_count": null,
   "metadata": {},
   "outputs": [],
   "source": [
    "k_means_results[4].n_iter_"
   ]
  },
  {
   "cell_type": "markdown",
   "metadata": {},
   "source": [
    "Con 4 clusters se encuentra el *codo* sin embargo se identifica que con 5 o 6 *clusters* todavía hay una disminución en SSE, en este caso podemos corroborar con los expertos de negocio para identificar qué número de *clusters* puede ser más conveniente. \n",
    "\n",
    "#### Desventajas\n",
    "\n",
    "+ Saber el número de grupos *apriori*. A veces es muy costoso correr k-means con diferente número de *clusters*\n",
    "+ La inicialización aleatoria de los centroides cambia el resultado final y por lo tanto los grupos formados\n",
    "+ Un dato puede formar parte sólo de un grupo\n",
    "+ Sólo aplica a datos numéricos\n",
    "+ No es bueno para trabajar con datos ruidosos o con outliers\n",
    "+ No es apropiado para conjuntos de datos no lineales debido a que hace *esferas* a partir de los centroides. Los datos mostrados en la siguiente gráfica (tomada de [github dgrtwo](https://github.com/dgrtwo/dgrtwo.github.com/blob/master/_R/2015-01-16-kmeans-free-lunch.Rmd)) no pueden ser separados en 2 *clusters* debido a que una *esfera* esta contenida en la otra. \n",
    "\n",
    "![](../images/non_linear_kmeans.png)\n",
    "<br>\n",
    "Fuente: [Cross validated](https://stats.stackexchange.com/questions/133656/how-to-understand-the-drawbacks-of-k-means)\n",
    "\n",
    "K-Means haría algo asi: \n",
    "\n",
    "![](../images/non_linear_kmeans_2.png)\n",
    "<br>\n",
    "Fuente: [Cross validated](https://stats.stackexchange.com/questions/133656/how-to-understand-the-drawbacks-of-k-means)\n",
    "\n",
    "Existen algoritmos de agrupación jerárquicos que clasificarían correctamente las observaciones: \n",
    "\n",
    "![](../images/non_linear_data_hierarchical_clustering.png)\n",
    "<br>\n",
    "Fuente: [Cross validated](https://stats.stackexchange.com/questions/133656/how-to-understand-the-drawbacks-of-k-means)"
   ]
  },
  {
   "cell_type": "code",
   "execution_count": null,
   "metadata": {},
   "outputs": [],
   "source": []
  }
 ],
 "metadata": {
  "kernelspec": {
   "display_name": "itam",
   "language": "python",
   "name": "itam"
  },
  "language_info": {
   "codemirror_mode": {
    "name": "ipython",
    "version": 3
   },
   "file_extension": ".py",
   "mimetype": "text/x-python",
   "name": "python",
   "nbconvert_exporter": "python",
   "pygments_lexer": "ipython3",
   "version": "3.7.4"
  }
 },
 "nbformat": 4,
 "nbformat_minor": 4
}
